{
 "cells": [
  {
   "cell_type": "code",
   "execution_count": 1,
   "metadata": {},
   "outputs": [
    {
     "name": "stdout",
     "output_type": "stream",
     "text": [
      "3964\n"
     ]
    },
    {
     "name": "stderr",
     "output_type": "stream",
     "text": [
      "/home/trduong/anaconda3/envs/py27/lib/python2.7/site-packages/sklearn/ensemble/weight_boosting.py:29: DeprecationWarning: numpy.core.umath_tests is an internal NumPy module and should not be imported. It will be removed in a future NumPy release.\n",
      "  from numpy.core.umath_tests import inner1d\n"
     ]
    }
   ],
   "source": [
    "%matplotlib inline\n",
    "import matplotlib.pyplot as plt\n",
    "from off_pol_eval_functions import * \n",
    "import sys\n",
    "import numpy as np\n",
    "import scipy\n",
    "import scipy.stats\n",
    "from scipy.spatial.distance import cdist\n",
    "import csv\n",
    "from sklearn import tree\n",
    "from sklearn import linear_model, neighbors, ensemble, tree\n",
    "\n",
    "from warfarin_functions import * \n",
    "\n",
    "ntrs = np.arange(100,2501,100)\n",
    "runsper = 4\n",
    "runsperper = 25\n",
    "params = [ntr for ntr in ntrs for run in range(runsper)]\n",
    "\n",
    "myid = 0#int(sys.argv[1])\n",
    "# np.random.seed(myid)\n",
    "ntr = 1000#params[myid-1]\n",
    "\n",
    "f = open('warfrin.csv','rU')\n",
    "csvr = csv.reader(f, dialect=csv.excel)\n",
    "header = np.array(csvr.next())\n",
    "data   = list(csvr)\n",
    "f.close()\n",
    "\n",
    "# filter only to subjects that reached stable dose of warfarin\n",
    "# and stable observed INR\n",
    "data = [x for x in data if x[37]=='1' and x[38]!='NA' and x[39]!='NA']\n",
    "\n",
    "agegroups = sorted(set(x[8].replace('NA','') for x in data))\n",
    "\n",
    "xmap = lambda x: \\\n",
    "[\n",
    "    # gender 0\n",
    "    ('Male?',x[3]=='male'),\n",
    "    # race 1:4\n",
    "    ('White?',x[5]=='White'),\n",
    "    ('Asian?',x[5]=='Asian'),\n",
    "    ('Black?',x[5]=='Black or African American'),\n",
    "    # ethnicity 4\n",
    "    ('Non-hispanic?',x[7]=='not Hispanic or Latino'),\n",
    "    # age 5:7\n",
    "    ('Age group',agegroups.index(x[8]) if x[8] in agegroups else 0),\n",
    "    ('No age?',x[8] not in agegroups or agegroups.index(x[8]) == 0),\n",
    "    # height 7\n",
    "    ('Height',float(x[9]) if x[9] not in ('NA', '') else 0.),\n",
    "        # x[9] in ('NA', ''), # NA indicator\n",
    "    # weight 8\n",
    "    ('Weight',float(x[10]) if x[10] not in ('NA', '') else 0.),\n",
    "        # x[10] in ('NA', ''), # NA indicator\n",
    "    # BMI\n",
    "    ('BMI',float(x[10])*100.*100./float(x[9])/float(x[9]) if x[10] not in ('NA', '') and x[9] not in ('NA', '') else 0.),\n",
    "] + [# Indication for Warfarin Treatment 9:17\n",
    "    ('Indication for Warfarin Treatment: '+str(i), str(i) in x[11])\n",
    "    for i in range(1,9)\n",
    "# ] + [# comorbidities\n",
    "#     c in (y.strip() for y in x[12].lower().split('; '))\n",
    "#     for c in comorbidities\n",
    "] + [# diabetes 17:19\n",
    "    ('Diabetes=0?',x[13]=='0'),\n",
    "    ('Diabetes=1?',x[13]=='1'),\n",
    "] + [#Congestive Heart Failure and/or Cardiomyopathy 19:21\n",
    "    ('Congestive Heart Failure and/or Cardiomyopathy=0?',x[14]=='0'),\n",
    "    ('Congestive Heart Failure and/or Cardiomyopathy=1?',x[14]=='1'),\n",
    "] + [#Valve Replacement 21:23\n",
    "    ('Valve Replacement=0?',x[15]=='0'),\n",
    "    ('Valve Replacement=1?',x[15]=='1'),\n",
    "# ] + [# medications\n",
    "#   x[16]\n",
    "] + [\n",
    "    # Aspirin 24:26\n",
    "    ('aspirin=0?',x[17]=='0'),\n",
    "    ('aspirin=1?',x[17]=='1'),\n",
    "    # Acetaminophen or Paracetamol (Tylenol) 26:28\n",
    "    ('Acetaminophen=0?',x[18]=='0'),\n",
    "    ('Acetaminophen=1?',x[18]=='1'),\n",
    "    # Was Dose of Acetaminophen or Paracetamol (Tylenol) >1300mg/day 28:30\n",
    "    ('Acetaminophen hi dose=0?',x[19]=='0'),\n",
    "    ('Acetaminophen hi dose=1?',x[19]=='1'),\n",
    "    # Simvastatin (Zocor) 30:32\n",
    "    ('Simvastatin=0?',x[20]=='0'),\n",
    "    ('Simvastatin=1?',x[20]=='1'),\n",
    "    # Atorvastatin (Lipitor) 32:34\n",
    "    ('Simvastatin=0?',x[21]=='0'),\n",
    "    ('Simvastatin=1?',x[21]=='1'),\n",
    "    # Fluvastatin (Lescol) 34:36\n",
    "    ('Fluvastatin=0?',x[22]=='0'),\n",
    "    ('Fluvastatin=1?',x[22]=='1'),\n",
    "    # Lovastatin (Mevacor) 36:38\n",
    "    ('Lovastatin=0?',x[23]=='0'),\n",
    "    ('Lovastatin=1?',x[23]=='1'),\n",
    "    # Pravastatin (Pravachol) 38:40\n",
    "    ('Pravastatin=0?',x[24]=='0'),\n",
    "    ('Pravastatin=1?',x[24]=='1'),\n",
    "    # Rosuvastatin (Crestor) 40:42\n",
    "    ('Rosuvastatin=0?',x[25]=='0'),\n",
    "    ('Rosuvastatin=1?',x[25]=='1'),\n",
    "    # Cerivastatin (Baycol) 42:43\n",
    "    ('Cerivastatin=0?',x[26]=='0'),\n",
    "    ('Cerivastatin=1?',x[26]=='1'),\n",
    "    # Amiodarone (Cordarone)\n",
    "    ('Amiodarone=0?',x[27]=='0'),\n",
    "    ('Amiodarone=1?',x[27]=='1'),\n",
    "    # Carbamazepine (Tegretol)\n",
    "    ('Carbamazepine=0?',x[28]=='0'),\n",
    "    ('Carbamazepine=1?',x[28]=='1'),\n",
    "    # Phenytoin (Dilantin)\n",
    "    ('Phenytoin=0?',x[29]=='0'),\n",
    "    ('Phenytoin=1?',x[29]=='1'),\n",
    "    # Rifampin or Rifampicin\n",
    "    ('Rifampin=0?',x[30]=='0'),\n",
    "    ('Rifampin=1?',x[30]=='1'),\n",
    "    # Sulfonamide Antibiotics\n",
    "    ('Sulfonamide Antibiotics=0?',x[31]=='0'),\n",
    "    ('Sulfonamide Antibiotics=1?',x[31]=='1'),\n",
    "    # Macrolide Antibiotics\n",
    "    ('Macrolide Antibiotics=0?',x[32]=='0'),\n",
    "    ('Macrolide Antibiotics=1?',x[32]=='1'),\n",
    "    # Anti-fungal Azoles\n",
    "    ('Anti-fungal Azoles=0?',x[33]=='0'),\n",
    "    ('Anti-fungal Azoles=1?',x[33]=='1'),\n",
    "    # Herbal Medications, Vitamins, Supplements\n",
    "    ('Herbal Medications, Vitamins, Supplements=0?',x[34]=='0'),\n",
    "    ('Herbal Medications, Vitamins, Supplements=1?',x[34]=='1'),\n",
    "] + [\n",
    "    #smoker\n",
    "    ('Smoker=0?',x[40]=='0'),\n",
    "    ('Smoker=0?',x[40]=='1'),\n",
    "] + [\n",
    "    # CYP2C9 consensus\n",
    "    ('CYP2C9 *1/*1',x[59]=='*1/*1'),\n",
    "    ('CYP2C9 *1/*2',x[59]=='*1/*2'),\n",
    "    ('CYP2C9 *1/*3',x[59]=='*1/*3'),\n",
    "    ('CYP2C9 NA',x[59]=='' or x[59]=='NA'),\n",
    "    # VKORC1 -1639 consensus\n",
    "    ('VKORC1 -1639 A/A',x[60]=='A/A'),\n",
    "    ('VKORC1 -1639 A/G',x[60]=='A/G'),\n",
    "    ('VKORC1 -1639 G/G',x[60]=='G/G'),\n",
    "    # VKORC1 497 consensus\n",
    "    ('VKORC1 497 T/T',x[61]=='T/T'),\n",
    "    ('VKORC1 497 G/T',x[61]=='G/T'),\n",
    "    ('VKORC1 497 G/G',x[61]=='G/G'),\n",
    "    # VKORC1 1173 consensus\n",
    "    ('VKORC1 1173 T/T',x[62]=='T/T'),\n",
    "    ('VKORC1 1173 C/T',x[62]=='C/T'),\n",
    "    ('VKORC1 1173 C/C',x[62]=='C/C'),\n",
    "    # VKORC1 1542 consensus\n",
    "    ('VKORC1 1542 C/C',x[63]=='C/C'),\n",
    "    ('VKORC1 1542 C/G',x[63]=='C/G'),\n",
    "    ('VKORC1 1542 G/G',x[63]=='G/G'),\n",
    "    # VKORC1 3730 consensus\n",
    "    ('VKORC1 3730 A/A',x[64]=='A/A'),\n",
    "    ('VKORC1 3730 A/G',x[64]=='A/G'),\n",
    "    ('VKORC1 3730 G/G',x[64]=='G/G'),\n",
    "    # VKORC1 2255 consensus\n",
    "    ('VKORC1 2255 C/C',x[65]=='C/C'),\n",
    "    ('VKORC1 2255 C/T',x[65]=='C/T'),\n",
    "    ('VKORC1 2255 T/T',x[65]=='T/T'),\n",
    "    # VKORC1 -4451 consensus\n",
    "    ('VKORC1 -4451 C/C',x[66]=='C/C'),\n",
    "    ('VKORC1 -4451 A/C',x[66]=='A/C'),\n",
    "    ('VKORC1 -4451 A/A',x[66]=='A/A')\n",
    "#     ,\n",
    "#     ('Therapeutic Dose',float(x[38]) if x[38] not in ('NA', '') else 0.),\n",
    "#     ('INR On Therapeutic Dose',float(x[39]) if x[39] not in ('NA', '') else 0.),\n",
    "#     ('Target INR', float(x[35]) if x[35] not in ('NA', '') else 0. )\n",
    "]\n",
    "\n",
    "X       = np.array([zip(*xmap(x))[1] for x in data])\n",
    "Xnames  = np.array(zip(*xmap(data[0]))[0])\n",
    "goodidx = np.where( (X.std(0)>=.05)  )[0] #np.sort(np.hstack((np.where(X.std(0)>=.05)[0],np.where(Xnames=='BMI')[0])))\n",
    "X       = X[:,goodidx]\n",
    "Xnames  = Xnames[goodidx]\n",
    "# filter out by where BMI is nonzero \n",
    "goodbmi = np.where( (X[:,9] > 0.003) )[0]\n",
    "X       = X[goodbmi,:]\n",
    "# ytarget = np.array([float(x[38]) for x in data])/7.\n",
    "\n",
    "target_INR = np.array([float(x[35]) if x[35] not in ('NA', '') else 0. for x in data])\n",
    "therapeut_dose = np.array([float(x[38]) if x[38] not in ('NA', '') else 0. for x in data])\n",
    "obs_INR = np.array([float(x[39]) if x[39] not in ('NA', '') else 0. for x in data])\n",
    "\n",
    "target_INR = target_INR[goodbmi]; therapeut_dose = therapeut_dose[goodbmi]; obs_INR = obs_INR[goodbmi]\n",
    "\n",
    "n = X.shape[0]\n",
    "print n"
   ]
  },
  {
   "cell_type": "markdown",
   "metadata": {},
   "source": [
    "International Normalised Ratio (INR) testing is well established as an integral part of warfarin treatment. INR has a critical role in maintaining the warfarin response within a therapeutic range, to provide the benefits of anticoagulation, while avoiding the risks of haemorrhage (Figure 1).\n",
    "\n",
    "The INR is defined as\n",
    "\n",
    "$$ INR =\\left( \\frac{\\text{Patient Prothrombin Time (sec)}}{\\text{Local Geometric Mean Prothrombin Time (sec)}}\\right)^{ISI} $$\n",
    "\n",
    "http://www.bpac.org.nz/BT/2010/November/inr.aspx\n",
    "\n",
    "In most situations the INR target is 2.5 (target range 2.0 – 3.0). This range is appropriate for the prophylaxis or treatment of venous thromboembolism and reduction of the risk of systemic embolism for people with atrial fibrillation and valvular heart disease.5 In some situations higher ranges are more appropriate. The target INR may vary depending on individual clinical situations. The target INR for mechanical prosthetic valves is dependent on the type of valve replacement used.6\n",
    "\n"
   ]
  },
  {
   "cell_type": "markdown",
   "metadata": {},
   "source": [
    "### Semi-simulated dosages\n",
    "\n",
    "We can generate semi-simulated dosages from the true therapeutic dose by modeling dosage as a function of BMI and perturbing with some noise via a mixture model: \n",
    "\n",
    "$$T_i' = \\mu_{T^*} + \\sigma_{T^*} \\sqrt{\\theta} \\frac{x_{BMI}- \\mu_{BMI}}{\\sigma_{BMI}} + \\sqrt{(1 - \\theta)} \\sigma_{T^*} \\epsilon$$\n",
    "\n",
    "Suppose that the counterfactual outcome is given by a quadratic penalty to the INR outcome of the observed therapeutic dose: \n",
    "\n",
    "$$y_i' = y_i^* + \\frac{(T_i' - T_i)^2sgn(T_i' - T_i)}{max(T_i^2, T_i'^2)}$$\n",
    "\n",
    "This model also yields the propensity score for assigning the counterfactual dose. \n",
    "### Propensity score given our treatment generation model from BMI : \n",
    "   \n",
    "where $\\epsilon \\sim N(0,1)$ and $Z_{BMI} = \\frac{x_{BMI} - \\mu_{BMI}}{\\sigma_{BMI}}$\n",
    "\n",
    "$$ \\mathbb{P}[T_i'=t \\mid x_{bmi} ] = \\mathbb{P}\\left[\\epsilon = \\frac{t - \\mu_T^* - \\sigma_T^* \\sqrt{\\theta}Z_{BMI}}{\\sqrt{1 - \\theta}} \\right]$$\n",
    "\n",
    "\n",
    "### Dosing policy evaluation and optimization \n",
    "\n",
    "In any observational dataset, we will not have access to the full counterfactual distribution of outcomes. Previous analysis of the Warfarin dataset has focused on predicting being in a discrete bin of the \"correct\" therapeutic dose, e.g. Hamsa Bastani, Bertsimas/Kallus introducing 0-1 loss for being in the same bin. Other work (Chen, Zeng, Kosorok) look at a direct model of the outcome and directly penalize \n",
    "\n",
    "We leverage the rich previous study of the impacts of warfarin dosing, treating these models and analyses as \"oracle information\" we use to simulate realistic outcome data. We consider previous studies analyzing the effect that different INR levels have on the odds ratios for complications including ischemic stroke and hemorrhagic complications. The intensity of anticoagulation induced by warfarin therapy trades off between decreased stroke prevention at low levels of INR (less effective anticoagulation), and increased risk of intracranial bleeding in over-anticoagulation regimes. Various factors such as patient age and pre-existing health conditions (previous stroke) affect patient risk in ways that have been previously studied, but we do not directly account for in this simulated study.\n",
    "\n",
    "Proposed model: \n",
    "\n",
    "* Generate simulated doses as $T_i' = \\mu_{T^*} + \\sigma_{T^*} \\sqrt{\\theta} \\frac{x_{BMI}- \\mu_{BMI}}{\\sigma_{BMI}} + \\sqrt{(1 - \\theta)} \\sigma_{T^*} \\epsilon$\n",
    "* Simulate INR response to dose adjustment (inversion of dosage guidelines) <https://depts.washington.edu/anticoag/home/content/warfarin-maintenance-dosing-nomogram>: $\\hat{y}(T_i')$\n",
    "* Compute expected risk as a function of how the odds ratio is affected by INR [ACC/AHA/ESC 2006 guidelines for the management of patients with atrial fibrillation](https://academic.oup.com/europace/article/8/9/651/530495/ACC-AHA-ESC-2006-guidelines-for-the-management-of): $R(\\hat{y}(T_i')$\n",
    "* Compare $R(\\hat{y}(\\tau(X_i))$ across policies $\\tau$\n",
    "\n",
    "\n",
    "Optimization Question: \n",
    "\n",
    "If one generates a dataset of simulated dose adjustments and INR responses in this fashion, can you recover the therapeutic dose (or an optimal linear treatment policy which is similar) if you do off-policy optimization? What kind of treatment policy does the optimization return? \n"
   ]
  },
  {
   "cell_type": "code",
   "execution_count": 4,
   "metadata": {},
   "outputs": [],
   "source": [
    "def simulated_loss(sim_dose, therapeut_dose, obs_INR):\n",
    "    return (np.abs(therapeut_dose - sim_dose))+ np.random.normal()*0.1*mu_dose"
   ]
  },
  {
   "cell_type": "code",
   "execution_count": 5,
   "metadata": {},
   "outputs": [
    {
     "name": "stdout",
     "output_type": "stream",
     "text": [
      "17.013676277413794\n",
      "17.21068727968127\n",
      "[36.44625628 39.76205743 30.56830155 ... 27.92877481 30.83598384\n",
      " 18.31584311]\n"
     ]
    },
    {
     "data": {
      "image/png": "[encoded data removed]",
      "text/plain": [
       "<Figure size 432x288 with 1 Axes>"
      ]
     },
     "metadata": {
      "needs_background": "light"
     },
     "output_type": "display_data"
    }
   ],
   "source": [
    "# Global values \n",
    "mu_dose = np.mean(therapeut_dose)\n",
    "std_dose = np.std(therapeut_dose)\n",
    "mu_bmi = np.mean(X[:,9])\n",
    "std_bmi = np.std(X[:,9])\n",
    "\n",
    "# regr = linear_model.LinearRegression()\n",
    "# regr.fit(X[:,9].reshape([n,1]), therapeut_dose.reshape([n,1]))\n",
    "\n",
    "theta = 0.5\n",
    "eps = np.random.normal(size=n)\n",
    "\n",
    "# eps = np.random.randn(n)\n",
    "bmi_Z = (X[:,9] - mu_bmi)/std_bmi\n",
    "\n",
    "# fit on centered model\n",
    "regr = linear_model.LinearRegression(fit_intercept = False)\n",
    "regr.fit(bmi_Z.reshape([n,1]), therapeut_dose.reshape([n,1]))\n",
    "\n",
    "\n",
    "sim_dose = mu_dose  + (np.sqrt(theta)*bmi_Z*std_dose + np.sqrt(1-theta)*std_dose*eps) \n",
    "sim_dose[sim_dose < 0 ] = - sim_dose[sim_dose < 0 ] \n",
    "print np.std(sim_dose)\n",
    "print std_dose \n",
    "\n",
    "plt.hist(therapeut_dose[therapeut_dose<150],alpha=0.5,color='g',label= 'true_dose', normed=True)\n",
    "plt.hist(sim_dose,alpha = 0.5, label = \"simulated dosage\", normed=True)\n",
    "plt.legend()\n",
    "\n",
    "y_counter = np.asarray(simulated_loss(sim_dose, therapeut_dose, obs_INR))\n",
    "print y_counter\n",
    "\n"
   ]
  },
  {
   "cell_type": "markdown",
   "metadata": {},
   "source": [
    "## Propensity score given our treatment generation model from BMI : \n",
    "   \n",
    "where $\\epsilon \\sim N(0,1)$ and $Z_{BMI} = \\frac{x_{BMI} - \\mu_{BMI}}{\\sigma_{BMI}}$\n",
    "\n",
    "$$ \\mathbb{P}[T_i'=t \\mid x_{bmi} ] = \\mathbb{P}\\left[\\epsilon = \\frac{t - \\mu_T^* - \\sigma_T^* \\sqrt{\\theta}Z_{BMI}}{\\sqrt{1 - \\theta}} \\right]$$"
   ]
  },
  {
   "cell_type": "code",
   "execution_count": 7,
   "metadata": {},
   "outputs": [
    {
     "name": "stdout",
     "output_type": "stream",
     "text": [
      "8.569864487260983e-07\n"
     ]
    },
    {
     "ename": "NameError",
     "evalue": "name 'epanechnikov_int' is not defined",
     "output_type": "error",
     "traceback": [
      "\u001b[0;31m---------------------------------------------------------------------------\u001b[0m",
      "\u001b[0;31mNameError\u001b[0m                                 Traceback (most recent call last)",
      "\u001b[0;32m<ipython-input-7-fe4087b7c78f>\u001b[0m in \u001b[0;36m<module>\u001b[0;34m()\u001b[0m\n\u001b[1;32m     17\u001b[0m \u001b[0mdata\u001b[0m\u001b[0;34m[\u001b[0m\u001b[0;34m'tau'\u001b[0m\u001b[0;34m]\u001b[0m \u001b[0;34m=\u001b[0m \u001b[0msim_dose\u001b[0m\u001b[0;34m\u001b[0m\u001b[0m\n\u001b[1;32m     18\u001b[0m \u001b[0mdata\u001b[0m\u001b[0;34m[\u001b[0m\u001b[0;34m'h'\u001b[0m\u001b[0;34m]\u001b[0m \u001b[0;34m=\u001b[0m \u001b[0;36m3\u001b[0m\u001b[0;34m;\u001b[0m \u001b[0mdata\u001b[0m\u001b[0;34m[\u001b[0m\u001b[0;34m'n_bins'\u001b[0m\u001b[0;34m]\u001b[0m \u001b[0;34m=\u001b[0m \u001b[0;36m10\u001b[0m\u001b[0;34m\u001b[0m\u001b[0m\n\u001b[0;32m---> 19\u001b[0;31m \u001b[0mdata\u001b[0m\u001b[0;34m[\u001b[0m\u001b[0;34m'kernel_int_func'\u001b[0m\u001b[0;34m]\u001b[0m \u001b[0;34m=\u001b[0m \u001b[0mepanechnikov_int\u001b[0m\u001b[0;34m\u001b[0m\u001b[0m\n\u001b[0m\u001b[1;32m     20\u001b[0m \u001b[0mdata\u001b[0m\u001b[0;34m[\u001b[0m\u001b[0;34m'kernel_func'\u001b[0m\u001b[0;34m]\u001b[0m \u001b[0;34m=\u001b[0m \u001b[0mepanechnikov_kernel\u001b[0m\u001b[0;34m\u001b[0m\u001b[0m\n\u001b[1;32m     21\u001b[0m \u001b[0mdata\u001b[0m\u001b[0;34m[\u001b[0m\u001b[0;34m'oracle_func'\u001b[0m\u001b[0;34m]\u001b[0m \u001b[0;34m=\u001b[0m \u001b[0mcounterfactual_y_eval\u001b[0m\u001b[0;34m\u001b[0m\u001b[0m\n",
      "\u001b[0;31mNameError\u001b[0m: name 'epanechnikov_int' is not defined"
     ]
    }
   ],
   "source": [
    "# Add to param dictionary: \n",
    "# therapeutic dose (\"oracle values\") \n",
    "# observed INR  (\"oracle values\")\n",
    "#! FIXME will require global access to therapeutic doses/ \n",
    "def generated_Q(bmi, T, theta, NULL): \n",
    "    # centeredaround mu_dose with scale stddev of dose\n",
    "    theta = 0.5\n",
    "    Z_bmi = (bmi-mu_bmi)/std_bmi\n",
    "    return norm.pdf( T, loc = mu_dose + std_dose*np.sqrt(theta)*Z_bmi, scale = np.sqrt(1-theta) )\n",
    "\n",
    "print generated_Q(30,40,0.9,std_dose)\n",
    "\n",
    "d = 1\n",
    "t_lo =0\n",
    "t_hi = max(therapeut_dose)\n",
    "data = { 'n': n, 'y': obs_INR,'Q': generated_Q, 'x': X[:,9],'x_samp':X[:,9],  'd': d, 'T': therapeut_dose,'t_lo': t_lo ,'t_hi': t_hi  }\n",
    "data['tau'] = sim_dose\n",
    "data['h'] = 3; data['n_bins'] = 10\n",
    "data['kernel_int_func'] = epanechnikov_int\n",
    "data['kernel_func'] = epanechnikov_kernel\n",
    "data['oracle_func'] = counterfactual_y_eval\n",
    "data['threshold'] = 0.01 \n",
    "print np.mean(counterfactual_y_eval(**data))\n",
    "\n",
    "print off_policy_evaluation(**data)\n"
   ]
  },
  {
   "cell_type": "code",
   "execution_count": 8,
   "metadata": {},
   "outputs": [
    {
     "name": "stdout",
     "output_type": "stream",
     "text": [
      "23.659662705000006\n"
     ]
    }
   ],
   "source": [
    "'''\n",
    "Systematically evaluate over a treatment space defined by a linear treatment policy\n",
    "'''\n",
    "n_trials = 10\n",
    "n_treatments = 10\n",
    "t_lo = 0 ; t_hi = max(therapeut_dose) \n",
    "print t_hi / np.min(X[:,9])\n",
    "beta_space = np.linspace(0.5,2, n_treatments)\n",
    "off_pol_evals = np.zeros(n_treatments)\n",
    "oracle_evals = np.zeros(n_treatments)\n",
    "discrete_off_pol_evals = np.zeros(n_treatments)\n",
    "\n",
    "def simulated_loss(sim_dose, therapeut_dose, obs_INR):\n",
    "    return (np.abs(therapeut_dose - sim_dose))+ np.random.normal()*0.1*mu_dose\n",
    "\n",
    "\n",
    "data['y'] = simulated_loss(sim_dose, therapeut_dose, obs_INR)\n",
    "data['y_samp'] = simulated_loss(sim_dose, therapeut_dose, obs_INR)\n",
    "data['T_samp'] = sim_dose \n",
    "\n",
    "# for beta_ind, beta in enumerate(beta_space):\n",
    "#     tau = np.clip(beta*data['x'] , t_lo, t_hi).flatten()\n",
    "#     data['tau'] = tau\n",
    "#     oracle_evals[beta_ind] = np.mean(simulated_loss(tau, therapeut_dose, obs_INR))\n",
    "#     off_pol_evals[beta_ind] = off_policy_evaluation(**data)\n",
    "#     discrete_off_pol_evals[beta_ind] = off_pol_disc_evaluation(discretize_tau_policy , **data)\n",
    "\n"
   ]
  },
  {
   "cell_type": "code",
   "execution_count": 9,
   "metadata": {},
   "outputs": [
    {
     "data": {
      "text/plain": [
       "<matplotlib.collections.PathCollection at 0x2b1bbeee7c90>"
      ]
     },
     "execution_count": 9,
     "metadata": {},
     "output_type": "execute_result"
    },
    {
     "data": {
      "image/png": "[encoded data removed]",
      "text/plain": [
       "<Figure size 432x288 with 1 Axes>"
      ]
     },
     "metadata": {
      "needs_background": "light"
     },
     "output_type": "display_data"
    }
   ],
   "source": [
    "plt.scatter(beta_space, oracle_evals,color='b')\n",
    "plt.scatter(beta_space, off_pol_evals,color='g')"
   ]
  },
  {
   "cell_type": "markdown",
   "metadata": {},
   "source": [
    "## Train a more sophisticated model with more covariates"
   ]
  },
  {
   "cell_type": "code",
   "execution_count": 10,
   "metadata": {},
   "outputs": [
    {
     "ename": "TypeError",
     "evalue": "'float' object cannot be interpreted as an index",
     "output_type": "error",
     "traceback": [
      "\u001b[0;31m---------------------------------------------------------------------------\u001b[0m",
      "\u001b[0;31mTypeError\u001b[0m                                 Traceback (most recent call last)",
      "\u001b[0;32m<ipython-input-10-ec6a4a795e2c>\u001b[0m in \u001b[0;36m<module>\u001b[0;34m()\u001b[0m\n\u001b[1;32m      5\u001b[0m \u001b[0;31m# subXnames = Xnames\u001b[0m\u001b[0;34m\u001b[0m\u001b[0;34m\u001b[0m\u001b[0m\n\u001b[1;32m      6\u001b[0m \u001b[0md\u001b[0m \u001b[0;34m=\u001b[0m \u001b[0msubframe\u001b[0m\u001b[0;34m.\u001b[0m\u001b[0mshape\u001b[0m\u001b[0;34m[\u001b[0m\u001b[0;36m1\u001b[0m\u001b[0;34m]\u001b[0m\u001b[0;34m\u001b[0m\u001b[0m\n\u001b[0;32m----> 7\u001b[0;31m \u001b[0mtrainind\u001b[0m \u001b[0;34m=\u001b[0m \u001b[0mnp\u001b[0m\u001b[0;34m.\u001b[0m\u001b[0mrandom\u001b[0m\u001b[0;34m.\u001b[0m\u001b[0mchoice\u001b[0m\u001b[0;34m(\u001b[0m\u001b[0mrange\u001b[0m\u001b[0;34m(\u001b[0m\u001b[0mn\u001b[0m\u001b[0;34m)\u001b[0m\u001b[0;34m,\u001b[0m\u001b[0msize\u001b[0m \u001b[0;34m=\u001b[0m  \u001b[0mround\u001b[0m\u001b[0;34m(\u001b[0m\u001b[0;36m0.8\u001b[0m\u001b[0;34m*\u001b[0m\u001b[0mn\u001b[0m\u001b[0;34m)\u001b[0m\u001b[0;34m,\u001b[0m\u001b[0mreplace\u001b[0m \u001b[0;34m=\u001b[0m \u001b[0mFalse\u001b[0m\u001b[0;34m)\u001b[0m\u001b[0;34m\u001b[0m\u001b[0m\n\u001b[0m\u001b[1;32m      8\u001b[0m \u001b[0mtrain\u001b[0m \u001b[0;34m=\u001b[0m \u001b[0msubframe\u001b[0m\u001b[0;34m[\u001b[0m\u001b[0mtrainind\u001b[0m\u001b[0;34m]\u001b[0m\u001b[0;34m\u001b[0m\u001b[0m\n\u001b[1;32m      9\u001b[0m \u001b[0mtest_mask\u001b[0m \u001b[0;34m=\u001b[0m \u001b[0mnp\u001b[0m\u001b[0;34m.\u001b[0m\u001b[0mones\u001b[0m\u001b[0;34m(\u001b[0m\u001b[0mn\u001b[0m\u001b[0;34m,\u001b[0m \u001b[0mdtype\u001b[0m\u001b[0;34m=\u001b[0m\u001b[0mbool\u001b[0m\u001b[0;34m)\u001b[0m\u001b[0;34m\u001b[0m\u001b[0m\n",
      "\u001b[0;32mmtrand.pyx\u001b[0m in \u001b[0;36mmtrand.RandomState.choice\u001b[0;34m()\u001b[0m\n",
      "\u001b[0;31mTypeError\u001b[0m: 'float' object cannot be interpreted as an index"
     ]
    }
   ],
   "source": [
    "train_var = [5,9]+range(18,40)\n",
    "subframe = X[:,[5,9]+range(18,40)]\n",
    "subXnames = Xnames[[5,9]+range(18,40)]\n",
    "# subframe = X \n",
    "# subXnames = Xnames\n",
    "d = subframe.shape[1]\n",
    "trainind = np.random.choice(range(n),size =  round(0.8*n),replace = False)\n",
    "train = subframe[trainind]\n",
    "test_mask = np.ones(n, dtype=bool)\n",
    "test_mask[trainind] = False\n",
    "test = subframe[test_mask,:]\n",
    "\n",
    "y = simulated_loss(sim_dose[trainind], therapeut_dose[trainind], obs_INR[trainind])\n",
    "def generated_Q_multid_X(x,t,t_lo,t_hi): \n",
    "    return generated_Q(x,t,t_lo,t_hi)\n"
   ]
  },
  {
   "cell_type": "markdown",
   "metadata": {},
   "source": [
    "## Load full dataframe"
   ]
  },
  {
   "cell_type": "code",
   "execution_count": 11,
   "metadata": {},
   "outputs": [
    {
     "ename": "NameError",
     "evalue": "name 'trainind' is not defined",
     "output_type": "error",
     "traceback": [
      "\u001b[0;31m---------------------------------------------------------------------------\u001b[0m",
      "\u001b[0;31mNameError\u001b[0m                                 Traceback (most recent call last)",
      "\u001b[0;32m<ipython-input-11-9f1483404c46>\u001b[0m in \u001b[0;36m<module>\u001b[0;34m()\u001b[0m\n\u001b[0;32m----> 1\u001b[0;31m \u001b[0my\u001b[0m \u001b[0;34m=\u001b[0m \u001b[0msimulated_loss\u001b[0m\u001b[0;34m(\u001b[0m\u001b[0msim_dose\u001b[0m\u001b[0;34m[\u001b[0m\u001b[0mtrainind\u001b[0m\u001b[0;34m]\u001b[0m\u001b[0;34m,\u001b[0m \u001b[0mtherapeut_dose\u001b[0m\u001b[0;34m[\u001b[0m\u001b[0mtrainind\u001b[0m\u001b[0;34m]\u001b[0m\u001b[0;34m,\u001b[0m \u001b[0mobs_INR\u001b[0m\u001b[0;34m[\u001b[0m\u001b[0mtrainind\u001b[0m\u001b[0;34m]\u001b[0m\u001b[0;34m)\u001b[0m\u001b[0;34m\u001b[0m\u001b[0m\n\u001b[0m\u001b[1;32m      2\u001b[0m \u001b[0mh\u001b[0m\u001b[0;34m=\u001b[0m\u001b[0;36m4\u001b[0m\u001b[0;34m\u001b[0m\u001b[0m\n\u001b[1;32m      3\u001b[0m \u001b[0md\u001b[0m \u001b[0;34m=\u001b[0m \u001b[0mX\u001b[0m\u001b[0;34m.\u001b[0m\u001b[0mshape\u001b[0m\u001b[0;34m[\u001b[0m\u001b[0;36m1\u001b[0m\u001b[0;34m]\u001b[0m\u001b[0;34m\u001b[0m\u001b[0m\n\u001b[1;32m      4\u001b[0m \u001b[0mtrain_data\u001b[0m \u001b[0;34m=\u001b[0m \u001b[0;34m{\u001b[0m \u001b[0;34m'n'\u001b[0m\u001b[0;34m:\u001b[0m \u001b[0mtrain\u001b[0m\u001b[0;34m.\u001b[0m\u001b[0mshape\u001b[0m\u001b[0;34m[\u001b[0m\u001b[0;36m0\u001b[0m\u001b[0;34m]\u001b[0m\u001b[0;34m,\u001b[0m\u001b[0;34m'h'\u001b[0m\u001b[0;34m:\u001b[0m \u001b[0mh\u001b[0m\u001b[0;34m,\u001b[0m \u001b[0;34m'y'\u001b[0m\u001b[0;34m:\u001b[0m \u001b[0mobs_INR\u001b[0m\u001b[0;34m,\u001b[0m\u001b[0;34m'Q'\u001b[0m\u001b[0;34m:\u001b[0m \u001b[0mgenerated_Q_multid_X\u001b[0m\u001b[0;34m,\u001b[0m\u001b[0;34m'x_full'\u001b[0m\u001b[0;34m:\u001b[0m \u001b[0mX\u001b[0m\u001b[0;34m,\u001b[0m \u001b[0;34m'x'\u001b[0m\u001b[0;34m:\u001b[0m \u001b[0mX\u001b[0m\u001b[0;34m,\u001b[0m\u001b[0;34m'x_samp'\u001b[0m\u001b[0;34m:\u001b[0m \u001b[0mX\u001b[0m\u001b[0;34m[\u001b[0m\u001b[0mtrainind\u001b[0m\u001b[0;34m,\u001b[0m\u001b[0;34m:\u001b[0m\u001b[0;34m]\u001b[0m\u001b[0;34m,\u001b[0m  \u001b[0;34m'd'\u001b[0m\u001b[0;34m:\u001b[0m \u001b[0md\u001b[0m\u001b[0;34m,\u001b[0m \u001b[0;34m'T'\u001b[0m\u001b[0;34m:\u001b[0m \u001b[0mtherapeut_dose\u001b[0m\u001b[0;34m[\u001b[0m\u001b[0mtrainind\u001b[0m\u001b[0;34m]\u001b[0m\u001b[0;34m,\u001b[0m\u001b[0;34m't_lo'\u001b[0m\u001b[0;34m:\u001b[0m \u001b[0mt_lo\u001b[0m \u001b[0;34m,\u001b[0m\u001b[0;34m't_hi'\u001b[0m\u001b[0;34m:\u001b[0m \u001b[0mt_hi\u001b[0m  \u001b[0;34m}\u001b[0m\u001b[0;34m\u001b[0m\u001b[0m\n\u001b[1;32m      5\u001b[0m \u001b[0mtrain_data\u001b[0m\u001b[0;34m[\u001b[0m\u001b[0;34m'kernel_int_func'\u001b[0m\u001b[0;34m]\u001b[0m \u001b[0;34m=\u001b[0m \u001b[0mepanechnikov_int\u001b[0m\u001b[0;34m\u001b[0m\u001b[0m\n",
      "\u001b[0;31mNameError\u001b[0m: name 'trainind' is not defined"
     ]
    }
   ],
   "source": [
    "y = simulated_loss(sim_dose[trainind], therapeut_dose[trainind], obs_INR[trainind])\n",
    "h=4\n",
    "d = X.shape[1]\n",
    "train_data = { 'n': train.shape[0],'h': h, 'y': obs_INR,'Q': generated_Q_multid_X,'x_full': X, 'x': X,'x_samp': X[trainind,:],  'd': d, 'T': therapeut_dose[trainind],'t_lo': t_lo ,'t_hi': t_hi  }\n",
    "train_data['kernel_int_func'] = epanechnikov_int\n",
    "train_data['T_samp'] = np.array(sim_dose[trainind],order='F'); train_data['y_samp'] = np.array(simulated_loss(sim_dose[trainind], therapeut_dose[trainind], obs_INR[trainind]),order='F')\n",
    "train_data['kernel_func'] = epanechnikov_kernel\n",
    "train_data['DATA_TYPE'] = 'warfarin'\n",
    "train_data['BMI_IND'] = 9\n",
    "train_data['inds'] = trainind\n",
    "train_data['threshold'] = 0.01\n",
    "\n",
    "bounds = [(0, np.mean(therapeut_dose)/np.mean(X[:,i])) for i in range(d) ]\n",
    "bnds = tuple(tuple(x) for x in bounds)"
   ]
  },
  {
   "cell_type": "markdown",
   "metadata": {},
   "source": [
    "### load subframe data (temporary)"
   ]
  },
  {
   "cell_type": "code",
   "execution_count": null,
   "metadata": {},
   "outputs": [],
   "source": [
    "\n",
    "y = simulated_loss(sim_dose[trainind], therapeut_dose[trainind], obs_INR[trainind])\n",
    "d = subframe.shape[1]\n",
    "train_data = { 'n': train.shape[0],'h': 4, 'y': obs_INR,'Q': generated_Q,'x_full': subframe, 'x': np.array(train,order='F'),'x_samp': np.array(train,order='F'), 'T_samp': sim_dose[trainind], 'd': d, 'T': therapeut_dose[trainind],'t_lo': t_lo ,'t_hi': t_hi  }\n",
    "train_data['kernel_int_func'] = epanechnikov_int\n",
    "train_data['T_samp'] = np.array(sim_dose[trainind],order='F'); train_data['y_samp'] = np.array(simulated_loss(sim_dose[trainind], therapeut_dose[trainind], obs_INR[trainind]),order='F')\n",
    "train_data['kernel_func'] = epanechnikov_kernel\n",
    "train_data['DATA_TYPE'] = 'warfarin'\n",
    "train_data['BMI_IND'] = 1\n",
    "train_data['inds'] = trainind\n",
    "train_data['threshold'] = 0.01\n",
    "\n",
    "bounds = [(0, np.mean(therapeut_dose)/np.mean(subframe[:,i])) for i in range(d) ]\n",
    "bnds = tuple(tuple(x) for x in bounds)"
   ]
  },
  {
   "cell_type": "code",
   "execution_count": null,
   "metadata": {},
   "outputs": [],
   "source": [
    "import pickle\n",
    "t_lo = 0 \n",
    "t_hi = max(therapeut_dose)\n",
    "\n",
    "beta_d = np.random.rand(d)\n",
    "h = 10\n",
    "n_train = train.shape[0]\n",
    "# train_data['oracle_func'] = counterfactual_y_eval\n",
    "\n",
    "def pol_eval_wrapper(beta, args): \n",
    "    data = dict(args)\n",
    "    t_lo = data['t_lo']; t_hi = data['t_hi']\n",
    "    tau = np.clip(np.dot(beta, data['x'].T) , t_lo, t_hi).flatten()\n",
    "    data['tau'] = tau\n",
    "    return off_policy_evaluation(**data)\n",
    "\n",
    "def oracle_eval_wrapper(beta, args): \n",
    "    data = dict(args)\n",
    "    t_lo = data['t_lo']; t_hi = data['t_hi']\n",
    "    tau = np.clip(np.dot(beta, data['x'].T) , t_lo, t_hi).flatten()\n",
    "    return np.mean( simulated_loss(tau,therapeut_dose,obs_INR) )\n",
    "\n",
    "# print off_pol_epan_lin_grad(beta_d, train_data)\n",
    "LAMBDA = 0.4\n",
    "def var_regularized_pol_eval_wrapper(beta, args): \n",
    "    data = dict(args)\n",
    "    t_lo = data['t_lo']; t_hi = data['t_hi']\n",
    "    tau = np.clip(np.dot(beta, data['x'].T) , t_lo, t_hi).flatten()\n",
    "    data['tau'] = tau\n",
    "    return off_policy_evaluation(**data) + LAMBDA * np.linalg.norm(beta,2) + LAMBDA * off_policy_variance(**data)\n",
    "\n",
    "def var_regularized_oracle_wrapper(beta, args): \n",
    "    data = dict(args)\n",
    "    t_lo = data['t_lo']; t_hi = data['t_hi']\n",
    "    tau = np.clip(np.dot(beta, data['x'].T) , t_lo, t_hi).flatten()\n",
    "    return np.mean( simulated_loss(tau,therapeut_dose,obs_INR) )\n",
    "\n",
    "def off_pol_var_lin_grad(beta, *args):\n",
    "    \"\"\"\n",
    "    Compute a gradient for special case of Epanechnikov kernel and linear policy tau\n",
    "    \"\"\"\n",
    "    \n",
    "    d = len(beta) \n",
    "    params = dict(args[0]); n = params['n']\n",
    "    THRESH = params['threshold']\n",
    "    y_out = params['y']; x = params['x']; h = params['h'];Q = params['Q']; n = params['n']; t_lo = params['t_lo'];  t_hi = params['t_hi']\n",
    "    kernel = params['kernel_func'];kernel_int =  params['kernel_int_func']\n",
    "    y_out = params['y_samp']; T = params['T_samp']; x = params['x_samp']\n",
    " \n",
    "    #! FIXME x vs xsamp\n",
    "    tau = np.dot(beta, params['x'].T)\n",
    "    params['tau'] = tau; params['beta'] = beta\n",
    "    clip_tau = np.clip(tau, t_lo, t_hi)\n",
    "    BMI_IND = params.get('BMI_IND'); THRESH = params['threshold'] # propensity score for warfarin data evaluations \n",
    "    \n",
    "\n",
    "    [f, g, nabla_f, nabla_g] = f_g(**params)\n",
    "    # compute gradient vector via quotient rule\n",
    "    if g < THRESH: \n",
    "        g = THRESH  \n",
    "    grad_estimator = np.asarray((g*nabla_f - f*nabla_g) / g**2 )\n",
    "    var_grad = -1*f *grad_estimator\n",
    "    var_grad_term1 = 0 \n",
    "    for i in range(n): \n",
    "        if (params.get('DATA_TYPE') == 'warfarin'): \n",
    "            Q_i = Q(x[i,BMI_IND], T[i], t_lo, t_hi)\n",
    "        else: \n",
    "            Q_i = Q(x[i], T[i], t_lo, t_hi)\n",
    "        if (abs(clip_tau[i] - t_lo) <= h):\n",
    "            alpha = kernel_int((t_lo-clip_tau[i])/h, 1)\n",
    "        elif (abs(clip_tau[i] - t_hi) <= h):\n",
    "            alpha = kernel_int(-1,  (t_hi - clip_tau[i])/h )\n",
    "        else:\n",
    "            alpha = 1\n",
    "#         Qs[i] = kernel( (clip_tau[i] - T[i])/h )/max(Q_i,THRESH)\n",
    "        if abs((clip_tau[i] - T[i])/h) >= 1:\n",
    "            var_grad_term1 += 0 # don't add anything to partial derivatives \n",
    "        else:\n",
    "            var_grad_term1 += 2* (kernel( (clip_tau[i] - T[i])/h )*1.0 * y_out[i]/max(Q_i,THRESH) * 1.0/alpha)*(.75*x[i]*y_out[i]/max(Q_i,THRESH)*(1 - 1.0*(clip_tau[i] - T[i])/h ))\n",
    "    var_grad_term1 = var_grad_term1*1.0/n\n",
    "    var_grad += var_grad_term1\n",
    "    return np.asarray((g*nabla_f - f*nabla_g) / g**2 ) + 2*LAMBDA*beta + 2*var_grad \n",
    "\n",
    "def plot_training_set_hist(beta, x, therapeut_dose, sim_dose, title, policy_label): \n",
    "    plt.hist(np.abs(np.dot(beta, x.T)  - therapeut_dose ),range=[0,80],alpha = 0.5,label=policy_label)\n",
    "    plt.hist(np.abs(sim_dose - therapeut_dose),alpha = 0.5,range=[0,80],color = 'g',label='original simulated dose' )\n",
    "    plt.legend()\n",
    "    plt.title(title,y=1.08)\n",
    "    plt.ylabel('frequencies')\n",
    "    plt.ylim((0, 1800))\n",
    "    plt.xlabel('Absolute value of distance between recommended and therapeutic dose')\n",
    "    plt.show()"
   ]
  },
  {
   "cell_type": "code",
   "execution_count": null,
   "metadata": {},
   "outputs": [],
   "source": [
    "train_data['y'] = train_data['y']-np.mean(train_data['y'])\n",
    "train_data['y_samp'] = train_data['y_samp']-np.mean(train_data['y_samp'])\n"
   ]
  },
  {
   "cell_type": "code",
   "execution_count": null,
   "metadata": {},
   "outputs": [],
   "source": [
    "import datetime\n",
    "d = X.shape[1]\n",
    "n_restarts = 1\n",
    "vals = np.zeros(n_restarts)\n",
    "betas = [None]*n_restarts\n",
    "i = 0 \n",
    "while i <= n_restarts: \n",
    "    print i\n",
    "\n",
    "    beta_d = 0.8*(mu_dose / (d*np.mean(X[trainind,:],axis=0))) +0.2*np.random.uniform(size=d,low=np.zeros(d), high = [bnds[k][1]*1.0/d for k in range(d) ])\n",
    "    \n",
    "#     beta_d = mu_dose / (d*np.mean(X[trainind,:],axis=0))\n",
    "#     oracle_res = minimize(pol_eval_wrapper, x0 = beta_d, jac = off_pol_epan_lin_grad, bounds = bnds , options={'disp':True,'gtol':1e-4}, args=train_data.items())  \n",
    "#     try: \n",
    "    oracle_res = minimize(var_regularized_pol_eval_wrapper, x0 = beta_d, bounds = bnds , options={'disp':True,'gtol':1e-3}, args=train_data.items())  \n",
    "\n",
    "#         oracle_res = minimize(var_regularized_pol_eval_wrapper, x0 = beta_d, jac = off_pol_epan_lin_grad, bounds = bnds , options={'disp':True,'gtol':1e-4}, args=train_data.items())  \n",
    "    betas[i] = oracle_res.x\n",
    "    print oracle_res.x\n",
    "    vals[i] = oracle_res.fun\n",
    "    print oracle_res.fun\n",
    "    i += 1\n",
    "#     except: \n",
    "#         print \"Gradient error\"\n",
    "    \n",
    "pickle.dump(oracle_res.x, open(str(datetime.datetime.now().strftime(\"%Y-%m-%d_%H-%M\")) + 'empirical_opt_beta-v2', 'wb'))\n",
    "best_off_pol_beta = betas[np.argmin(vals)]\n",
    "best_off_pol_val = vals[np.argmin(vals)]\n",
    "\n"
   ]
  },
  {
   "cell_type": "code",
   "execution_count": null,
   "metadata": {},
   "outputs": [],
   "source": [
    "best_off_pol_beta"
   ]
  },
  {
   "cell_type": "code",
   "execution_count": null,
   "metadata": {},
   "outputs": [],
   "source": [
    "# best_off_pol_beta = pickle.load(open('2017-05-16_23-32empirical_opt_beta-v2',\"rb\"))\n",
    "\n",
    "plot_training_set_hist(best_off_pol_beta, X[trainind,:], therapeut_dose[trainind], sim_dose[trainind],\"Comparison of empirically optimal treatment policy vs original dose\",\"empirically optimal training policy\")\n",
    "plot_training_set_hist(best_off_pol_beta, X[test_mask,:], therapeut_dose[test_mask], sim_dose[test_mask],\"Comparison of empirically optimal treatment policy vs original dose\",\"empirically optimal training policy\")"
   ]
  },
  {
   "cell_type": "code",
   "execution_count": null,
   "metadata": {},
   "outputs": [],
   "source": [
    "import cvxpy as cvx\n",
    "d = X.shape[1]\n",
    "beta = cvx.Variable(d)\n",
    "# Implement a thresholded loss\n",
    "#cost = cvx.sum_entries(cvx.max_elemwise(cvx.abs(X[trainind,:]*beta - therapeut_dose[trainind]) - therapeut_dose[trainind]*0.1, 0))/n*1.0\n",
    "# normal l1 loss (median regression)\n",
    "cost = cvx.sum_entries(cvx.abs(X[trainind,:]*beta - therapeut_dose[trainind]))/n*1.0\n",
    "\n",
    "constraints = [beta >= 0]\n",
    "for i in range(d): \n",
    "    constraints += [beta[i] <= np.mean(therapeut_dose[trainind])/np.mean(X[trainind,i]) ]\n",
    "prob = cvx.Problem(cvx.Minimize(cost), constraints)\n",
    "\n",
    "prob.solve()\n",
    "print beta.value\n",
    "prescient_beta = beta.value.flatten().T\n",
    "prescient_beta = np.ravel(prescient_beta).T\n",
    "\n",
    "pickle.dump(prescient_beta, open(str(datetime.datetime.now().strftime(\"%Y-%m-%d_%H-%M\")) + 'prescient-beta-v2', 'wb'))\n"
   ]
  },
  {
   "cell_type": "code",
   "execution_count": null,
   "metadata": {},
   "outputs": [],
   "source": [
    "def oracle_eval_wrapper(beta, args): \n",
    "    data = dict(args)\n",
    "    INDS = data['inds']\n",
    "    t_lo = data['t_lo']; t_hi = data['t_hi']\n",
    "    tau = np.clip(np.dot(beta, data['x_samp'].T) , t_lo, t_hi).flatten()\n",
    "    return np.mean( simulated_loss(tau,therapeut_dose[INDS],obs_INR[INDS]) )\n",
    "\n",
    "beta_d = np.random.rand(d)\n",
    "train_data['inds'] = trainind\n",
    "oracle_actual_oracle_res = minimize(oracle_eval_wrapper, x0 = beta_d, bounds = bnds , options={'disp':True,'gtol':1e-4}, args=train_data.items())  \n",
    "pickle.dump(oracle_actual_oracle_res.x, open('oracle_opt_beta', 'wb'))\n",
    "print oracle_actual_oracle_res"
   ]
  },
  {
   "cell_type": "code",
   "execution_count": null,
   "metadata": {},
   "outputs": [],
   "source": [
    "print oracle_actual_oracle_res\n",
    "print \"off pol oracle\"\n",
    "print oracle_res"
   ]
  },
  {
   "cell_type": "markdown",
   "metadata": {},
   "source": [
    "## Build direct estimate and use 'regress and compare' "
   ]
  },
  {
   "cell_type": "code",
   "execution_count": null,
   "metadata": {},
   "outputs": [],
   "source": [
    "from sklearn.ensemble import RandomForestRegressor\n",
    "\n",
    "X_w_dose = np.column_stack((X, sim_dose))\n",
    "X_w_dose.shape\n",
    "\n",
    "clf = RandomForestRegressor(n_estimators=10)\n",
    "\n",
    "clf = clf.fit(X[trainind,:],y=therapeut_dose[trainind])\n",
    "train_data['x_full'] = X_w_dose\n",
    "train_data['rf'] = clf\n",
    "\n",
    "d = X.shape[1]\n",
    "# Regression and compare \n",
    "# Iterate through dataset and choose dose maximizing dose response \n",
    "\n",
    "# n = len(trainind)\n",
    "# ts = np.linspace(0,80,160)\n",
    "# best_taus_for_x = np.zeros(n)\n",
    "# for i in range(n): \n",
    "#     if (i%500 == 0): \n",
    "#         print i \n",
    "#     drf_vals = [clf.predict( np.append(X_w_dose[trainind[i],0:d-1], np.asarray(t)).reshape(1,-1)) for t in ts ]\n",
    "#     best_tau = np.argmin(drf_vals)\n",
    "#     best_taus_for_x[i] = ts[best_tau]\n",
    "    \n"
   ]
  },
  {
   "cell_type": "code",
   "execution_count": null,
   "metadata": {},
   "outputs": [],
   "source": []
  },
  {
   "cell_type": "code",
   "execution_count": null,
   "metadata": {},
   "outputs": [],
   "source": [
    "Xnames"
   ]
  },
  {
   "cell_type": "code",
   "execution_count": null,
   "metadata": {},
   "outputs": [],
   "source": [
    "d=X.shape[1]\n",
    "sort_inds = np.argsort(clf.feature_importances_)[::-1][:d]\n",
    "\n",
    "pickle.dump(sort_inds, open('important_features_fm_regr.p','wb'))\n",
    "print Xnames[sort_inds[0:25]]"
   ]
  },
  {
   "cell_type": "code",
   "execution_count": null,
   "metadata": {},
   "outputs": [],
   "source": [
    "pickle.dump(best_taus_for_x, open(str(datetime.datetime.now().strftime(\"%Y-%m-%d_%H-%M\")) + 'dm_best_treatments-RC-train.p', 'wb'))\n",
    "pickle.dump(best_taus_for_x_test, open(str(datetime.datetime.now().strftime(\"%Y-%m-%d_%H-%M\")) + 'dm_best_treatments-RC-test.p', 'wb'))\n"
   ]
  },
  {
   "cell_type": "code",
   "execution_count": null,
   "metadata": {},
   "outputs": [],
   "source": [
    "best_taus_for_x = pickle.load(open('2017-05-16_15-41dm_best_treatments-RC-train.p'))\n",
    "best_taus_for_x_test = pickle.load(open('2017-05-16_15-41dm_best_treatments-RC-test.p'))"
   ]
  },
  {
   "cell_type": "markdown",
   "metadata": {
    "collapsed": true
   },
   "source": [
    "## Optimizing direct method "
   ]
  },
  {
   "cell_type": "code",
   "execution_count": null,
   "metadata": {},
   "outputs": [],
   "source": [
    "bounds = [ (0, np.mean(therapeut_dose)/(np.sqrt(d)*np.mean(X_w_dose[:,i]))) for i in range(d) ]\n",
    "bnds = tuple(tuple(x) for x in bounds)\n",
    "def dm_wrapper(beta, args): \n",
    "    data = dict(args)\n",
    "    INDS = data['inds']\n",
    "    t_lo = data['t_lo']; t_hi = data['t_hi']\n",
    "    clf = train_data['rf']\n",
    "    tau = np.clip(np.dot(beta, data['x_full'][trainind,:].T), t_lo, t_hi).flatten()\n",
    "    counterfactual_X = np.column_stack((data['x_full'][trainind,0:d-1], tau))\n",
    "    reg_lambda = 3\n",
    "    return 100* (np.mean( clf.predict( counterfactual_X )) + reg_lambda * np.linalg.norm( beta, 1 )) \n",
    "\n",
    "\n",
    "\n",
    "beta_d = np.random.uniform(low = np.zeros(d), high = [bnds[i][1] for i in range(d) ], size = d)\n",
    "epsilon = np.ones(d)*1e-2\n",
    "dm_res = minimize(dm_wrapper, x0 = beta_d, jac= None, bounds = bnds , options={'disp':True,'gtol':1e-8, 'eps':np.ones(d)*1e-1}, args=train_data.items())  \n",
    "\n",
    "pickle.dump(dm_res.x, open(str(datetime.datetime.now().strftime(\"%Y-%m-%d_%H-%M\")) + 'dm_beta-v2', 'wb'))\n"
   ]
  },
  {
   "cell_type": "code",
   "execution_count": null,
   "metadata": {},
   "outputs": [],
   "source": [
    "np.dot(dm_res.x, X_w_dose[trainind,:].T)\n",
    "\n",
    "print dm_res.x\n",
    "print len(dm_res.x[0:len(dm_res.x)-1])\n",
    "print Xnames[np.where(dm_res.x[0:len(dm_res.x)-2] > 0)[0]]"
   ]
  },
  {
   "cell_type": "code",
   "execution_count": null,
   "metadata": {},
   "outputs": [],
   "source": [
    "from statsmodels.nonparametric.kernel_regression import KernelReg\n",
    "\n",
    "list_data = [ subframe[trainind,i] for i in range(d) ] + [sim_dose[trainind]]\n",
    "print list_data\n",
    "print len(list_data)\n",
    "print [len(list_data[i]) for i in range(len(list_data))]\n",
    "kernel_regr = KernelReg(endog = [y.reshape([len(trainind),1])], exog=list_data, var_type=['c']*len(list_data) )"
   ]
  },
  {
   "cell_type": "code",
   "execution_count": null,
   "metadata": {},
   "outputs": [],
   "source": [
    "import pandas as pd \n",
    "df = pd.DataFrame(np.hstack([subframe[trainind], sim_dose[trainind].reshape([len(trainind),1])]) )\n",
    "\n",
    "df.to_csv(\"train_data.csv\", header = list(subXnames)+[\"sim_dose\"],index=None)\n",
    "ydf = pd.DataFrame(y) \n",
    "ydf.to_csv('y.csv',header='y',index =None)"
   ]
  },
  {
   "cell_type": "markdown",
   "metadata": {},
   "source": [
    "## Discrete off-policy evaluation and optimization "
   ]
  },
  {
   "cell_type": "code",
   "execution_count": null,
   "metadata": {},
   "outputs": [],
   "source": [
    "def discretize_dose(dose): \n",
    "    discretized_dose = np.zeros(len(dose))\n",
    "    for i in range(len(dose)): \n",
    "        if dose[i] < 21: \n",
    "            discretized_dose[i] = 0 \n",
    "        elif dose[i] < 49: \n",
    "            discretized_dose[i] = 1\n",
    "        elif dose[i] >= 49: \n",
    "            discretized_dose[i] = 2\n",
    "    return discretized_dose\n",
    "\n",
    "disc_therapeutic_dose = discretize_dose(therapeut_dose)\n",
    "disc_sim_dose = discretize_dose(sim_dose) \n",
    "\n",
    "def generated_Q_wrapper(T, bmi, theta, NULL): \n",
    "    theta = 0.5\n",
    "    # centeredaround mu_dose with scale stddev of dose\n",
    "    Z_bmi = (bmi-mu_bmi)/std_bmi\n",
    "    return norm.pdf( T, loc = mu_dose + std_dose*np.sqrt(theta)*Z_bmi, scale = np.sqrt(1-theta) )\n",
    "\n",
    "min_T = min(sim_dose)\n",
    "max_T = max(sim_dose)\n",
    "# y is still the same loss information ( distance from treatment ) \n",
    "def integrated_gps(bmi, T, min_T, max_T ): \n",
    "    theta = 0.5\n",
    "    GPS = np.zeros(len(T))\n",
    "    for i in range(len(T)): \n",
    "        if T[i] < 21: \n",
    "            GPS[i] = scipy.integrate.quad( generated_Q_wrapper, 5, 21, args=(bmi[i], theta, theta) )[0]\n",
    "        elif T[i] < 49: \n",
    "            GPS[i] = scipy.integrate.quad( generated_Q_wrapper, 21, 49, args=(bmi[i], theta, theta) )[0]\n",
    "        elif T[i] >= 49: \n",
    "            GPS[i] = scipy.integrate.quad( generated_Q_wrapper, 49, 80, args=(bmi[i], theta, theta) )[0]\n",
    "    if i % 500 == 0: \n",
    "        print i \n",
    "    return GPS\n",
    "\n",
    "integrated_propensity_scores = integrated_gps(X[trainind,9], sim_dose[trainind], min_T, max_T)"
   ]
  },
  {
   "cell_type": "code",
   "execution_count": null,
   "metadata": {},
   "outputs": [],
   "source": [
    "------"
   ]
  },
  {
   "cell_type": "code",
   "execution_count": null,
   "metadata": {},
   "outputs": [],
   "source": [
    "# Impute POEM \n",
    "import sys\n",
    "sys.path.append('./POEM-norm/')\n",
    "import DatasetReader, Skylines\n",
    "\n",
    "Xtrain = X[trainind,:]\n",
    "ttrain = disc_sim_dose.astype(int)[trainind]\n",
    "gps = np.asarray([generated_Q_wrapper(sim_dose[i], X[trainind,9][i], 0.5, 0.5 ) for i in range(len(trainind))])\n",
    "# all 0-1\n",
    "# gps = integrated_propensity_scores\n",
    "ytrain = y\n",
    "Xtest = X[test_mask,:]\n",
    "\n",
    "\n",
    "\n",
    "mydata = DatasetReader.BanditDataset(None,False)\n",
    "mydata.trainFeatures        = np.hstack((Xtrain.copy(),np.ones((len(Xtrain),1))))\n",
    "mydata.sampledLabels        = np.zeros((len(ttrain),max(ttrain)+1))\n",
    "mydata.sampledLabels[range(len(ttrain)),ttrain] = 1.\n",
    "mydata.trainLabels          = np.empty(mydata.sampledLabels.shape)\n",
    "mydata.sampledLoss          = ytrain.copy()\n",
    "mydata.sampledLoss         -= mydata.sampledLoss.min()\n",
    "mydata.sampledLoss         /= mydata.sampledLoss.max()\n",
    "# computed on training set \n",
    "mydata.sampledLogPropensity = np.log(gps)\n",
    "#ones_like vs ones_line? \n",
    "mydata.testFeatures              = np.hstack((np.ones_like(Xtest),np.ones((len(Xtest),1))))\n",
    "mydata.testLabels                = np.array([])\n",
    "mydata.createTrainValidateSplit(validateFrac = 0.25)\n",
    "pool = None \n",
    "coef = None\n",
    "\n",
    "maj = Skylines.PRMWrapper(mydata, n_iter = 1000, tol = 1e-6, minC = 0, maxC = -1, minV = 0, maxV = -1,\n",
    "                            minClip = 0, maxClip = 0, estimator_type = 'Vanilla', verbose = True,\n",
    "                            parallel = pool, smartStart = coef)\n",
    "maj.calibrateHyperParams()\n",
    "maj.validate()\n",
    "Xtest1 = np.hstack((Xtest,np.ones((len(Xtest),1))))\n",
    "rec = Xtest1.dot(maj.labeler.coef_).argmax(1)\n",
    "\n"
   ]
  },
  {
   "cell_type": "code",
   "execution_count": null,
   "metadata": {},
   "outputs": [],
   "source": [
    "rec"
   ]
  },
  {
   "cell_type": "code",
   "execution_count": null,
   "metadata": {},
   "outputs": [],
   "source": [
    "### POEM-norm\n",
    "\n",
    "mydata = DatasetReader.BanditDataset(None,False)\n",
    "mydata.trainFeatures        = np.hstack((Xtrain.copy(),np.ones((len(Xtrain),1))))\n",
    "mydata.sampledLabels        = np.zeros((len(ttrain),max(ttrain)+1))\n",
    "mydata.sampledLabels[range(len(ttrain)),ttrain] = 1.\n",
    "mydata.trainLabels          = np.empty(mydata.sampledLabels.shape)\n",
    "mydata.sampledLoss          = ytrain.copy()\n",
    "mydata.sampledLoss         -= mydata.sampledLoss.min()\n",
    "mydata.sampledLoss         /= mydata.sampledLoss.max()\n",
    "mydata.sampledLogPropensity = np.log(gps)\n",
    "mydata.testFeatures              = np.hstack((np.ones_like(Xtest),np.ones((len(Xtest),1))))\n",
    "mydata.testLabels                = np.array([])\n",
    "mydata.createTrainValidateSplit(validateFrac = 0.25)\n",
    "pool = None \n",
    "coef = None\n",
    "\n",
    "maj = Skylines.PRMWrapper(mydata, n_iter = 1000, tol = 1e-6, minC = 0, maxC = -1, minV = 0, maxV = -1,\n",
    "                            minClip = 0, maxClip = 0, estimator_type = 'SelfNormal', verbose = True,\n",
    "                            parallel = pool, smartStart = coef)\n",
    "maj.calibrateHyperParams()\n",
    "maj.validate()\n",
    "Xtest1 = np.hstack((Xtest,np.ones((len(Xtest),1))))\n",
    "rec = Xtest1.dot(maj.labeler.coef_).argmax(1)"
   ]
  },
  {
   "cell_type": "code",
   "execution_count": null,
   "metadata": {},
   "outputs": [],
   "source": [
    "rec"
   ]
  },
  {
   "cell_type": "code",
   "execution_count": null,
   "metadata": {},
   "outputs": [],
   "source": [
    "from sklearn.linear_model import LogisticRegression\n",
    "\n",
    "imputed_Q = LogisticRegression(multi_class = \"multinomial\",solver='lbfgs')\n",
    "# Impute probability of low/medium/high simulated dose\n",
    "imputed_Q.fit(subframe[trainind], disc_sim_dose[trainind])\n",
    "\n",
    "recentered_loss = discretized_loss - np.mean(discretized_loss)"
   ]
  },
  {
   "cell_type": "code",
   "execution_count": null,
   "metadata": {},
   "outputs": [],
   "source": [
    "def off_pol_disc_given_disc_evaluation(policy, **params):\n",
    "    THRESH = 0.000001\n",
    "    y_out = params['y']; x = params['x_samp']; h = params['h']; Q = params['Q']; n = params['n']; t_lo = params['t_lo']; t_hi = params['t_hi']\n",
    "    imputed_Q = params['imputed_Q']\n",
    "    if ('y_samp' in params.keys()):\n",
    "        y_out = params['y_samp'].flatten()\n",
    "    if ('T_samp' in params.keys()):\n",
    "        T = params['T_samp'].flatten()\n",
    "    else:\n",
    "        T = params['T'].flatten()\n",
    "\n",
    "    t_lo = min(T)\n",
    "    t_hi = max(T)\n",
    "    \n",
    "    T_binned = discretize_dose(T)\n",
    "    bins = range(unique(T_binned)) + 1\n",
    "    bin_means = [T[T_binned == i].mean() for i in range(1, len(bins))]\n",
    "    tau_bins = discretize_dose(params['tau'])\n",
    "    loss = 0\n",
    "    treatment_overlap = np.where(np.equal(tau_bins, T_binned))[0]\n",
    "\n",
    "    for ind in treatment_overlap:\n",
    "        # use a discrete probability \n",
    "        loss += y_out[ind]/max(Q_i,THRESH)\n",
    "    n_overlap = len(treatment_overlap)\n",
    "    if n_overlap == 0:\n",
    "        print \"no overlap\"\n",
    "        return np.inf\n",
    "    return loss/(1.0*n_overlap)\n",
    "\n",
    "\n",
    "def oracle_eval_wrapper(beta, args): \n",
    "    data = dict(args)\n",
    "    INDS = data['inds']\n",
    "    t_lo = data['t_lo']; t_hi = data['t_hi']\n",
    "    tau = np.clip(np.dot(beta, data['x'].T) , t_lo, t_hi).flatten()\n",
    "    return np.mean( simulated_loss(tau,therapeut_dose[INDS],obs_INR[INDS]) )\n",
    "\n",
    "\n",
    "beta_d = np.random.rand(d)\n",
    "train_data['inds'] = trainind\n",
    "oracle_actual_oracle_res = minimize(oracle_eval_wrapper, x0 = beta_d, bounds = bnds , options={'disp':True,'gtol':1e-4}, args=train_data.items())  \n",
    "pickle.dump(oracle_actual_oracle_res.x, open('oracle_opt_beta', 'wb'))\n",
    "print oracle_actual_oracle_res"
   ]
  },
  {
   "cell_type": "markdown",
   "metadata": {},
   "source": [
    "## Histograms of performance"
   ]
  },
  {
   "cell_type": "code",
   "execution_count": null,
   "metadata": {},
   "outputs": [],
   "source": []
  },
  {
   "cell_type": "markdown",
   "metadata": {},
   "source": [
    "### hist results of giving mu_dose amount of treatment"
   ]
  },
  {
   "cell_type": "code",
   "execution_count": null,
   "metadata": {},
   "outputs": [],
   "source": [
    "\n",
    "plt.hist(np.abs(np.mean(sim_dose[trainind]) - therapeut_dose[trainind] ).T,range=[0,80],alpha = 0.5,label='best-in-class treatment policy')\n",
    "plt.hist(np.abs(sim_dose[trainind] - therapeut_dose[trainind]),range=[0,80],alpha = 0.5,color = 'g',label='original simulated dose' )\n",
    "plt.title(\"Histogram of training set performance of assigning mean of simulated dose\",y=1.08)\n",
    "plt.legend()\n",
    "plt.ylabel('frequencies')\n",
    "plt.ylim((0,1800))\n",
    "plt.xlabel('Absolute value of distance between recommended and therapeutic dose')\n",
    "plt.show()\n",
    "\n",
    "plt.hist(np.abs(np.mean(sim_dose[test_mask]) - therapeut_dose[test_mask] ).T,range=[0,80],alpha = 0.5,label='best-in-class treatment policy')\n",
    "plt.hist(np.abs(sim_dose[test_mask] - therapeut_dose[test_mask]),range=[0,80],alpha = 0.5,color = 'g',label='original simulated dose' )\n",
    "plt.title(\"Histogram of training set performance of assigning mean of simulated dose\",y=1.08)\n",
    "plt.legend()\n",
    "plt.ylabel('frequencies')\n",
    "plt.ylim((0,1800))\n",
    "plt.xlabel('Absolute value of distance between recommended and therapeutic dose')\n",
    "plt.show()"
   ]
  },
  {
   "cell_type": "code",
   "execution_count": null,
   "metadata": {},
   "outputs": [],
   "source": [
    "\n",
    "plt.hist(np.abs(np.asarray((train*prescient_beta).flatten()) - therapeut_dose[trainind] ).T,range=[0,80],alpha = 0.5,label='best-in-class treatment policy')\n",
    "plt.hist(np.abs(sim_dose[trainind] - therapeut_dose[trainind]),range=[0,80],alpha = 0.5,color = 'g',label='original simulated dose' )\n",
    "plt.title(\"Histogram of training set performance of best-in-class treatment policy\",y=1.08)\n",
    "plt.legend()\n",
    "plt.ylabel('frequencies')\n",
    "plt.ylim((0,1800))\n",
    "plt.xlabel('L1 deviation from 10% range of therapeutic dose')\n",
    "plt.show()"
   ]
  },
  {
   "cell_type": "code",
   "execution_count": null,
   "metadata": {},
   "outputs": [],
   "source": [
    "np.ravel(prescient_beta).T"
   ]
  },
  {
   "cell_type": "markdown",
   "metadata": {},
   "source": [
    "## histogram results of off-policy evaluation"
   ]
  },
  {
   "cell_type": "code",
   "execution_count": null,
   "metadata": {},
   "outputs": [],
   "source": [
    "plot_training_set_hist(best_off_pol_beta, X[trainind,:], therapeut_dose[trainind], sim_dose[trainind], \"Training set performance of empirically optimal treatment policy\")\n",
    "\n",
    "print \"test set performance\"\n",
    "plot_training_set_hist(best_off_pol_beta, X[test_mask,:], therapeut_dose[test_mask], sim_dose[test_mask], \"Test set performance of empirically optimal treatment policy\")"
   ]
  },
  {
   "cell_type": "code",
   "execution_count": null,
   "metadata": {},
   "outputs": [],
   "source": [
    "plot_training_set_hist(prescient_beta, X[trainind,:], therapeut_dose[trainind], sim_dose[trainind], 'Training set performance of best-in-class treatment policy')\n",
    "\n",
    "print \"test set performance\"\n",
    "plot_training_set_hist(prescient_beta, X[test_mask,:], therapeut_dose[test_mask], sim_dose[test_mask], 'Test set performance of best-in-class treatment policy')"
   ]
  },
  {
   "cell_type": "code",
   "execution_count": null,
   "metadata": {},
   "outputs": [],
   "source": [
    "print sum(np.abs(sim_dose[trainind] - therapeut_dose[trainind]))\n",
    "print sum(np.abs(np.dot(oracle_actual_oracle_res.x, train.T) - therapeut_dose[trainind]))\n",
    "print sum(np.abs(np.dot(oracle_res.x, train.T) - therapeut_dose[trainind]))"
   ]
  },
  {
   "cell_type": "code",
   "execution_count": null,
   "metadata": {},
   "outputs": [],
   "source": [
    "np.asarray((np.dot(best_off_pol_beta, train.T) - sim_dose[trainind]))"
   ]
  },
  {
   "cell_type": "code",
   "execution_count": null,
   "metadata": {},
   "outputs": [],
   "source": [
    "np.dot(best_off_pol_beta, train.T)\n",
    "\n",
    "plt.hist(np.abs(np.dot(best_off_pol_beta, train.T)  - therapeut_dose[trainind] ),range=[0,80],alpha = 0.5,label='empirically optimal treatment policy')\n",
    "plt.hist(np.abs(sim_dose[trainind] - therapeut_dose[trainind]),alpha = 0.5,range=[0,80],color = 'g',label='original simulated dose' )\n",
    "plt.legend()\n",
    "plt.title('Histogram of training set performance of empirically optimal treatment policy',y=1.08)\n",
    "plt.ylabel('frequencies')\n",
    "plt.ylim((0, 1800))\n",
    "plt.xlabel('L1 deviation from 10% range of therapeutic dose')\n",
    "plt.show()\n"
   ]
  },
  {
   "cell_type": "code",
   "execution_count": null,
   "metadata": {},
   "outputs": [],
   "source": [
    "print test.shape\n",
    "plt.hist(np.abs(np.dot(oracle_actual_oracle_res.x, test.T) - therapeut_dose[test_mask]),range=[0,50],alpha = 0.7,color='r', label='best-in-class treatment policy')\n",
    "plt.hist(np.abs(np.dot(oracle_res.x, test.T) - therapeut_dose[test_mask]),range=[0,50],alpha = 0.7,color='g', label='empirically optimal treatment policy')\n",
    "plt.hist(np.abs(sim_dose[test_mask] - therapeut_dose[test_mask]),range=[0,50],alpha = 0.5, color = 'b' ,label = 'original simulated dose')\n",
    "plt.title(\"Histogram of out-of-sample test performance (deviation from therapeutic dose)\",y=1.08)\n",
    "plt.legend(loc='upper right')\n",
    "plt.ylabel('frequency')\n",
    "plt.xlabel('L1 deviation from 10% range of therapeutic dose')\n",
    "plt.show()"
   ]
  },
  {
   "cell_type": "markdown",
   "metadata": {},
   "source": [
    "## Direct method regress and compare "
   ]
  },
  {
   "cell_type": "code",
   "execution_count": null,
   "metadata": {},
   "outputs": [],
   "source": [
    "plot_training_set_hist(dm_res.x, X_w_dose[trainind,:], therapeut_dose[trainind], sim_dose[trainind], 'Test set performance of direct method (random forest) policy optimization', 'random forest policy')\n",
    "plot_training_set_hist(dm_res.x, X_w_dose[test_mask,:], therapeut_dose[test_mask], sim_dose[test_mask], 'Test set performance of direct method (random forest) policy optimization', 'random forest policy')\n",
    "\n"
   ]
  },
  {
   "cell_type": "code",
   "execution_count": null,
   "metadata": {},
   "outputs": [],
   "source": [
    "ts = np.linspace(0,80,160)\n",
    "n_test = sum(test_mask)\n",
    "best_taus_for_x_test = np.zeros(n_test)\n",
    "for i in range(n_test): \n",
    "\n",
    "    drf_vals = [clf.predict( np.append(X_w_dose[test_mask,:][i,0:d-1], np.asarray(t)).reshape(1,-1)) for t in ts ]\n",
    "    best_tau = np.argmin(drf_vals)\n",
    "    best_taus_for_x_test[i] = ts[best_tau]\n",
    "    \n",
    "    if (i%100 == 0): \n",
    "        print i \n",
    "        plt.plot(ts, drf_vals)\n",
    "    \n",
    "print best_taus_for_x_test"
   ]
  },
  {
   "cell_type": "code",
   "execution_count": null,
   "metadata": {},
   "outputs": [],
   "source": [
    "\n",
    "plt.figure()\n",
    "i=100\n",
    "drf_vals = [clf.predict( np.append(X_w_dose[test_mask][i,0:d-1], np.asarray(t)).reshape(1,-1)) for t in ts ]\n",
    "plt.plot(ts,drf_vals)\n",
    "print ts[np.argmin(drf_vals)]\n",
    "plt.figure()\n",
    "\n",
    "i = 100 \n",
    "drf_vals = [clf.predict( np.append(X_w_dose[test_mask[i],0:d-1], np.asarray(t)).reshape(1,-1)) for t in ts ]\n",
    "plt.plot(ts,drf_vals)\n",
    "\n",
    "print ts[np.argmin(drf_vals)]"
   ]
  },
  {
   "cell_type": "markdown",
   "metadata": {},
   "source": [
    "## Off policy evaluation regress \\& compare "
   ]
  },
  {
   "cell_type": "code",
   "execution_count": null,
   "metadata": {},
   "outputs": [],
   "source": [
    "ts = np.linspace(0,80,160)\n",
    "n_test = sum(test_mask)\n",
    "best_taus_for_x_test = np.zeros(n_test)\n",
    "for i in range(n_test): \n",
    "    drf_vals = [clf.predict( np.append(X_w_dose[test_mask,:][i,0:d-1], np.asarray(t)).reshape(1,-1)) for t in ts ]\n",
    "    best_tau = np.argmin(drf_vals)\n",
    "    best_taus_for_x_test[i] = ts[best_tau]\n",
    "    \n",
    "    if (i%100 == 0): \n",
    "        print i \n",
    "        plt.plot(ts, drf_vals)\n",
    "    \n",
    "print best_taus_for_x_test"
   ]
  },
  {
   "cell_type": "code",
   "execution_count": null,
   "metadata": {},
   "outputs": [],
   "source": [
    "print np.median(np.abs(sim_dose[test_mask] - therapeut_dose[test_mask]))\n",
    "print np.median(np.abs(np.dot(oracle_actual_oracle_res.x, test.T) - therapeut_dose[test_mask]))\n",
    "print np.median(np.abs(np.dot(oracle_res.x, test.T) - therapeut_dose[test_mask]))"
   ]
  },
  {
   "cell_type": "markdown",
   "metadata": {},
   "source": [
    "## boxplot of results "
   ]
  },
  {
   "cell_type": "code",
   "execution_count": null,
   "metadata": {},
   "outputs": [],
   "source": [
    "print(plt.style.available)\n",
    "\n",
    "plt.style.use('seaborn-notebook')"
   ]
  },
  {
   "cell_type": "code",
   "execution_count": null,
   "metadata": {
    "scrolled": true
   },
   "outputs": [],
   "source": [
    "%matplotlib inline\n",
    "plt.style.use('seaborn-white')\n",
    "plt.figure()\n",
    "\n",
    "\n",
    "# prescient_norm = np.abs(np.dot(prescient_beta, X[test_mask,:].T)  - therapeut_dose[test_mask] )\n",
    "# off_pol_norm = np.abs(np.dot(best_off_pol_beta, X[test_mask,:].T)  - therapeut_dose[test_mask] )\n",
    "# mean_dose_pol_norm = np.abs(np.mean(sim_dose[test_mask]) - therapeut_dose[test_mask] )\n",
    "# dm_norms = np.abs(np.dot(dm_res.x, X_w_dose[test_mask,:].T)  - therapeut_dose[test_mask] )\n",
    "# original = np.abs(sim_dose[test_mask] - therapeut_dose[test_mask])\n",
    "\n",
    "prescient_norm =(np.dot(prescient_beta, X[test_mask,:].T)  - therapeut_dose[test_mask] )\n",
    "off_pol_norm = (np.dot(best_off_pol_beta, X[test_mask,:].T)  - therapeut_dose[test_mask] )\n",
    "mean_dose_pol_norm = (np.mean(sim_dose[test_mask]) - therapeut_dose[test_mask] )\n",
    "dm_norms = (best_taus_for_x_test  - therapeut_dose[test_mask] )\n",
    "original = (sim_dose[test_mask] - therapeut_dose[test_mask])\n",
    "\n",
    "\n",
    "norms = [prescient_norm, off_pol_norm, dm_norms, mean_dose_pol_norm, original]\n",
    "\n",
    "plt.figure(figsize=(4.5,3))\n",
    "plt.ylabel('Differences btn. policy and therapeutic dose')\n",
    "flierprops = dict(linestyle='-',color='black')\n",
    "\n",
    "# prefer to turn off mean line\n",
    "bp_dict = plt.boxplot(norms,sym='', showmeans = False, meanline=False)\n",
    "\n",
    "for whisker in bp_dict['whiskers']:\n",
    "    whisker.set(color='#000000',linestyle='solid')\n",
    "for box in bp_dict['boxes']:\n",
    "    # change outline color\n",
    "    box.set( color='#000000')\n",
    "for ind,line in enumerate(bp_dict['medians']):\n",
    "    # get position data for median line\n",
    "    x, y = line.get_xydata()[1] # top of median line\n",
    "    if ind == 4: \n",
    "        plt.text(x-0.18, y+4, '%.1f' % y, horizontalalignment='center') # draw above, centered\n",
    "    # overlay median value\n",
    "    else:\n",
    "        plt.text(x+0.2, y+4, '%.1f' % y, horizontalalignment='center') # draw above, centered\n",
    "\n",
    "top = 60\n",
    "bottom = -60\n",
    "plt.ylim(bottom, top)\n",
    "# plt.title('Boxplot of distances between policy-recommended doses and therapeutic doses',y = 1.2)\n",
    "plt.axhline(y=np.median(mean_dose_pol_norm), xmin=0,xmax=1,color='g', ls='dashdot',linewidth=0.7)\n",
    "plt.axhline(y=0, xmin=0,xmax=1,color='g',alpha=0.3, ls='dashed',linewidth=0.7)\n",
    "plt.xticks([1, 2, 3,4,5], ['Best-In-Class', 'Continuous OPE', 'DM (Random Forest R&C)', 'Mean dose', 'Original doses'])\n",
    "plt.xticks(rotation=25)\n",
    "plt.show()\n",
    "\n",
    "plt.violinplot(norms)\n",
    "\n"
   ]
  },
  {
   "cell_type": "code",
   "execution_count": null,
   "metadata": {},
   "outputs": [],
   "source": [
    "best_off_pol_beta\n"
   ]
  },
  {
   "cell_type": "code",
   "execution_count": null,
   "metadata": {},
   "outputs": [],
   "source": [
    "print \"medians\"\n",
    "print np.median(prescient_norm)\n",
    "print np.median(off_pol_norm )\n",
    "print np.median(mean_dose_pol_norm )\n",
    "print np.median(dm_norms)\n",
    "print np.median(original)\n",
    "\n",
    "print \"means\"\n",
    "print_f_(np.mean)\n",
    "\n",
    "def print_f_(func): \n",
    "    print func(prescient_norm)\n",
    "    print func(off_pol_norm )\n",
    "    print func(mean_dose_pol_norm )\n",
    "    print func(dm_norms)\n",
    "    print func(original)\n",
    "               \n",
    "               \n",
    "print \"sum of absolute values of differences\"\n",
    "print_f_(lambda x: sum(abs(x)))\n",
    "print \"standard deviations \"\n",
    "print_f_(np.std)"
   ]
  },
  {
   "cell_type": "code",
   "execution_count": null,
   "metadata": {},
   "outputs": [],
   "source": [
    "off_pol_dose_test = np.dot(best_off_pol_beta, X[test_mask,:].T\n",
    "plt.scatter(X[test_mask][:,9], best_taus_for_x_test,color='r',alpha=0.3,label='treatment dose from DM')\n",
    "plt.scatter(X[test_mask][:,9], np.dot(best_off_pol_beta, X[test_mask,:].T),color='g',alpha=0.3 , label='treatment dose from OPE')\n",
    "plt.scatter(X[test_mask][:,9], therapeut_dose[test_mask],color='b',alpha=0.1 , label='therapeutic dose')\n",
    "\n",
    "\n",
    "plt.xlabel(\"BMI\")\n",
    "plt.ylabel('dose')\n",
    "plt.legend()"
   ]
  },
  {
   "cell_type": "markdown",
   "metadata": {},
   "source": [
    "# Doubly Robust estimator from DM, IPW "
   ]
  },
  {
   "cell_type": "code",
   "execution_count": null,
   "metadata": {},
   "outputs": [],
   "source": [
    "from copy import deepcopy \n",
    "def DR_wrapper(beta, args): \n",
    "    data = dict(args)\n",
    "    INDS = data['inds']\n",
    "    t_lo = data['t_lo']; t_hi = data['t_hi']\n",
    "    clf = train_data['rf']\n",
    "    # train beta which gets best treatment policy for direct estimator \n",
    "    tau = np.clip(np.dot(beta, data['x'][INDS,:].T), t_lo, t_hi).flatten()\n",
    "    # concatenate 1st (d) colunns of full X \n",
    "    counterfactual_X = np.column_stack((data['x_full'][INDS,0:-1], tau))\n",
    "    reg_lambda = 3\n",
    "    data = dict(args)\n",
    "    # evaluate rhat(\\tau_i, x_i) \n",
    "    dm = np.mean( clf.predict( counterfactual_X ))\n",
    "    t_lo = data['t_lo']; t_hi = data['t_hi']\n",
    "    tau = np.clip(np.dot(beta, data['x'].T) , t_lo, t_hi).flatten()\n",
    "    data['tau'] = tau\n",
    "    \n",
    "    # evaluate rhat(t_i, x_i) on observed treatments\n",
    "    T_X = np.column_stack((data['x_full'][INDS,0:-1], sim_dose[INDS]))\n",
    "    old_y = data_copy['y_samp']\n",
    "    data['y_samp'] = data['y_samp'] - clf.predict( T_X )\n",
    "    ipw = off_policy_evaluation(**data)\n",
    "    data['y_samp'] = old_y \n",
    "    \n",
    "    return 100*(dm + ipw) \n",
    "\n",
    "d = X.shape[1]\n",
    "beta_d = np.random.rand(d)\n",
    "train_data['inds'] = trainind\n",
    "\n",
    "bounds = [(0, np.mean(therapeut_dose)/(np.sqrt(d)*np.mean(X_w_dose[:,i]))) for i in range(d) ]\n",
    "bnds = tuple(tuple(x) for x in bounds)\n",
    "\n",
    "oracle_DR_res = minimize(DR_wrapper, x0 = beta_d, bounds = bnds , options={'disp':True,'gtol':1e-3}, args=train_data.items())  \n",
    "pickle.dump(DR_wrapper.x, open('oracle_DR_beta', 'wb'))\n",
    "print oracle_DR_res"
   ]
  }
 ],
 "metadata": {
  "anaconda-cloud": {},
  "kernelspec": {
   "display_name": "Python [conda env:py27]",
   "language": "python",
   "name": "conda-env-py27-py"
  },
  "language_info": {
   "codemirror_mode": {
    "name": "ipython",
    "version": 2
   },
   "file_extension": ".py",
   "mimetype": "text/x-python",
   "name": "python",
   "nbconvert_exporter": "python",
   "pygments_lexer": "ipython2",
   "version": "2.7.18"
  },
  "toc": {
   "base_numbering": 1,
   "nav_menu": {},
   "number_sections": true,
   "sideBar": true,
   "skip_h1_title": false,
   "title_cell": "Table of Contents",
   "title_sidebar": "Contents",
   "toc_cell": false,
   "toc_position": {
    "height": "calc(100% - 180px)",
    "left": "10px",
    "top": "150px",
    "width": "285.867px"
   },
   "toc_section_display": true,
   "toc_window_display": true
  },
  "varInspector": {
   "cols": {
    "lenName": 16,
    "lenType": 16,
    "lenVar": 40
   },
   "kernels_config": {
    "python": {
     "delete_cmd_postfix": "",
     "delete_cmd_prefix": "del ",
     "library": "var_list.py",
     "varRefreshCmd": "print(var_dic_list())"
    },
    "r": {
     "delete_cmd_postfix": ") ",
     "delete_cmd_prefix": "rm(",
     "library": "var_list.r",
     "varRefreshCmd": "cat(var_dic_list()) "
    }
   },
   "types_to_exclude": [
    "module",
    "function",
    "builtin_function_or_method",
    "instance",
    "_Feature"
   ],
   "window_display": false
  }
 },
 "nbformat": 4,
 "nbformat_minor": 2
}
