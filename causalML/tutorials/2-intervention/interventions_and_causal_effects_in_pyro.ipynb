{
 "cells": [
  {
   "cell_type": "markdown",
   "metadata": {},
   "source": [
    "# Interventions and Causal Effects in Pyro"
   ]
  },
  {
   "cell_type": "code",
   "execution_count": 1,
   "metadata": {},
   "outputs": [],
   "source": [
    "from statistics import mean\n",
    "import torch\n",
    "import numpy as np\n",
    "import pyro\n",
    "import pyro.distributions as dist\n",
    "from pyro.infer import Importance, EmpiricalMarginal\n",
    "import matplotlib.pyplot as plt\n",
    "%matplotlib inline\n",
    "\n",
    "pyro.set_rng_seed(101)"
   ]
  },
  {
   "cell_type": "markdown",
   "metadata": {},
   "source": [
    "To start, we implement the exact same survey model that we trained in the `bnlearn` tutorial."
   ]
  },
  {
   "cell_type": "code",
   "execution_count": 2,
   "metadata": {},
   "outputs": [
    {
     "name": "stdout",
     "output_type": "stream",
     "text": [
      "{'A': tensor(1), 'S': tensor(1), 'E': tensor(0), 'O': tensor(0), 'R': tensor(1), 'T': tensor(2)}\n"
     ]
    }
   ],
   "source": [
    "A_alias = ['young','adult','old']\n",
    "S_alias = ['M','F']\n",
    "E_alias = ['high','uni']\n",
    "O_alias = ['emp','self']\n",
    "R_alias = ['small','big']\n",
    "T_alias = ['car','train','other']\n",
    "\n",
    "A_prob = torch.tensor([0.3,0.5,0.2])\n",
    "S_prob = torch.tensor([0.6,0.4])\n",
    "E_prob = torch.tensor([[[0.75,0.25], [0.72,0.28], [0.88,0.12]],\n",
    "                     [[0.64,0.36], [0.7,0.3], [0.9,0.1]]])\n",
    "O_prob = torch.tensor([[0.96,0.04], [0.92,0.08]])\n",
    "R_prob = torch.tensor([[0.25,0.75], [0.2,0.8]])\n",
    "T_prob = torch.tensor([[[0.48,0.42,0.1], [0.56,0.36,0.08]],\n",
    "                     [[0.58,0.24,0.18], [0.7,0.21,0.09]]])\n",
    "\n",
    "def model():\n",
    "    A = pyro.sample(\"A\", dist.Categorical(probs=A_prob))\n",
    "    S = pyro.sample(\"S\", dist.Categorical(probs=S_prob))\n",
    "    E = pyro.sample(\"E\", dist.Categorical(probs=E_prob[S][A]))\n",
    "    O = pyro.sample(\"O\", dist.Categorical(probs=O_prob[E]))\n",
    "    R = pyro.sample(\"R\", dist.Categorical(probs=R_prob[E]))\n",
    "    T = pyro.sample(\"T\", dist.Categorical(probs=T_prob[R][O]))\n",
    "    return{'A': A,'S': S,'E': E,'O': O,'R': R,'T': T}\n",
    "\n",
    "print(model())"
   ]
  },
  {
   "cell_type": "markdown",
   "metadata": {},
   "source": [
    "We can condition on someone being self-employed (O = 1) and living in a big city."
   ]
  },
  {
   "cell_type": "code",
   "execution_count": 3,
   "metadata": {},
   "outputs": [],
   "source": [
    "conditioned_model = pyro.condition(model, data={'O':torch.tensor(1),'R':torch.tensor(1)})"
   ]
  },
  {
   "cell_type": "markdown",
   "metadata": {},
   "source": [
    "From this we can predict the person's age.  Here, I use simple importance sampling for the inference algorithm."
   ]
  },
  {
   "cell_type": "code",
   "execution_count": 4,
   "metadata": {},
   "outputs": [
    {
     "data": {
      "text/plain": [
       "Text(0.5, 1.0, 'P(A | O = self, R = big) - Importance Sampling')"
      ]
     },
     "execution_count": 4,
     "metadata": {},
     "output_type": "execute_result"
    },
    {
     "data": {
      "image/png": "[encoded data removed]",
      "text/plain": [
       "<Figure size 432x288 with 1 Axes>"
      ]
     },
     "metadata": {
      "needs_background": "light"
     },
     "output_type": "display_data"
    }
   ],
   "source": [
    "A_posterior = pyro.infer.Importance(conditioned_model, num_samples=5000).run()\n",
    "A_marginal = EmpiricalMarginal(A_posterior,\"A\")\n",
    "A_samples = [A_marginal().item() for _ in range(1000)]\n",
    "A_unique, A_counts = np.unique(A_samples, return_counts=True)\n",
    "\n",
    "plt.bar(A_unique, A_counts, align='center', alpha=0.5)\n",
    "plt.xticks(A_unique, A_alias)\n",
    "plt.ylabel('count')\n",
    "plt.xlabel('A')\n",
    "plt.title('P(A | O = self, R = big) - Importance Sampling')"
   ]
  },
  {
   "cell_type": "markdown",
   "metadata": {},
   "source": [
    "## Interventions and causal effect estimation"
   ]
  },
  {
   "cell_type": "markdown",
   "metadata": {},
   "source": [
    "So our model is working just as it did with `bnlearn`. Just as before, let's do the intervention on Residence (R) and see it's effect on Occupation (O).\n",
    "\n",
    "First we view the distribution of occupation in large cities."
   ]
  },
  {
   "cell_type": "code",
   "execution_count": 5,
   "metadata": {},
   "outputs": [],
   "source": [
    "big_city_model = pyro.do(model, data={'R': torch.tensor(1)})\n"
   ]
  },
  {
   "cell_type": "code",
   "execution_count": 6,
   "metadata": {},
   "outputs": [
    {
     "data": {
      "text/plain": [
       "Text(0.5, 1.0, 'P(T | do(R = big)) - Importance Sampling')"
      ]
     },
     "execution_count": 6,
     "metadata": {},
     "output_type": "execute_result"
    },
    {
     "data": {
      "image/png": "[encoded data removed]",
      "text/plain": [
       "<Figure size 432x288 with 1 Axes>"
      ]
     },
     "metadata": {
      "needs_background": "light"
     },
     "output_type": "display_data"
    }
   ],
   "source": [
    "T_samples = [big_city_model()['T'] for _ in range(100)]\n",
    "T_unique, T_counts = np.unique(T_samples, return_counts=True)\n",
    "plt.bar(T_unique, T_counts, align='center', alpha=0.5)\n",
    "plt.xticks(T_unique, T_alias)\n",
    "plt.ylabel('count')\n",
    "plt.xlabel('T')\n",
    "plt.title('P(T | do(R = big)) - Importance Sampling')"
   ]
  },
  {
   "cell_type": "markdown",
   "metadata": {},
   "source": [
    "Next, we calculate the causal effect of city size on car use."
   ]
  },
  {
   "cell_type": "code",
   "execution_count": 7,
   "metadata": {},
   "outputs": [],
   "source": [
    "small_city_model = pyro.do(model, data={'R': torch.tensor(0)})"
   ]
  },
  {
   "cell_type": "code",
   "execution_count": 8,
   "metadata": {},
   "outputs": [
    {
     "data": {
      "text/plain": [
       "0.1033"
      ]
     },
     "execution_count": 8,
     "metadata": {},
     "output_type": "execute_result"
    }
   ],
   "source": [
    "t_samples_big = [\n",
    "    1 if big_city_model()['T'] == 0.0 else 0\n",
    "    for _ in range(50000)\n",
    "]\n",
    "t_samples_small = [\n",
    "    1 if small_city_model()['T'] == 0.0 else 0\n",
    "    for _ in range(50000)\n",
    "]\n",
    "\n",
    "causal_effect = mean(t_samples_big) - mean(t_samples_small)\n",
    "causal_effect"
   ]
  }
 ],
 "metadata": {
  "kernelspec": {
   "display_name": "venv",
   "language": "python",
   "name": "venv"
  },
  "language_info": {
   "codemirror_mode": {
    "name": "ipython",
    "version": 3
   },
   "file_extension": ".py",
   "mimetype": "text/x-python",
   "name": "python",
   "nbconvert_exporter": "python",
   "pygments_lexer": "ipython3",
   "version": "3.6.4"
  }
 },
 "nbformat": 4,
 "nbformat_minor": 4
}
