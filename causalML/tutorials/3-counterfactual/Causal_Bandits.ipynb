{
  "nbformat": 4,
  "nbformat_minor": 0,
  "metadata": {
    "accelerator": "GPU",
    "colab": {
      "name": "Causal Bandits.ipynb",
      "provenance": []
    },
    "kernelspec": {
      "display_name": "Python 3",
      "language": "python",
      "name": "python3"
    },
    "language_info": {
      "codemirror_mode": {
        "name": "ipython",
        "version": 3
      },
      "file_extension": ".py",
      "mimetype": "text/x-python",
      "name": "python",
      "nbconvert_exporter": "python",
      "pygments_lexer": "ipython3",
      "version": "3.7.1"
    }
  },
  "cells": [
    {
      "cell_type": "markdown",
      "metadata": {
        "colab_type": "text",
        "id": "3Hda5PbzVEze"
      },
      "source": [
        "# Bandits with unobserved confounders: A causal Approach\n"
      ]
    },
    {
      "cell_type": "markdown",
      "metadata": {
        "colab_type": "text",
        "id": "cWNxmyZtVIkH"
      },
      "source": [
        "# Outline"
      ]
    },
    {
      "cell_type": "markdown",
      "metadata": {
        "colab_type": "text",
        "id": "Qa9OWowgVLEL"
      },
      "source": [
        "- **The multi-armed bandit problem**\n",
        "\n",
        "- **The Greedy casino problem**\n",
        "\n",
        "- **The drunk gambler**\n",
        "\n",
        "- **Random sampling**\n",
        "\n",
        "- **Thompson sampling**\n",
        "\n",
        "- **Causal Thompson sampling**\n",
        "\n",
        "- **Results**  \n",
        "\n",
        "- **Policy evaluation using Counterfactual Reasoning** \n",
        "\n",
        "- **Key learnings**\n",
        "\n"
      ]
    },
    {
      "cell_type": "markdown",
      "metadata": {
        "colab_type": "text",
        "id": "jnL8-ry6VZ5V"
      },
      "source": [
        "## The multi-armed bandit problem"
      ]
    },
    {
      "cell_type": "markdown",
      "metadata": {
        "colab_type": "text",
        "id": "HvLv07urVlJH"
      },
      "source": [
        "- Consider n-slot machines $S_1,\\ S_2,\\ S_3\\ ...\\ S_n$. Given that the payouts of each slot machine is unknown, the goal is to come up with a sequence of actions that would maximize the reward.\n",
        "\n",
        "- The multi-armed bandit problem revolves around developing a strategy in learning the true payout distributions of each of these slot machines."
      ]
    },
    {
      "cell_type": "markdown",
      "metadata": {
        "colab_type": "text",
        "id": "KmFUwbuCVobD"
      },
      "source": [
        "# The Greedy casino problem"
      ]
    },
    {
      "cell_type": "markdown",
      "metadata": {
        "colab_type": "text",
        "id": "PLcz0tAAVqX4"
      },
      "source": [
        "Consider this scenario, a greedy casino owner observes gamblers and their behavior so as to maximize the profits of the casino.\n",
        "\n",
        "On observation, the casino owner learns that the choice of pulling an arm (of the slot machine) is influenced by 2 factors\n",
        "\n",
        "- The gamber being drunk\n",
        "\n",
        "- The machine blinking"
      ]
    },
    {
      "cell_type": "markdown",
      "metadata": {
        "colab_type": "text",
        "id": "tD9N8YXIVsWj"
      },
      "source": [
        "**Suppose also that a new gambling law requires that casinos maintain a minimum attainable payout rate for slots of 30%. Cognizant of this new law, while still wanting to maximize profits by exploiting gamblers’ natural arm choices,\n",
        "the casino executives modify their new slots with the payout rates depicted in this table**"
      ]
    },
    {
      "cell_type": "markdown",
      "metadata": {
        "colab_type": "text",
        "id": "_GFYiI1tVu0M"
      },
      "source": [
        "<table>\n",
        "    <tr>\n",
        "        <th>(a)</th>\n",
        "        <th colspan=\"2\">D=0</th>\n",
        "        <th colspan=\"2\">D=1</th>\n",
        "    </tr>\n",
        "    <tr>\n",
        "        <th></th>\n",
        "        <th>B=0</th>\n",
        "        <th>B=1</th>\n",
        "        <th>B=0</th>\n",
        "        <th>B=1</th>\n",
        "    </tr>\n",
        "    <tr>\n",
        "        <td>X=M1</td>\n",
        "        <td>0.1*</td>\n",
        "        <td>0.5</td>\n",
        "        <td>0.4</td>\n",
        "        <td>0.2*</td>\n",
        "    </tr>\n",
        "    <tr>\n",
        "        <td>X=M2</td>\n",
        "        <td>0.5</td>\n",
        "        <td>0.1*</td>\n",
        "        <td>0.2*</td>\n",
        "        <td>0.4</td>\n",
        "    </tr>\n",
        "</table>"
      ]
    },
    {
      "cell_type": "markdown",
      "metadata": {
        "colab_type": "text",
        "id": "O-soGb7_Vxss"
      },
      "source": [
        "$D=1$: gambler is drunk $P(D=1) = 0.5$\n",
        "\n",
        "$B=1$: blinking machine $P(B=1) = 0.5$\n",
        "\n",
        "$X = d \\oplus b$: choice of arm"
      ]
    },
    {
      "cell_type": "markdown",
      "metadata": {
        "colab_type": "text",
        "id": "blro6Lv8XmMt"
      },
      "source": [
        "\\* indicates the user preference. It can be seen that the gambler has a very low chance of winning given these preferences."
      ]
    },
    {
      "cell_type": "markdown",
      "metadata": {
        "colab_type": "text",
        "id": "wt8r8Q6cXpb9"
      },
      "source": [
        "The DAG of the model would look something like this"
      ]
    },
    {
      "cell_type": "markdown",
      "metadata": {
        "colab_type": "text",
        "id": "srpv723tXxpP"
      },
      "source": [
        "![Model DAG](https://i.imgur.com/PuTvSej.png)"
      ]
    },
    {
      "cell_type": "code",
      "metadata": {
        "id": "joyWlrKPiwRl",
        "colab_type": "code",
        "colab": {
          "base_uri": "https://localhost:8080/",
          "height": 395
        },
        "outputId": "c813cfaf-b4cd-4e4f-9053-617877449a39"
      },
      "source": [
        "!pip install pyro-ppl"
      ],
      "execution_count": 1,
      "outputs": [
        {
          "output_type": "stream",
          "text": [
            "Collecting pyro-ppl\n",
            "\u001b[?25l  Downloading https://files.pythonhosted.org/packages/75/c8/3a52883ab27c5503385a983e4451a1e2944c2baab66c0f7ffc1f84bca329/pyro_ppl-1.1.0-py3-none-any.whl (429kB)\n",
            "\r\u001b[K     |▊                               | 10kB 29.4MB/s eta 0:00:01\r\u001b[K     |█▌                              | 20kB 3.1MB/s eta 0:00:01\r\u001b[K     |██▎                             | 30kB 4.1MB/s eta 0:00:01\r\u001b[K     |███                             | 40kB 2.9MB/s eta 0:00:01\r\u001b[K     |███▉                            | 51kB 3.3MB/s eta 0:00:01\r\u001b[K     |████▋                           | 61kB 3.9MB/s eta 0:00:01\r\u001b[K     |█████▍                          | 71kB 4.4MB/s eta 0:00:01\r\u001b[K     |██████                          | 81kB 4.5MB/s eta 0:00:01\r\u001b[K     |██████▉                         | 92kB 5.0MB/s eta 0:00:01\r\u001b[K     |███████▋                        | 102kB 4.6MB/s eta 0:00:01\r\u001b[K     |████████▍                       | 112kB 4.6MB/s eta 0:00:01\r\u001b[K     |█████████▏                      | 122kB 4.6MB/s eta 0:00:01\r\u001b[K     |██████████                      | 133kB 4.6MB/s eta 0:00:01\r\u001b[K     |██████████▊                     | 143kB 4.6MB/s eta 0:00:01\r\u001b[K     |███████████▌                    | 153kB 4.6MB/s eta 0:00:01\r\u001b[K     |████████████▏                   | 163kB 4.6MB/s eta 0:00:01\r\u001b[K     |█████████████                   | 174kB 4.6MB/s eta 0:00:01\r\u001b[K     |█████████████▊                  | 184kB 4.6MB/s eta 0:00:01\r\u001b[K     |██████████████▌                 | 194kB 4.6MB/s eta 0:00:01\r\u001b[K     |███████████████▎                | 204kB 4.6MB/s eta 0:00:01\r\u001b[K     |████████████████                | 215kB 4.6MB/s eta 0:00:01\r\u001b[K     |████████████████▉               | 225kB 4.6MB/s eta 0:00:01\r\u001b[K     |█████████████████▌              | 235kB 4.6MB/s eta 0:00:01\r\u001b[K     |██████████████████▎             | 245kB 4.6MB/s eta 0:00:01\r\u001b[K     |███████████████████             | 256kB 4.6MB/s eta 0:00:01\r\u001b[K     |███████████████████▉            | 266kB 4.6MB/s eta 0:00:01\r\u001b[K     |████████████████████▋           | 276kB 4.6MB/s eta 0:00:01\r\u001b[K     |█████████████████████▍          | 286kB 4.6MB/s eta 0:00:01\r\u001b[K     |██████████████████████▏         | 296kB 4.6MB/s eta 0:00:01\r\u001b[K     |███████████████████████         | 307kB 4.6MB/s eta 0:00:01\r\u001b[K     |███████████████████████▋        | 317kB 4.6MB/s eta 0:00:01\r\u001b[K     |████████████████████████▍       | 327kB 4.6MB/s eta 0:00:01\r\u001b[K     |█████████████████████████▏      | 337kB 4.6MB/s eta 0:00:01\r\u001b[K     |██████████████████████████      | 348kB 4.6MB/s eta 0:00:01\r\u001b[K     |██████████████████████████▊     | 358kB 4.6MB/s eta 0:00:01\r\u001b[K     |███████████████████████████▌    | 368kB 4.6MB/s eta 0:00:01\r\u001b[K     |████████████████████████████▎   | 378kB 4.6MB/s eta 0:00:01\r\u001b[K     |█████████████████████████████   | 389kB 4.6MB/s eta 0:00:01\r\u001b[K     |█████████████████████████████▊  | 399kB 4.6MB/s eta 0:00:01\r\u001b[K     |██████████████████████████████▌ | 409kB 4.6MB/s eta 0:00:01\r\u001b[K     |███████████████████████████████▎| 419kB 4.6MB/s eta 0:00:01\r\u001b[K     |████████████████████████████████| 430kB 4.6MB/s \n",
            "\u001b[?25hRequirement already satisfied: opt-einsum>=2.3.2 in /usr/local/lib/python3.6/dist-packages (from pyro-ppl) (3.1.0)\n",
            "Collecting pyro-api>=0.1.1\n",
            "  Downloading https://files.pythonhosted.org/packages/c2/bc/6cdbd1929e32fff62a33592633c2cc0393c7f7739131ccc9c9c4e28ac8dd/pyro_api-0.1.1-py3-none-any.whl\n",
            "Collecting tqdm>=4.36\n",
            "\u001b[?25l  Downloading https://files.pythonhosted.org/packages/72/c9/7fc20feac72e79032a7c8138fd0d395dc6d8812b5b9edf53c3afd0b31017/tqdm-4.41.1-py2.py3-none-any.whl (56kB)\n",
            "\u001b[K     |████████████████████████████████| 61kB 7.4MB/s \n",
            "\u001b[?25hRequirement already satisfied: numpy>=1.7 in /usr/local/lib/python3.6/dist-packages (from pyro-ppl) (1.17.5)\n",
            "Requirement already satisfied: torch>=1.3.0 in /usr/local/lib/python3.6/dist-packages (from pyro-ppl) (1.3.1)\n",
            "Installing collected packages: pyro-api, tqdm, pyro-ppl\n",
            "  Found existing installation: tqdm 4.28.1\n",
            "    Uninstalling tqdm-4.28.1:\n",
            "      Successfully uninstalled tqdm-4.28.1\n",
            "Successfully installed pyro-api-0.1.1 pyro-ppl-1.1.0 tqdm-4.41.1\n"
          ],
          "name": "stdout"
        },
        {
          "output_type": "display_data",
          "data": {
            "application/vnd.colab-display-data+json": {
              "pip_warning": {
                "packages": [
                  "tqdm"
                ]
              }
            }
          },
          "metadata": {
            "tags": []
          }
        }
      ]
    },
    {
      "cell_type": "code",
      "metadata": {
        "colab_type": "code",
        "id": "htaJwSAaDc6S",
        "colab": {}
      },
      "source": [
        "from pyro import sample, condition, do, infer\n",
        "import pyro.distributions as dist\n",
        "from torch import tensor\n",
        "from pyro.poutine import trace\n",
        "from csv import writer\n",
        "import pandas as pd\n",
        "from numpy import ones\n",
        "import numpy as np\n",
        "import matplotlib.pyplot as plt"
      ],
      "execution_count": 0,
      "outputs": []
    },
    {
      "cell_type": "code",
      "metadata": {
        "colab_type": "code",
        "id": "lJDxleqnDh4R",
        "colab": {}
      },
      "source": [
        "class Game(object):\n",
        "    \"\"\"\n",
        "    Simulation of the game\n",
        "    drunk_pr: probability of a gambler being drunk\n",
        "    blink_pr: probability that machine would be blinking\n",
        "    payout_pr: probability of payout\n",
        "    policy: an object of the Policy class containing two methods choose_arm() and update(Y)\n",
        "    T: number of trials\n",
        "    \"\"\"\n",
        "    def __init__(self, drunk_pr, blink_pr, payout_pr, policy=None, T=1000):\n",
        "        self.drunk_pr = drunk_pr\n",
        "        self.blink_pr = blink_pr\n",
        "        self.payout_pr = payout_pr\n",
        "        self.policy = policy\n",
        "        self.T = T\n",
        "        self.chosen_arm = 0\n",
        "        \n",
        "        # Save the arms chosen and rewards  \n",
        "        self.logs = []\n",
        "        \n",
        "        # information about drunk and blinking\n",
        "        self.config = [0.] * len(self.payout_pr[0])\n",
        "        self.current_config = -1\n",
        "        \n",
        "        # cumulative regret \n",
        "        self.cumulative_regret = []\n",
        "        \n",
        "        # Choosing the best arm \n",
        "        self.best_arm_prob = []\n",
        "        self.best_arm_count = 0\n",
        "    \n",
        "    \n",
        "    def fb(self):\n",
        "        return sample(\"b\", dist.Bernoulli(self.blink_pr))\n",
        "    \n",
        "    def fd(self):\n",
        "        return sample(\"d\", dist.Bernoulli(self.drunk_pr))\n",
        "\n",
        "    def fx(self,b, d):\n",
        "        return sample(\"x\", dist.Delta(tensor(float(int(b) ^ int(d))))) \n",
        "\n",
        "    def fy(self,x, b, d):\n",
        "        return sample(\"y\", dist.Bernoulli(self.payout_pr[int(x)][int(b + 2*d)]))\n",
        "\n",
        "    def model(self):\n",
        "        b = self.fb()\n",
        "        d = self.fd()\n",
        "        x = self.fx(b, d)\n",
        "        y = self.fy(x, b, d)\n",
        "        return y\n",
        "    \n",
        "    # helper function to export the logs for future use\n",
        "    def export(self, file=\"logs.csv\"):\n",
        "        with open(file,'w', newline='') as out:\n",
        "            csv_out=writer(out)\n",
        "            csv_out.writerow(['x', 'y'])\n",
        "            for row in self.logs:\n",
        "                csv_out.writerow(row)\n",
        "    \n",
        "    def play(self):\n",
        "        for _ in range(self.T):\n",
        "            if self.policy == None:\n",
        "                trace_handler = trace(self.model)\n",
        "                tr = trace_handler.get_trace()\n",
        "                self.current_config = int(tr.nodes[\"b\"][\"value\"].item() + 2 * tr.nodes[\"d\"][\"value\"].item()) \n",
        "                self.config[self.current_config] += 1\n",
        "                rec = (tr.nodes[\"x\"][\"value\"].item(), tr.nodes[\"y\"][\"value\"].item())\n",
        "                self.logs.append(rec)\n",
        "            else:\n",
        "                # Generate the context/environment\n",
        "                context = {}\n",
        "                context[\"b\"] = self.fb()\n",
        "                context[\"d\"] = self.fd()\n",
        "                self.current_config = int(context[\"b\"] + 2 * context[\"d\"])\n",
        "                self.config[self.current_config] += 1 \n",
        "                \n",
        "                # Use the appropriat policy to choose which arm needs to played next\n",
        "                self.chosen_arm = self.policy.choose_arm(context)\n",
        "                \n",
        "                # intervene and pull\n",
        "                int_model = do(condition(self.model, {\"b\": context[\"b\"], \"d\": context[\"d\"]}), {'x': self.chosen_arm})\n",
        "                \n",
        "                # get trace\n",
        "                trace_handler = trace(int_model)\n",
        "                tr = trace_handler.get_trace()\n",
        "                rec = (self.chosen_arm.item(), tr.nodes[\"y\"][\"value\"].item())\n",
        "                \n",
        "                # save arm and payout for the trial \n",
        "                self.logs.append(rec)\n",
        "                \n",
        "                # update policy\n",
        "                self.policy.update(tr.nodes[\"y\"][\"value\"])\n",
        "                \n",
        "            # update stats\n",
        "            self.cumulative_regret.append(self.regret())\n",
        "            self.best_arm_prob.append(self.best_arm())\n",
        "    \n",
        "    def regret(self):\n",
        "        reward_sum = sum([el[1] for el in self.logs])\n",
        "        return sum(self.payout_pr.max(dim=0)[0] * tensor(self.config)) - reward_sum\n",
        "    \n",
        "    def best_arm(self):\n",
        "        # get the best arm for the current context\n",
        "        best_val = np.argmax(self.payout_pr, axis=0)[self.current_config]\n",
        "        self.best_arm_count += int(best_val == self.chosen_arm)\n",
        "        return self.best_arm_count/len(self.logs)\n",
        "      \n",
        "    \n",
        "    def stats(self):\n",
        "        X_Y = []\n",
        "        for k in [0.0, 1.0]:\n",
        "            X_Y.append(len([self.logs[i][1] for i in range(len(self.logs)) if (self.logs[i][1] == 1.0  and self.logs[i][0] == k)])\\\n",
        "                        /len([el[0] for el in self.logs if el[0] == k]))\n",
        "\n",
        "        stats = [X_Y[0],X_Y[1]]\n",
        "\n",
        "\n",
        "        return stats"
      ],
      "execution_count": 0,
      "outputs": []
    },
    {
      "cell_type": "markdown",
      "metadata": {
        "colab_type": "text",
        "id": "Tsn5pjpWY4IF"
      },
      "source": [
        "# Drunk Gambler  \n",
        "The gamblers play according to their natural predilections"
      ]
    },
    {
      "cell_type": "code",
      "metadata": {
        "colab_type": "code",
        "id": "rr0PkGshIoWu",
        "colab": {}
      },
      "source": [
        "drunk_pr = tensor(0.5)\n",
        "blink_pr = tensor(0.5)\n",
        "payout_pr = tensor([[0.1, 0.5, 0.4, 0.2],\n",
        "                    [0.5, 0.1, 0.2, 0.4]])\n",
        "trials = 1000\n",
        "N = 100 # Monte Carlo simulations\n",
        "n_bandits = 2"
      ],
      "execution_count": 0,
      "outputs": []
    },
    {
      "cell_type": "code",
      "metadata": {
        "colab_type": "code",
        "id": "625bnnWtK_2a",
        "colab": {}
      },
      "source": [
        "drunk_regret = tensor([0.] * trials)\n",
        "drunk_results = tensor([0.] * n_bandits)\n",
        "for _ in range(N):\n",
        "    game = Game(drunk_pr=drunk_pr, blink_pr=blink_pr, payout_pr=payout_pr, T=trials, policy=None)\n",
        "    game.play()\n",
        "    drunk_regret += tensor(game.cumulative_regret)\n",
        "    drunk_results += tensor(game.stats())"
      ],
      "execution_count": 0,
      "outputs": []
    },
    {
      "cell_type": "markdown",
      "metadata": {
        "colab_type": "text",
        "id": "Bm-wxH90ZCoJ"
      },
      "source": [
        "On running a simulation of the drunk gambler playing based on this new set up, we would get the following results"
      ]
    },
    {
      "cell_type": "code",
      "metadata": {
        "colab_type": "code",
        "id": "X_oStHNCNJxB",
        "outputId": "9cab9d4b-88a9-43a2-9df6-a07c17537577",
        "colab": {
          "base_uri": "https://localhost:8080/",
          "height": 111
        }
      },
      "source": [
        "pd.DataFrame((drunk_results/N).tolist(), columns=[\"P(Y=1|X)\"], index=[\"X=M1\",\"X=M2\"])"
      ],
      "execution_count": 5,
      "outputs": [
        {
          "output_type": "execute_result",
          "data": {
            "text/html": [
              "<div>\n",
              "<style scoped>\n",
              "    .dataframe tbody tr th:only-of-type {\n",
              "        vertical-align: middle;\n",
              "    }\n",
              "\n",
              "    .dataframe tbody tr th {\n",
              "        vertical-align: top;\n",
              "    }\n",
              "\n",
              "    .dataframe thead th {\n",
              "        text-align: right;\n",
              "    }\n",
              "</style>\n",
              "<table border=\"1\" class=\"dataframe\">\n",
              "  <thead>\n",
              "    <tr style=\"text-align: right;\">\n",
              "      <th></th>\n",
              "      <th>P(Y=1|X)</th>\n",
              "    </tr>\n",
              "  </thead>\n",
              "  <tbody>\n",
              "    <tr>\n",
              "      <th>X=M1</th>\n",
              "      <td>0.150353</td>\n",
              "    </tr>\n",
              "    <tr>\n",
              "      <th>X=M2</th>\n",
              "      <td>0.150313</td>\n",
              "    </tr>\n",
              "  </tbody>\n",
              "</table>\n",
              "</div>"
            ],
            "text/plain": [
              "      P(Y=1|X)\n",
              "X=M1  0.150353\n",
              "X=M2  0.150313"
            ]
          },
          "metadata": {
            "tags": []
          },
          "execution_count": 5
        }
      ]
    },
    {
      "cell_type": "markdown",
      "metadata": {
        "colab_type": "text",
        "id": "vBF_JFxnOWuk"
      },
      "source": [
        "# Gaming Commission  \n",
        "The state decides to test if the 30% payout criterion is satisfied at this casino. This is done by choosing an arm based on a coin-flip i.e. $P(X=M_1) = P(X=M_2) = 0.5$"
      ]
    },
    {
      "cell_type": "code",
      "metadata": {
        "colab_type": "code",
        "id": "zHoo9PAqNm2w",
        "colab": {}
      },
      "source": [
        "class Policy(object):\n",
        "    def __init__(self):\n",
        "        pass\n",
        "    def update(self, Y):\n",
        "        pass\n",
        "    def choose_arm(self, context=None):\n",
        "        pass"
      ],
      "execution_count": 0,
      "outputs": []
    },
    {
      "cell_type": "code",
      "metadata": {
        "colab_type": "code",
        "id": "BKYQINplObAz",
        "colab": {}
      },
      "source": [
        "class RandomSampler(Policy):\n",
        "    \"\"\"\n",
        "    Implementation of a Random Sampler where choosing each arm has equal probability\n",
        "    n_bandits: Number of slot machines\n",
        "  \"\"\"\n",
        "    def __init__(self, n_bandits):\n",
        "        self.n_bandits = n_bandits\n",
        "        self.params = [{\"w\": 0, \"l\": 0} for _ in range(self.n_bandits)]\n",
        "        self.arm_selected = 0\n",
        "        \n",
        "    def update(self, Y):\n",
        "        if Y == 1:\n",
        "            self.params[self.arm_selected][\"w\"] += 1\n",
        "        else:\n",
        "            self.params[self.arm_selected][\"l\"] += 1\n",
        "            \n",
        "    def choose_arm(self, context=None):\n",
        "        # each arm has an equal chance of being selected\n",
        "        probs = [1/self.n_bandits] * self.n_bandits\n",
        "        self.arm_selected = sample(\"arm_selected\", dist.Categorical(tensor(probs)))\n",
        "        return self.arm_selected"
      ],
      "execution_count": 0,
      "outputs": []
    },
    {
      "cell_type": "code",
      "metadata": {
        "colab_type": "code",
        "id": "Km_kdEgYOoHb",
        "colab": {}
      },
      "source": [
        "commission_regret = tensor([0.] * trials)\n",
        "commission_best_arm = tensor([0.] * trials)\n",
        "commission_results = tensor([0.] * n_bandits)\n",
        "for _ in range(N):\n",
        "    game = Game(drunk_pr=drunk_pr, blink_pr=blink_pr, payout_pr=payout_pr, T=trials, policy=RandomSampler(n_bandits=2))\n",
        "    game.play()\n",
        "    commission_regret += tensor(game.cumulative_regret)\n",
        "    commission_best_arm += tensor(game.best_arm_prob)\n",
        "    commission_results += tensor(game.stats())\n",
        "    "
      ],
      "execution_count": 0,
      "outputs": []
    },
    {
      "cell_type": "markdown",
      "metadata": {
        "colab_type": "text",
        "id": "2TE1_fnbPu2i"
      },
      "source": [
        "On running a simulation of the gaming commission verifying the 30% payout, we would get the following results"
      ]
    },
    {
      "cell_type": "code",
      "metadata": {
        "colab_type": "code",
        "id": "kIs0XPYSPvON",
        "outputId": "00c9efef-6cba-4f79-99b0-a8bdd641aacf",
        "colab": {
          "base_uri": "https://localhost:8080/",
          "height": 111
        }
      },
      "source": [
        "pd.DataFrame((commission_results/N).tolist(), columns=[\"P(Y=1|X)\"], index=[\"X=M1\",\"X=M2\"])"
      ],
      "execution_count": 9,
      "outputs": [
        {
          "output_type": "execute_result",
          "data": {
            "text/html": [
              "<div>\n",
              "<style scoped>\n",
              "    .dataframe tbody tr th:only-of-type {\n",
              "        vertical-align: middle;\n",
              "    }\n",
              "\n",
              "    .dataframe tbody tr th {\n",
              "        vertical-align: top;\n",
              "    }\n",
              "\n",
              "    .dataframe thead th {\n",
              "        text-align: right;\n",
              "    }\n",
              "</style>\n",
              "<table border=\"1\" class=\"dataframe\">\n",
              "  <thead>\n",
              "    <tr style=\"text-align: right;\">\n",
              "      <th></th>\n",
              "      <th>P(Y=1|X)</th>\n",
              "    </tr>\n",
              "  </thead>\n",
              "  <tbody>\n",
              "    <tr>\n",
              "      <th>X=M1</th>\n",
              "      <td>0.297600</td>\n",
              "    </tr>\n",
              "    <tr>\n",
              "      <th>X=M2</th>\n",
              "      <td>0.298539</td>\n",
              "    </tr>\n",
              "  </tbody>\n",
              "</table>\n",
              "</div>"
            ],
            "text/plain": [
              "      P(Y=1|X)\n",
              "X=M1  0.297600\n",
              "X=M2  0.298539"
            ]
          },
          "metadata": {
            "tags": []
          },
          "execution_count": 9
        }
      ]
    },
    {
      "cell_type": "markdown",
      "metadata": {
        "colab_type": "text",
        "id": "TWYo3-T5ZSUf"
      },
      "source": [
        "It can be seen from the results that:\n",
        "    \n",
        "- The two arms are indistinguishable.\n",
        "\n",
        "- A user choosing based on natural predilections has a lower chance of winning.\n",
        "\n",
        "- The gaming commission conclude that the 30% criteria has been met."
      ]
    },
    {
      "cell_type": "markdown",
      "metadata": {
        "colab_type": "text",
        "id": "IzdKbkLlP0R6"
      },
      "source": [
        "# Thompson Sampling  \n",
        "Thompson sampling is a very well known algorithm used widely in multi-class bandit problems."
      ]
    },
    {
      "cell_type": "code",
      "metadata": {
        "colab_type": "code",
        "id": "b0rIKqnoPysr",
        "colab": {}
      },
      "source": [
        "class ThompsonSampler(Policy):\n",
        "    \"\"\"\n",
        "    Implementation of Causal Thompson sampling \n",
        "    n_bandits: Number of slot machines\n",
        "  \"\"\"\n",
        "    def __init__(self, n_bandits):\n",
        "        self.n_bandits = n_bandits\n",
        "        # keep track of rewards for each arm\n",
        "        self.params = [{\"a\": 1, \"b\": 1} for _ in range(self.n_bandits)]\n",
        "        self.arm_selected = 0\n",
        "    \n",
        "    def update(self, Y):\n",
        "        # update parameters based on payout\n",
        "        if Y == 1:\n",
        "            self.params[self.arm_selected][\"a\"] += 1\n",
        "        else:\n",
        "            self.params[self.arm_selected][\"b\"] += 1\n",
        "            \n",
        "    def choose_arm(self, context=None):\n",
        "        # determine weights based on past rewards\n",
        "        probs = [el[\"a\"]/(el[\"a\"] + el[\"b\"]) for el in self.params]\n",
        "        \n",
        "        # sample arm from a categorical distribution\n",
        "        self.arm_selected = sample(\"arm_selected\", dist.Categorical(tensor(probs)))\n",
        "        return self.arm_selected"
      ],
      "execution_count": 0,
      "outputs": []
    },
    {
      "cell_type": "code",
      "metadata": {
        "colab_type": "code",
        "id": "laDcGOzWP5pr",
        "colab": {}
      },
      "source": [
        "thompson_regret = tensor([0.] * trials)\n",
        "thompson_best_arm = tensor([0.] * trials)\n",
        "thompson_results = tensor([0.] * n_bandits)\n",
        "for _ in range(N):\n",
        "    game = Game(drunk_pr=drunk_pr, blink_pr=blink_pr, payout_pr=payout_pr, T=trials, policy=ThompsonSampler(n_bandits=2))\n",
        "    game.play()\n",
        "    thompson_regret += tensor(game.cumulative_regret)\n",
        "    thompson_best_arm += tensor(game.best_arm_prob)\n",
        "    thompson_results += tensor(game.stats())"
      ],
      "execution_count": 0,
      "outputs": []
    },
    {
      "cell_type": "code",
      "metadata": {
        "colab_type": "code",
        "id": "SleDQew8QP1r",
        "outputId": "e7650313-596f-41cf-a59e-fef81dcc88cc",
        "colab": {
          "base_uri": "https://localhost:8080/",
          "height": 111
        }
      },
      "source": [
        "pd.DataFrame((thompson_results/N).tolist(), columns=[\"P(Y=1|X)\"], index=[\"X=M1\",\"X=M2\"])"
      ],
      "execution_count": 12,
      "outputs": [
        {
          "output_type": "execute_result",
          "data": {
            "text/html": [
              "<div>\n",
              "<style scoped>\n",
              "    .dataframe tbody tr th:only-of-type {\n",
              "        vertical-align: middle;\n",
              "    }\n",
              "\n",
              "    .dataframe tbody tr th {\n",
              "        vertical-align: top;\n",
              "    }\n",
              "\n",
              "    .dataframe thead th {\n",
              "        text-align: right;\n",
              "    }\n",
              "</style>\n",
              "<table border=\"1\" class=\"dataframe\">\n",
              "  <thead>\n",
              "    <tr style=\"text-align: right;\">\n",
              "      <th></th>\n",
              "      <th>P(Y=1|X)</th>\n",
              "    </tr>\n",
              "  </thead>\n",
              "  <tbody>\n",
              "    <tr>\n",
              "      <th>X=M1</th>\n",
              "      <td>0.301254</td>\n",
              "    </tr>\n",
              "    <tr>\n",
              "      <th>X=M2</th>\n",
              "      <td>0.299237</td>\n",
              "    </tr>\n",
              "  </tbody>\n",
              "</table>\n",
              "</div>"
            ],
            "text/plain": [
              "      P(Y=1|X)\n",
              "X=M1  0.301254\n",
              "X=M2  0.299237"
            ]
          },
          "metadata": {
            "tags": []
          },
          "execution_count": 12
        }
      ]
    },
    {
      "cell_type": "markdown",
      "metadata": {
        "colab_type": "text",
        "id": "ExLXLOeiZXso"
      },
      "source": [
        "As we can see , Thompson sampling performs no better than a Random sampler"
      ]
    },
    {
      "cell_type": "markdown",
      "metadata": {
        "colab_type": "text",
        "id": "0597h0zuQW1h"
      },
      "source": [
        "# Causal Thompson sampling  \n",
        "This is a new sampling method developed to account for unobserved confounders while sampling. Thompson sampling does not perform particularly well when there are unobserved confounders."
      ]
    },
    {
      "cell_type": "markdown",
      "metadata": {
        "colab_type": "text",
        "id": "3Vma0FNbaEmZ"
      },
      "source": [
        "## How Causal Thompson sampling works  \n",
        "A causal thompson sampler takes into account the users intuition to play an arm and suggests an introspection comparing the odds of winning following his intuition or going against it. It considers using the rule that compares the average payouts obtained by players for choosing in favour or against their intuition. This procedure is called regret decision criteria. We exploit the fact that a superior arm will emerge quickly by weighting the favorable arm by making it more likely to be chosen early in the learning process."
      ]
    },
    {
      "cell_type": "code",
      "metadata": {
        "colab_type": "code",
        "id": "ppDaOJA6QSP5",
        "colab": {}
      },
      "source": [
        "class CausalThompsonSampler(Policy):\n",
        "    \"\"\"\n",
        "        Implementation of Causal Thompson sampling \n",
        "        n_bandits: Number of slot machines\n",
        "        payout_pr: Probability of payout\n",
        "    \"\"\"\n",
        "    def __init__(self, n_bandits, payout_pr):\n",
        "        self.n_bandits = n_bandits\n",
        "        \n",
        "        # success and failure counts of playing an arm (Observation)\n",
        "        self.s = ones((2,2))\n",
        "        self.f = ones((2,2))\n",
        "      \n",
        "        # arm selected based on the causal thompson policy\n",
        " \n",
        "        self.arm_selected = 0\n",
        "        \n",
        "        # arm based on intuition\n",
        "        self.x_intuition = 0\n",
        "        \n",
        "         # P(Y=1|X=0, Z=0) * 100 , Z is the intuition \n",
        "        self.s[0][0] = (payout_pr[0][0] + payout_pr[0][3]) * 100/2 \n",
        "        \n",
        "        # P(Y=1|X=1, Z=1) * 100 \n",
        "        self.s[1][1] = (payout_pr[1][1] + payout_pr[1][2]) * 100/2\n",
        "        \n",
        "        # P(Y=0|X=0, Z=0) * 100 \n",
        "        self.f[0][0] = (1 - payout_pr[0][0] + 1 - payout_pr[0][3]) * 100/ 2\n",
        "        \n",
        "        # P(Y=0|X=1, Z=1) * 100 \n",
        "        self.f[1][1] = (1 - payout_pr[1][1] + 1 - payout_pr[1][2]) * 100/2   \n",
        "       \n",
        "        # P(Y=1|X) Probability of payout for each arm by observation \n",
        "        self.p_Y_X = [self.s[i][i]/(self.s[i][i] + self.f[i][i]) for i in range(self.n_bandits)]\n",
        "        \n",
        "        # updated probability of payout for each arm \n",
        "        self.theta = [0, 0]   \n",
        "        \n",
        "        \n",
        "    def update(self, reward):\n",
        "        # update the count of payouts\n",
        "        self.s[self.x_intuition][self.arm_selected] += int(reward)\n",
        "        self.f[self.x_intuition][self.arm_selected] += 1 - int(reward)   \n",
        "  \n",
        "    def choose_arm(self, context): \n",
        "        \n",
        "        # arm to be played according to players natural predilection\n",
        "        self.x_intuition = int(context['b']) ^ int(context['d'])\n",
        "        \n",
        "        # counter intuition, if x is 0, x' is 1 else 0\n",
        "        x_prime = 1 - self.x_intuition\n",
        "        \n",
        "        # P(Y=1|do(X=x)) \n",
        "        p_Y_doX_Z = [[self.s[i][0]/(self.s[i][0] + self.f[i][0]), self.s[i][1]/(self.s[i][1] + self.f[i][1])] for i in range(self.n_bandits)] \n",
        "\n",
        "        # E(YX=x' |X = x) estimated payout for counter intuition\n",
        "        Q1 = p_Y_doX_Z[self.x_intuition][x_prime]\n",
        "        \n",
        "        # P(y|X = x) , estimated payout for intuiton\n",
        "        Q2 = self.p_Y_X[self.x_intuition] \n",
        "        \n",
        "        # ETT\n",
        "        bias = abs(Q1- Q2)\n",
        "         \n",
        "        # initialize weights\n",
        "        w = ones(2)\n",
        "        \n",
        "        if np.isnan(bias):\n",
        "            weight = 1\n",
        "        else:\n",
        "            weight = 1 - bias\n",
        "        \n",
        "        # choose arm to bias        \n",
        "        if Q1 > Q2:\n",
        "            w[self.x_intuition] = weight\n",
        "        else:\n",
        "            w[x_prime] = weight\n",
        "        \n",
        "        # choose arm\n",
        "        self.theta = [sample(\"theta_0\", dist.Beta(self.s[self.x_intuition][0], self.f[self.x_intuition][0])) * w[0],  sample(\"theta_1\", dist.Beta(self.s[self.x_intuition][1], self.f[self.x_intuition][1])) * w[1]]\n",
        "        self.arm_selected = self.theta.index(max(self.theta))\n",
        "        return tensor(self.arm_selected)"
      ],
      "execution_count": 0,
      "outputs": []
    },
    {
      "cell_type": "code",
      "metadata": {
        "colab_type": "code",
        "id": "uQSLh9P8Qk3r",
        "colab": {}
      },
      "source": [
        "causal_regret = tensor([0.] * trials)\n",
        "causal_best_arm = tensor([0.] * trials)\n",
        "causal_results = tensor([0.] * n_bandits)\n",
        "for _ in range(N):\n",
        "    game = Game(drunk_pr=drunk_pr, blink_pr=blink_pr, payout_pr=payout_pr, T=trials, policy=CausalThompsonSampler(n_bandits=2, payout_pr=payout_pr))\n",
        "    game.play()\n",
        "    causal_regret += tensor(game.cumulative_regret)\n",
        "    causal_best_arm += tensor(game.best_arm_prob)\n",
        "    causal_results += tensor(game.stats())"
      ],
      "execution_count": 0,
      "outputs": []
    },
    {
      "cell_type": "markdown",
      "metadata": {
        "colab_type": "text",
        "id": "4uRbwezxaPtm"
      },
      "source": [
        "On running simulations of Causal Thompson sampling, we get the following results\n"
      ]
    },
    {
      "cell_type": "code",
      "metadata": {
        "colab_type": "code",
        "id": "5td_AZS4RP2X",
        "outputId": "6e29855d-d595-4d20-e6e7-48f83bdbef8c",
        "colab": {
          "base_uri": "https://localhost:8080/",
          "height": 111
        }
      },
      "source": [
        "pd.DataFrame((causal_results/N).tolist(), columns=[\"P(Y=1|X)\"], index=[\"X=M1\",\"X=M2\"])"
      ],
      "execution_count": 15,
      "outputs": [
        {
          "output_type": "execute_result",
          "data": {
            "text/html": [
              "<div>\n",
              "<style scoped>\n",
              "    .dataframe tbody tr th:only-of-type {\n",
              "        vertical-align: middle;\n",
              "    }\n",
              "\n",
              "    .dataframe tbody tr th {\n",
              "        vertical-align: top;\n",
              "    }\n",
              "\n",
              "    .dataframe thead th {\n",
              "        text-align: right;\n",
              "    }\n",
              "</style>\n",
              "<table border=\"1\" class=\"dataframe\">\n",
              "  <thead>\n",
              "    <tr style=\"text-align: right;\">\n",
              "      <th></th>\n",
              "      <th>P(Y=1|X)</th>\n",
              "    </tr>\n",
              "  </thead>\n",
              "  <tbody>\n",
              "    <tr>\n",
              "      <th>X=M1</th>\n",
              "      <td>0.451602</td>\n",
              "    </tr>\n",
              "    <tr>\n",
              "      <th>X=M2</th>\n",
              "      <td>0.448715</td>\n",
              "    </tr>\n",
              "  </tbody>\n",
              "</table>\n",
              "</div>"
            ],
            "text/plain": [
              "      P(Y=1|X)\n",
              "X=M1  0.451602\n",
              "X=M2  0.448715"
            ]
          },
          "metadata": {
            "tags": []
          },
          "execution_count": 15
        }
      ]
    },
    {
      "cell_type": "markdown",
      "metadata": {
        "colab_type": "text",
        "id": "4VM4JG-WaT8s"
      },
      "source": [
        "# Results  "
      ]
    },
    {
      "cell_type": "markdown",
      "metadata": {
        "colab_type": "text",
        "id": "1ROShP4ZaWH8"
      },
      "source": [
        "Cumulative regret for each policy"
      ]
    },
    {
      "cell_type": "code",
      "metadata": {
        "colab_type": "code",
        "id": "IsIlEQY0RTDu",
        "outputId": "7cf25786-6af5-4db3-f4f8-c0f05198d4f0",
        "colab": {
          "base_uri": "https://localhost:8080/",
          "height": 295
        }
      },
      "source": [
        "plt.figure()\n",
        "plt.title(\"Cumulative regret\")\n",
        "plt.xlabel(\"# of trials\")\n",
        "plt.ylabel(\"Cumulative regret\")\n",
        "plt.plot([el.item() for el in list(drunk_regret/N)], label=\"Observational\")\n",
        "plt.plot([el.item() for el in list(commission_regret/N)], label=\"Coin Flip\")\n",
        "plt.plot([el.item() for el in list(thompson_regret/N)], label=\"TS\")\n",
        "plt.plot([el.item() for el in list(causal_regret/N)], label=\"Causal TS\")\n",
        "plt.legend()\n",
        "plt.show()"
      ],
      "execution_count": 16,
      "outputs": [
        {
          "output_type": "display_data",
          "data": {
            "image/png": "[encoded data removed]",
            "text/plain": [
              "<Figure size 432x288 with 1 Axes>"
            ]
          },
          "metadata": {
            "tags": []
          }
        }
      ]
    },
    {
      "cell_type": "markdown",
      "metadata": {
        "colab_type": "text",
        "id": "rpuQ-A8OaZYs"
      },
      "source": [
        "Probability of choosing the best arm for each policy"
      ]
    },
    {
      "cell_type": "code",
      "metadata": {
        "colab_type": "code",
        "id": "bXgWfkssRYWC",
        "outputId": "a225b43e-f53d-486b-ece8-95ed86520eb9",
        "colab": {
          "base_uri": "https://localhost:8080/",
          "height": 295
        }
      },
      "source": [
        "plt.figure()\n",
        "plt.axis([0,1000, 0, 1.0])\n",
        "plt.title(\"Optimal action\")\n",
        "plt.plot([el.item() for el in list(commission_best_arm/N)], label=\"Observational\")\n",
        "plt.plot([el.item() for el in list(thompson_best_arm/N)], label=\"TS\")\n",
        "plt.plot([el.item() for el in list(causal_best_arm/N)], label=\"Causal TS\")\n",
        "plt.xlabel(\"# of trials\")\n",
        "plt.ylabel(\"Probability of choosing best arm\")\n",
        "plt.legend()\n",
        "plt.show()"
      ],
      "execution_count": 17,
      "outputs": [
        {
          "output_type": "display_data",
          "data": {
            "image/png": "[encoded data removed]",
            "text/plain": [
              "<Figure size 432x288 with 1 Axes>"
            ]
          },
          "metadata": {
            "tags": []
          }
        }
      ]
    },
    {
      "cell_type": "markdown",
      "metadata": {
        "colab_type": "text",
        "id": "e409k8pPRlCu"
      },
      "source": [
        "# Policy Evaluation\n",
        "Here we try to evaluate our causal thompson policy by using the logs from thompson sampling. \n",
        "This is a scenario of offline learning where we apply counterfactual reasoning to evaluate how the other policy would behave in the given environment.  \n",
        "In order to do so, we infer the noise values (in our case the exogenous variables as we dont have any other noise) based on the X and Y (arm and reward)  \n",
        "We use the Causal Thompson Policy to identify the arm that it would choose in the given environment.\n",
        "We then condition the model on the noise variables and perform do operation on the model using the arm chosen by the Causal thompson policy.   \n",
        "We perform this operation for every timestep in the logs. We compute the difference between the expected reward that we would have attained by using causal thompson policy vs the expected reward from using thompson policy . This is called as the counterfactual regret. "
      ]
    },
    {
      "cell_type": "markdown",
      "metadata": {
        "colab_type": "text",
        "id": "rxlePtPpRokH"
      },
      "source": [
        "## Collect logs from Thompson sampling"
      ]
    },
    {
      "cell_type": "code",
      "metadata": {
        "colab_type": "code",
        "id": "fO02PViTRnbe",
        "colab": {}
      },
      "source": [
        "g = Game(0.5, 0.5, payout_pr, ThompsonSampler(n_bandits=2))\n",
        "g.play()\n",
        "g.export()"
      ],
      "execution_count": 0,
      "outputs": []
    },
    {
      "cell_type": "code",
      "metadata": {
        "colab_type": "code",
        "id": "nisJ_w2rSu49",
        "colab": {}
      },
      "source": [
        "data = pd.DataFrame(g.logs, columns=['x', 'y'])"
      ],
      "execution_count": 0,
      "outputs": []
    },
    {
      "cell_type": "markdown",
      "metadata": {
        "colab_type": "text",
        "id": "gWf38NgpR1Tf"
      },
      "source": [
        "## Policy Evaluator"
      ]
    },
    {
      "cell_type": "code",
      "metadata": {
        "colab_type": "code",
        "id": "MGBck8UbR0mF",
        "colab": {}
      },
      "source": [
        "class PolicyEvaluator(object):\n",
        "    \"\"\"\n",
        "        Implementation of Policy Evaluator \n",
        "        game: Game object that contains the model that was used to generate logs\n",
        "        logs: data frame/file containing the logs for offline learning \n",
        "        policy: the policy that will be evaluated using the logs \n",
        "    \"\"\"\n",
        "    def __init__(self, game, logs, policy=None):\n",
        "        self.game = game\n",
        "        self.logs = logs\n",
        "        self.rewards = []\n",
        "        self.chosen_arms = []\n",
        "        self.policy = policy\n",
        "        self.cumulative_regret = []\n",
        "        self.regular_regret = []\n",
        "        self.best_arm_prob = []\n",
        "        self.best_arm_count = 0\n",
        "        self.game_config = [0.] * len(self.game.payout_pr[0])\n",
        "        \n",
        "        \n",
        "        \n",
        "    def __call__(self):\n",
        "        # if we were to use the logs from a file\n",
        "        # data = pd.read_csv(self.logs) \n",
        "        \n",
        "        nrows = self.logs.shape[0]\n",
        "        \n",
        "        # for each timestep in the log data evaluate what Causal Thompson would do\n",
        "        for i in range(nrows):\n",
        "            rec = data.iloc[i, :] \n",
        "            \n",
        "            # Logs consist of X and Y, we have to infer b and d from the model\n",
        "            \n",
        "            conditioned_model = condition(self.game.model, {\"x\": tensor(rec[\"x\"]), \"y\": tensor(rec[\"y\"])})\n",
        "            posterior = infer.Importance(conditioned_model, num_samples=100).run()\n",
        "            trace = posterior()\n",
        "            b = trace.nodes[\"b\"][\"value\"]\n",
        "            d = trace.nodes[\"d\"][\"value\"]\n",
        "            \n",
        "            context = {\"b\": b, \"d\": d}\n",
        "            # the arm that the policy being evaluated would play in the given context\n",
        "            chosen_arm = self.policy.choose_arm(context)\n",
        "            \n",
        "            # simulate outcome for the chosen arm\n",
        "            model = do(condition(self.game.model, {\"b\": b, \"d\": d}), {\"x\": chosen_arm})\n",
        "            y = model()\n",
        "            \n",
        "            # update policy\n",
        "            self.policy.update(y)\n",
        "            \n",
        "            # save stats\n",
        "            self.chosen_arms.append(int(chosen_arm))\n",
        "            self.rewards.append(y)\n",
        "            \n",
        "            # estimate the probability of choosing best arm for the policy being evaluated\n",
        "            self.game_config[int(2 * context['d'] + context['b'] )] += 1\n",
        "            self.best_arm_prob.append(self.policy_best_arm(int(2 * context['d'] + context['b'] )))\n",
        "            \n",
        "            # estimate cumulative regret for the policy being evaluated\n",
        "            self.regular_regret.append(self.policy_regret())\n",
        "            \n",
        "            # estimate counterfactual regret\n",
        "            self.cumulative_regret.append(np.sum(self.rewards) - np.sum(self.logs['y'][:i])) \n",
        "    \n",
        "    def policy_regret(self):\n",
        "        return sum(self.game.payout_pr.max(dim=0)[0] * tensor(self.game_config)) - sum(self.rewards)\n",
        "    \n",
        "    def policy_best_arm(self, config):\n",
        "        # get the best arm for the current context\n",
        "        best_val = np.argmax(self.game.payout_pr, axis=0)[config]\n",
        "        self.best_arm_count += int(best_val == self.chosen_arms[-1])\n",
        "        return self.best_arm_count/len(self.rewards)\n",
        "            \n",
        "            \n",
        "            \n",
        "            \n",
        "      "
      ],
      "execution_count": 0,
      "outputs": []
    },
    {
      "cell_type": "markdown",
      "metadata": {
        "colab_type": "text",
        "id": "CUxJiRtjg3HD"
      },
      "source": [
        "Evaluating the Causal Thompson Policy "
      ]
    },
    {
      "cell_type": "code",
      "metadata": {
        "colab_type": "code",
        "id": "jAFcrtKFPIvA",
        "colab": {}
      },
      "source": [
        "cf_regret = tensor([0.] * trials)\n",
        "policy_regret = tensor([0.] * trials)\n",
        "policy_best_arm = tensor([0.] * trials)\n",
        "for _ in range(10):\n",
        "    pe = PolicyEvaluator(g, data, policy=CausalThompsonSampler(n_bandits=2, payout_pr=payout_pr))\n",
        "    pe()\n",
        "    cf_regret += tensor(pe.cumulative_regret)\n",
        "    policy_best_arm += tensor(pe.best_arm_prob)\n",
        "    policy_regret += tensor(pe.regular_regret)\n",
        "    \n",
        "    "
      ],
      "execution_count": 0,
      "outputs": []
    },
    {
      "cell_type": "markdown",
      "metadata": {
        "colab_type": "text",
        "id": "WWtRjCmoask1"
      },
      "source": [
        "The payout rates for each arm when Causal Thompson sampling is used in the environment"
      ]
    },
    {
      "cell_type": "code",
      "metadata": {
        "colab_type": "code",
        "id": "7VKeMjgsTfYb",
        "outputId": "e2ee7c62-f00d-413c-ff5a-d759ed8bac32",
        "colab": {
          "base_uri": "https://localhost:8080/",
          "height": 142
        }
      },
      "source": [
        "pd.DataFrame(list(zip(pe.chosen_arms, [el.int().item() for el in pe.rewards])), columns=['X', 'P(Y=1|X)']).groupby(['X']).mean()"
      ],
      "execution_count": 22,
      "outputs": [
        {
          "output_type": "execute_result",
          "data": {
            "text/html": [
              "<div>\n",
              "<style scoped>\n",
              "    .dataframe tbody tr th:only-of-type {\n",
              "        vertical-align: middle;\n",
              "    }\n",
              "\n",
              "    .dataframe tbody tr th {\n",
              "        vertical-align: top;\n",
              "    }\n",
              "\n",
              "    .dataframe thead th {\n",
              "        text-align: right;\n",
              "    }\n",
              "</style>\n",
              "<table border=\"1\" class=\"dataframe\">\n",
              "  <thead>\n",
              "    <tr style=\"text-align: right;\">\n",
              "      <th></th>\n",
              "      <th>P(Y=1|X)</th>\n",
              "    </tr>\n",
              "    <tr>\n",
              "      <th>X</th>\n",
              "      <th></th>\n",
              "    </tr>\n",
              "  </thead>\n",
              "  <tbody>\n",
              "    <tr>\n",
              "      <th>0</th>\n",
              "      <td>0.401302</td>\n",
              "    </tr>\n",
              "    <tr>\n",
              "      <th>1</th>\n",
              "      <td>0.473098</td>\n",
              "    </tr>\n",
              "  </tbody>\n",
              "</table>\n",
              "</div>"
            ],
            "text/plain": [
              "   P(Y=1|X)\n",
              "X          \n",
              "0  0.401302\n",
              "1  0.473098"
            ]
          },
          "metadata": {
            "tags": []
          },
          "execution_count": 22
        }
      ]
    },
    {
      "cell_type": "markdown",
      "metadata": {
        "colab_type": "text",
        "id": "NcMyK0iGbpDn"
      },
      "source": [
        "Total counterfactual regret - difference between expected rewards from thompson sampling vs causal thompson"
      ]
    },
    {
      "cell_type": "code",
      "metadata": {
        "colab_type": "code",
        "id": "UeBIw4DvUk_D",
        "outputId": "3acc0d05-91ba-4229-a48d-9d2b8584dccf",
        "colab": {
          "base_uri": "https://localhost:8080/",
          "height": 34
        }
      },
      "source": [
        "\n",
        "np.sum(pe.rewards) - np.sum(data['y'])"
      ],
      "execution_count": 23,
      "outputs": [
        {
          "output_type": "execute_result",
          "data": {
            "text/plain": [
              "149.0"
            ]
          },
          "metadata": {
            "tags": []
          },
          "execution_count": 23
        }
      ]
    },
    {
      "cell_type": "markdown",
      "metadata": {
        "colab_type": "text",
        "id": "dEaAPVE5Utc2"
      },
      "source": [
        "## Cumulative Counterfactual Regret  \n",
        "\n",
        "The increase in the cumulative counterfactual regret with the number of trials is expected as the causal thompson policy is able to identify the best arm and in turn increases the expected payout for using it vs standard thompson sampling"
      ]
    },
    {
      "cell_type": "code",
      "metadata": {
        "colab_type": "code",
        "id": "igMtLxiEUwms",
        "outputId": "79a257f9-cdba-44fa-9ac6-21a8e5ab3fab",
        "colab": {
          "base_uri": "https://localhost:8080/",
          "height": 312
        }
      },
      "source": [
        "plt.title(\"Cumulative Counterfactual regret\")\n",
        "plt.plot([el.item() for el in list(cf_regret/10)])\n",
        "plt.xlabel(\"# of trials\")\n",
        "plt.ylabel(\"Cumulative regret\")"
      ],
      "execution_count": 24,
      "outputs": [
        {
          "output_type": "execute_result",
          "data": {
            "text/plain": [
              "Text(0, 0.5, 'Cumulative regret')"
            ]
          },
          "metadata": {
            "tags": []
          },
          "execution_count": 24
        },
        {
          "output_type": "display_data",
          "data": {
            "image/png": "[encoded data removed]",
            "text/plain": [
              "<Figure size 432x288 with 1 Axes>"
            ]
          },
          "metadata": {
            "tags": []
          }
        }
      ]
    },
    {
      "cell_type": "markdown",
      "metadata": {
        "colab_type": "text",
        "id": "n-TL7iKcwsRb"
      },
      "source": [
        "## Comparison of Cumulative regret for Causal Thompson Policy\n",
        "\n",
        "The cumulative regret in the offline learning scenario is compared to the online learning setting.\n",
        "In our case the regret is almost comparable.   \n",
        "(The difference is due lesser number of MC simulations that were used for offline learning since inferring noise took a long time to run for each iteration)\n"
      ]
    },
    {
      "cell_type": "code",
      "metadata": {
        "colab_type": "code",
        "id": "jDcpBESvPDA1",
        "outputId": "c936d56f-88ac-4c0b-fddf-c3b855a89a90",
        "colab": {
          "base_uri": "https://localhost:8080/",
          "height": 295
        }
      },
      "source": [
        "plt.figure()\n",
        "plt.title(\"Cumulative regret\")\n",
        "plt.xlabel(\"# of trials\")\n",
        "plt.ylabel(\"Cumulative regret\")\n",
        "plt.plot([el.item() for el in list(policy_regret/N)], label=\"Counterfactual Causal TS\")\n",
        "plt.plot([el.item() for el in list(causal_regret/N)], label=\"Causal TS\")\n",
        "plt.legend()\n",
        "plt.show()"
      ],
      "execution_count": 25,
      "outputs": [
        {
          "output_type": "display_data",
          "data": {
            "image/png": "[encoded data removed]",
            "text/plain": [
              "<Figure size 432x288 with 1 Axes>"
            ]
          },
          "metadata": {
            "tags": []
          }
        }
      ]
    },
    {
      "cell_type": "markdown",
      "metadata": {
        "colab_type": "text",
        "id": "Sl_AGDxvxTAU"
      },
      "source": [
        "## Comparison of Optimal action for Causal Thompson  Sampling  \n",
        "The probability of choosing the best arm at each time step is compared for Causal Thompson sampling in the online and Offline scenarios.\n",
        "As we can see even in the offline setting the policy is able to learn very quickly. "
      ]
    },
    {
      "cell_type": "code",
      "metadata": {
        "colab_type": "code",
        "id": "vY3pzUUprx7E",
        "outputId": "f9ef0401-0d3c-4129-fd0b-990ca33cb52f",
        "colab": {
          "base_uri": "https://localhost:8080/",
          "height": 295
        }
      },
      "source": [
        "plt.figure()\n",
        "plt.axis([0,1000, 0.5, 1.0])\n",
        "plt.title(\"Optimal action\")\n",
        "plt.plot([el.item() for el in list(causal_best_arm/N)], label=\"Causal TS\")\n",
        "plt.plot([el.item() for el in list(policy_best_arm/10)], label = \"Counterfactual Causal TS\")\n",
        "plt.xlabel(\"# of trials\")\n",
        "plt.ylabel(\"Probability of choosing best arm\")\n",
        "plt.legend()\n",
        "plt.show()"
      ],
      "execution_count": 26,
      "outputs": [
        {
          "output_type": "display_data",
          "data": {
            "image/png": "[encoded data removed]",
            "text/plain": [
              "<Figure size 432x288 with 1 Axes>"
            ]
          },
          "metadata": {
            "tags": []
          }
        }
      ]
    },
    {
      "cell_type": "markdown",
      "metadata": {
        "colab_type": "text",
        "id": "7eSnBwYcbw09"
      },
      "source": [
        "# Key Learnings  \n",
        "1) Understanding of multi-armed bandit problems\n",
        "\n",
        "2) Understanding of Thompson sampling and its use in developing an optimal strategy\n",
        "\n",
        "3) Effect of Thompson sampling in presence of unobserved confounders\n",
        "\n",
        "4) Viewing the multi-armed bandit problem as a causal one\n",
        "\n",
        "5) Performing counterfactual reasoning using Causal Thompson sampling \n",
        "\n",
        "6) Using counterfactual reasoning to perform Offline learning and evaluate the performance of Causal Thompson sampling over Thompson sampling \n",
        "\n",
        "\n"
      ]
    },
    {
      "cell_type": "markdown",
      "metadata": {
        "colab_type": "text",
        "id": "8HsLfLZ2x6U7"
      },
      "source": [
        "# References\n",
        " [1]  [Bayesian methods for hackers , Cameron Davidson-Pilon](http://ptgmedia.pearsoncmg.com/images/9780133902839/samplepages/9780133902839.pdf)  \n",
        " [2]  https://github.com/CamDavidsonPilon/Probabilistic-Programming-and-Bayesian-Methods-for-Hackers/tree/master/Chapter6_Priorities  \n",
        " [3] [Causal Inference in Statistics  An Overview](https://ftp.cs.ucla.edu/pub/stat_ser/r350.pdf)  \n",
        " [4] [Bandits with Unobserved Confounders: A Causal Approach](https://papers.nips.cc/paper/5692-bandits-with-unobserved-confounders-a-causal-approach.pdf)  \n",
        " [5] https://github.com/ucla-csl/mabuc  \n",
        " [6] [Bandit Algorithms for Website Optimization](https://doc.lagout.org/science/0_Computer%20Science/2_Algorithms/Bandit%20Algorithms%20for%20Website%20Optimization%20%5BWhite%202013-01-03%5D.pdf)"
      ]
    }
  ]
}
