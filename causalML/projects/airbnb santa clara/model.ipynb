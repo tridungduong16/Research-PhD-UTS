{
 "cells": [
  {
   "cell_type": "markdown",
   "metadata": {},
   "source": [
    "# Table of Contents\n",
    "\n",
    "1. [Building Causal Models](#Building-Causal-Models)\n",
    "2. [Model Analysis](#Model-Analysis)\n",
    "    1. [Causal Effect of Changing Neighborhoods](#Causal-Effect-on-ROI-of-Changing-Neighborhoods---Should-we-choose-North-or-South?)\n",
    "    2. [Causal Effect of Different BPBs](#Causal-Effect-on-ROI-of-Different-BPBs)\n",
    "    3. [Given we want a certain Bed and Baths, where should we buy?](#Given-we-want-a-certain-Bed-and-Baths,-where-should-we-buy?)\n",
    "    4. [Given we want to buy in a certain area, what beds and baths should we buy?](#Given-we-want-to-buy-in-a-certain-area,-what-beds-and-baths-should-we-buy?)\n",
    "3. [Property Examples](#Property-Examples)\n",
    "4. [Next Steps](#Next-Steps)"
   ]
  },
  {
   "cell_type": "code",
   "execution_count": 1,
   "metadata": {},
   "outputs": [],
   "source": [
    "import pyro\n",
    "import pyro.distributions as dist\n",
    "from pyro.infer import Importance, EmpiricalMarginal\n",
    "from statistics import mean\n",
    "import torch\n",
    "import pandas as pd\n",
    "import numpy as np\n",
    "import statsmodels.api as sm\n",
    "from statsmodels.formula.api import ols\n",
    "import statsmodels.stats.multicomp\n",
    "pyro.set_rng_seed(101)"
   ]
  },
  {
   "cell_type": "code",
   "execution_count": 2,
   "metadata": {},
   "outputs": [],
   "source": [
    "df = pd.read_csv(\"data/cleansed_data.csv\")"
   ]
  },
  {
   "cell_type": "markdown",
   "metadata": {},
   "source": [
    "# Building Causal Models"
   ]
  },
  {
   "cell_type": "markdown",
   "metadata": {},
   "source": [
    "### Fitting Factor Effects Models for Rent and Zestimate\n",
    "- In order to get the parameters for the Rent and Zestimate calculations we use factor effects models(aka ANOVA models)"
   ]
  },
  {
   "cell_type": "markdown",
   "metadata": {},
   "source": [
    "Taken from [this](https://pythonfordatascience.org/anova-2-way-n-way/) tutorial"
   ]
  },
  {
   "cell_type": "code",
   "execution_count": 3,
   "metadata": {
    "scrolled": true
   },
   "outputs": [
    {
     "name": "stdout",
     "output_type": "stream",
     "text": [
      "Overall model F( 4, 200) =  13.359, p =  0.0000\n"
     ]
    }
   ],
   "source": [
    "rent_model = ols('Rent ~ C(BPB)', df).fit()\n",
    "\n",
    "# Seeing if the overall model is significant\n",
    "print(f\"Overall model F({rent_model.df_model: .0f},{rent_model.df_resid: .0f}) = {rent_model.fvalue: .3f}, p = {rent_model.f_pvalue: .4f}\")"
   ]
  },
  {
   "cell_type": "markdown",
   "metadata": {},
   "source": [
    "Model is signficant"
   ]
  },
  {
   "cell_type": "code",
   "execution_count": 4,
   "metadata": {},
   "outputs": [
    {
     "data": {
      "text/html": [
       "<div>\n",
       "<style scoped>\n",
       "    .dataframe tbody tr th:only-of-type {\n",
       "        vertical-align: middle;\n",
       "    }\n",
       "\n",
       "    .dataframe tbody tr th {\n",
       "        vertical-align: top;\n",
       "    }\n",
       "\n",
       "    .dataframe thead th {\n",
       "        text-align: right;\n",
       "    }\n",
       "</style>\n",
       "<table border=\"1\" class=\"dataframe\">\n",
       "  <thead>\n",
       "    <tr style=\"text-align: right;\">\n",
       "      <th></th>\n",
       "      <th>sum_sq</th>\n",
       "      <th>df</th>\n",
       "      <th>F</th>\n",
       "      <th>PR(&gt;F)</th>\n",
       "    </tr>\n",
       "  </thead>\n",
       "  <tbody>\n",
       "    <tr>\n",
       "      <th>C(BPB)</th>\n",
       "      <td>242221.823818</td>\n",
       "      <td>4.0</td>\n",
       "      <td>13.359283</td>\n",
       "      <td>1.148343e-09</td>\n",
       "    </tr>\n",
       "    <tr>\n",
       "      <th>Residual</th>\n",
       "      <td>906567.424962</td>\n",
       "      <td>200.0</td>\n",
       "      <td>NaN</td>\n",
       "      <td>NaN</td>\n",
       "    </tr>\n",
       "  </tbody>\n",
       "</table>\n",
       "</div>"
      ],
      "text/plain": [
       "                 sum_sq     df          F        PR(>F)\n",
       "C(BPB)    242221.823818    4.0  13.359283  1.148343e-09\n",
       "Residual  906567.424962  200.0        NaN           NaN"
      ]
     },
     "execution_count": 4,
     "metadata": {},
     "output_type": "execute_result"
    }
   ],
   "source": [
    "res = sm.stats.anova_lm(rent_model, typ=2)\n",
    "rent_model_se = (res.sum_sq.Residual / res.df.Residual)**0.5\n",
    "res"
   ]
  },
  {
   "cell_type": "markdown",
   "metadata": {},
   "source": [
    "- Do OLS model for Zestimates\n",
    "- Get Neighborhood Marginal\n",
    "- Get BPB marginal\n",
    "- Get ROI function in the code"
   ]
  },
  {
   "cell_type": "code",
   "execution_count": 5,
   "metadata": {
    "scrolled": true
   },
   "outputs": [
    {
     "name": "stdout",
     "output_type": "stream",
     "text": [
      "Overall model F( 5, 199) =  8.702, p =  0.0000\n"
     ]
    }
   ],
   "source": [
    "zest_model = ols('Zest ~ C(BPB) + C(Neigh)', df).fit()\n",
    "\n",
    "# Seeing if the overall model is significant\n",
    "print(f\"Overall model F({zest_model.df_model: .0f},{zest_model.df_resid: .0f}) = {zest_model.fvalue: .3f}, p = {zest_model.f_pvalue: .4f}\")"
   ]
  },
  {
   "cell_type": "code",
   "execution_count": 6,
   "metadata": {
    "scrolled": true
   },
   "outputs": [
    {
     "data": {
      "text/html": [
       "<div>\n",
       "<style scoped>\n",
       "    .dataframe tbody tr th:only-of-type {\n",
       "        vertical-align: middle;\n",
       "    }\n",
       "\n",
       "    .dataframe tbody tr th {\n",
       "        vertical-align: top;\n",
       "    }\n",
       "\n",
       "    .dataframe thead th {\n",
       "        text-align: right;\n",
       "    }\n",
       "</style>\n",
       "<table border=\"1\" class=\"dataframe\">\n",
       "  <thead>\n",
       "    <tr style=\"text-align: right;\">\n",
       "      <th></th>\n",
       "      <th>sum_sq</th>\n",
       "      <th>df</th>\n",
       "      <th>F</th>\n",
       "      <th>PR(&gt;F)</th>\n",
       "    </tr>\n",
       "  </thead>\n",
       "  <tbody>\n",
       "    <tr>\n",
       "      <th>C(BPB)</th>\n",
       "      <td>9.832538e+11</td>\n",
       "      <td>4.0</td>\n",
       "      <td>0.417948</td>\n",
       "      <td>7.955891e-01</td>\n",
       "    </tr>\n",
       "    <tr>\n",
       "      <th>C(Neigh)</th>\n",
       "      <td>2.399361e+13</td>\n",
       "      <td>1.0</td>\n",
       "      <td>40.795532</td>\n",
       "      <td>1.170317e-09</td>\n",
       "    </tr>\n",
       "    <tr>\n",
       "      <th>Residual</th>\n",
       "      <td>1.170405e+14</td>\n",
       "      <td>199.0</td>\n",
       "      <td>NaN</td>\n",
       "      <td>NaN</td>\n",
       "    </tr>\n",
       "  </tbody>\n",
       "</table>\n",
       "</div>"
      ],
      "text/plain": [
       "                sum_sq     df          F        PR(>F)\n",
       "C(BPB)    9.832538e+11    4.0   0.417948  7.955891e-01\n",
       "C(Neigh)  2.399361e+13    1.0  40.795532  1.170317e-09\n",
       "Residual  1.170405e+14  199.0        NaN           NaN"
      ]
     },
     "execution_count": 6,
     "metadata": {},
     "output_type": "execute_result"
    }
   ],
   "source": [
    "res = sm.stats.anova_lm(zest_model, typ=2)\n",
    "zest_model_se = (res.sum_sq.Residual / res.df.Residual)**0.5\n",
    "res"
   ]
  },
  {
   "cell_type": "markdown",
   "metadata": {},
   "source": [
    "### Functions for Calculating ROI\n",
    "- below are the functions and hyperparameters for calculating ROI"
   ]
  },
  {
   "cell_type": "code",
   "execution_count": 7,
   "metadata": {},
   "outputs": [],
   "source": [
    "# ROI Consts\n",
    "INFLATION_RATE = 0.028\n",
    "MORTGAGE_RATE = 0.036\n",
    "NUM_YEARS = 15\n",
    "DOWN_PAYMENT = 0.20\n",
    "\n",
    "\n",
    "def calculate_monthly(P, mortgage_rate, num_years):\n",
    "    n = num_years * 12\n",
    "    monthly_i = mortgage_rate / 12\n",
    "    numerator = monthly_i * (1 + monthly_i) ** n\n",
    "    denominator = ((1 + monthly_i) ** n) - 1\n",
    "    return P * numerator / denominator\n",
    "\n",
    "\n",
    "def airbnb_income(price, inflation_rate, num_years):\n",
    "    total = 0\n",
    "    for year_number in range(num_years):\n",
    "        curr_inflation = (1 + inflation_rate) ** year_number\n",
    "        total += (price * curr_inflation) * 12\n",
    "    return total\n",
    "\n",
    "\n",
    "def roi(zestimate, inflation_rate, mortgage_rate, num_years, rental_price, down_payment_percent):\n",
    "    down_payment = zestimate * down_payment_percent\n",
    "    P = zestimate * (1 - down_payment_percent)\n",
    "\n",
    "    incurred_cost = calculate_monthly(\n",
    "        P, mortgage_rate, num_years) * 12 * num_years + down_payment\n",
    "\n",
    "    income = airbnb_income(price=rental_price,\n",
    "                           inflation_rate=inflation_rate,\n",
    "                           num_years=num_years)\n",
    "\n",
    "    return (income - incurred_cost) / incurred_cost"
   ]
  },
  {
   "cell_type": "markdown",
   "metadata": {},
   "source": [
    "### Model 1\n",
    "\n",
    "- Simpler causal model without exogenous variables"
   ]
  },
  {
   "cell_type": "code",
   "execution_count": 8,
   "metadata": {},
   "outputs": [],
   "source": [
    "Neigh_alias = ['Neigh_North', 'Neigh_South']\n",
    "BPB_alias = [2, 3, 4, 5, 6]\n",
    "\n",
    "north_prob = float(len(df[df['Neigh'] == 'Neigh_North']))/len(df)\n",
    "bpb_prob = [(df.BPB == a).count()/len(df) for a in BPB_alias]\n",
    "\n",
    "\n",
    "Neigh_prob = torch.tensor([north_prob, 1 - north_prob])\n",
    "BPB_prob = torch.tensor(bpb_prob)\n",
    "\n",
    "\n",
    "def model():\n",
    "    Neigh = pyro.sample(\"Neigh\", dist.Categorical(probs=Neigh_prob))\n",
    "    BPB = pyro.sample(\"BPB\", dist.Categorical(probs=BPB_prob))\n",
    "\n",
    "    bpb_converted = BPB_alias[BPB]\n",
    "    neigh_converted = Neigh_alias[Neigh]\n",
    "    rent_pred = rent_model.predict(pd.DataFrame({'BPB': [bpb_converted]}))[0]\n",
    "    zest_pred = zest_model.predict(pd.DataFrame(\n",
    "        {'BPB': [bpb_converted], 'Neigh': [neigh_converted]}))[0]\n",
    "\n",
    "    Rent = pyro.sample(\"Rent\", dist.Delta(torch.tensor(rent_pred)))\n",
    "    Zest = pyro.sample(\"Zest\", dist.Delta(torch.tensor(zest_pred)))\n",
    "\n",
    "    ROI = pyro.sample(\"ROI\", dist.Delta(roi(zestimate=Zest,\n",
    "                                            rental_price=Rent,\n",
    "                                            inflation_rate=INFLATION_RATE,\n",
    "                                            mortgage_rate=MORTGAGE_RATE,\n",
    "                                            num_years=NUM_YEARS,\n",
    "                                            down_payment_percent=DOWN_PAYMENT)))\n",
    "\n",
    "    return {'Neigh': Neigh, 'BPB': BPB, 'Rent': Rent, 'Zest': Zest, 'ROI': ROI}"
   ]
  },
  {
   "cell_type": "markdown",
   "metadata": {},
   "source": [
    "### Model 2 - SCM"
   ]
  },
  {
   "cell_type": "markdown",
   "metadata": {},
   "source": [
    "\\begin{align}\n",
    "Nb &= p(BPB=2)=p_2, p(BPB=3)=p_3, p(BPB=4)=p_4,p(BPB=5)=p_5, p(BPB=6)=p_6 \\\\\n",
    "Nr &= \\mathcal{N}(0, \\text{rent model standard error}) \\\\\n",
    "Nz &= \\mathcal{N}(0, \\text{zest model standard error}) \\\\\n",
    "Nn &= Bernoulli(p_{south})\\\\\\\\\n",
    "Neigh &= Nn \\\\\n",
    "BPB &= Nb \\\\\n",
    "Rent &= bpb_3 \\cdot a + bpb_4 \\cdot b + bpb_5 \\cdot d + bpb_6 \\cdot d + e +Nrent\\\\\n",
    "Zest &= bpb_3 \\cdot a + bpb_4 \\cdot b + bpb_5 \\cdot d + bpb_6 \\cdot d + NeighSouth \\cdot e + f + Nz \\\\\n",
    "ROI &= \\text{ROIfunc}(Rent, Zest)\n",
    "\\end{align}"
   ]
  },
  {
   "cell_type": "code",
   "execution_count": 9,
   "metadata": {},
   "outputs": [],
   "source": [
    "Neigh_alias = ['Neigh_North', 'Neigh_South']\n",
    "BPB_alias = [2, 3, 4, 5, 6]\n",
    "\n",
    "south_prob = float(len(df[df['Neigh'] == 'Neigh_South']))/len(df)\n",
    "bpb_prob = [(df.BPB == a).count()/len(df) for a in BPB_alias]\n",
    "\n",
    "\n",
    "# Neigh_prob = torch.tensor([north_prob, 1- north_prob])\n",
    "BPB_prob = torch.tensor(bpb_prob)\n",
    "\n",
    "exogenous_dists = {\n",
    "    'Nn': dist.Bernoulli(torch.tensor(south_prob)),\n",
    "    'Nb': dist.Categorical(BPB_prob),\n",
    "    'Nr': dist.Normal(torch.tensor(0.), torch.tensor(rent_model_se)),\n",
    "    'Nz': dist.Normal(torch.tensor(0.), torch.tensor(zest_model_se))\n",
    "}\n",
    "\n",
    "\n",
    "def scm(exogenous_dists):\n",
    "    Nn = pyro.sample(\"Nn\", exogenous_dists['Nn'])\n",
    "    Nb = pyro.sample(\"Nb\", exogenous_dists['Nb'])\n",
    "    Nr = pyro.sample(\"Nr\", exogenous_dists['Nr'])\n",
    "    Nz = pyro.sample(\"Nz\", exogenous_dists['Nz'])\n",
    "\n",
    "    z_bounds = torch.tensor(zest_model_se)\n",
    "    r_bounds = torch.tensor(rent_model_se)\n",
    "\n",
    "    # Stay within 1 SD of 0\n",
    "    Nz = min(z_bounds, Nz)\n",
    "    Nz = max(-2 * z_bounds, Nz)\n",
    "\n",
    "    Nr = min(r_bounds, Nr)\n",
    "    Nr = max(-2 * r_bounds, Nr)\n",
    "\n",
    "    Neigh = pyro.sample(\"Neigh\", dist.Delta(Nn))\n",
    "    BPB = pyro.sample(\"BPB\", dist.Delta(Nb))\n",
    "\n",
    "    bpb_converted = BPB_alias[BPB.int()]\n",
    "    neigh_converted = Neigh_alias[Neigh.int()]\n",
    "\n",
    "    rent_pred = rent_model.predict(pd.DataFrame({'BPB': [bpb_converted]}))[0]\n",
    "    zest_pred = zest_model.predict(pd.DataFrame(\n",
    "        {'BPB': [bpb_converted], 'Neigh': [neigh_converted]}))[0]\n",
    "\n",
    "    Rent = pyro.sample(\"Rent\", dist.Delta(torch.tensor(rent_pred) + Nr))\n",
    "    Zest = pyro.sample(\"Zest\", dist.Delta(torch.tensor(zest_pred) + Nz))\n",
    "\n",
    "    ROI = pyro.sample(\"ROI\", dist.Delta(roi(zestimate=Zest,\n",
    "                                            rental_price=Rent,\n",
    "                                            inflation_rate=INFLATION_RATE,\n",
    "                                            mortgage_rate=MORTGAGE_RATE,\n",
    "                                            num_years=NUM_YEARS,\n",
    "                                            down_payment_percent=DOWN_PAYMENT)))\n",
    "\n",
    "    return {'Neigh': Neigh, 'BPB': BPB, 'Rent': Rent, 'Zest': Zest, 'ROI': ROI}"
   ]
  },
  {
   "cell_type": "markdown",
   "metadata": {},
   "source": [
    "# Model Analysis"
   ]
  },
  {
   "cell_type": "markdown",
   "metadata": {},
   "source": [
    "### Causal Effect on ROI of Changing Neighborhoods - Should we choose North or South?\n",
    "\n",
    "$$\n",
    "P(ROI | do(Neigh=South)) - P(ROI|do(Neigh=North))\n",
    "$$"
   ]
  },
  {
   "cell_type": "code",
   "execution_count": 10,
   "metadata": {},
   "outputs": [],
   "source": [
    "south_model = pyro.do(\n",
    "    model, data={'Neigh': torch.tensor(Neigh_alias.index('Neigh_South'))})\n",
    "north_model = pyro.do(\n",
    "    model, data={'Neigh': torch.tensor(Neigh_alias.index('Neigh_North'))})\n",
    "\n",
    "south_scm = pyro.do(\n",
    "    scm, data={'Neigh': torch.tensor(Neigh_alias.index('Neigh_South'))})\n",
    "north_scm = pyro.do(\n",
    "    scm, data={'Neigh': torch.tensor(Neigh_alias.index('Neigh_North'))})"
   ]
  },
  {
   "cell_type": "markdown",
   "metadata": {},
   "source": [
    "Causal Effect for Model 2(SCM)"
   ]
  },
  {
   "cell_type": "code",
   "execution_count": 11,
   "metadata": {},
   "outputs": [
    {
     "data": {
      "text/plain": [
       "0.0061561012649907765"
      ]
     },
     "execution_count": 11,
     "metadata": {},
     "output_type": "execute_result"
    }
   ],
   "source": [
    "scm_south_roi_samples = [south_scm(exogenous_dists)[\n",
    "    'ROI'].item() for _ in range(2000)]\n",
    "scm_north_roi_samples = [north_scm(exogenous_dists)[\n",
    "    'ROI'].item() for _ in range(2000)]\n",
    "\n",
    "scm_causal_effect_neigh = mean(\n",
    "    scm_south_roi_samples) - mean(scm_north_roi_samples)\n",
    "scm_causal_effect_neigh"
   ]
  },
  {
   "cell_type": "markdown",
   "metadata": {},
   "source": [
    "Showing the problematic large variance in the samples"
   ]
  },
  {
   "cell_type": "code",
   "execution_count": 12,
   "metadata": {},
   "outputs": [
    {
     "data": {
      "text/plain": [
       "(-0.9635449091708288, 1.032904101041279, -36.795448303222656, 21.0173282623291)"
      ]
     },
     "execution_count": 12,
     "metadata": {},
     "output_type": "execute_result"
    }
   ],
   "source": [
    "mean(scm_south_roi_samples), np.std(scm_south_roi_samples), min(\n",
    "    scm_south_roi_samples), max(scm_south_roi_samples)"
   ]
  },
  {
   "cell_type": "markdown",
   "metadata": {},
   "source": [
    "Causal Effect for Model 1"
   ]
  },
  {
   "cell_type": "code",
   "execution_count": 13,
   "metadata": {},
   "outputs": [
    {
     "data": {
      "text/plain": [
       "0.013694935142993914"
      ]
     },
     "execution_count": 13,
     "metadata": {},
     "output_type": "execute_result"
    }
   ],
   "source": [
    "south_roi_samples = [south_model()['ROI'].item() for _ in range(2000)]\n",
    "north_roi_samples = [north_model()['ROI'].item() for _ in range(2000)]\n",
    "\n",
    "causal_effect_neigh = mean(south_roi_samples) - mean(north_roi_samples)\n",
    "causal_effect_neigh"
   ]
  },
  {
   "cell_type": "markdown",
   "metadata": {},
   "source": [
    "### Results:\n",
    "- SCM Model has too much variance and so it makes it difficult to get good samples\n",
    "- Model 1 shows a 1.3% Increase In ROI from Investing in property in the South as opposed to the North\n",
    "    - Why?\n",
    "        - South includes: San Jose, Cupertino and other properties a bit further from SF\n",
    "        - North includes: Mountain View, Palo Alto - properties in the heart of Silicon Valley and closer to SF"
   ]
  },
  {
   "cell_type": "markdown",
   "metadata": {},
   "source": [
    "### Causal Effect on ROI of Different BPBs"
   ]
  },
  {
   "cell_type": "code",
   "execution_count": 14,
   "metadata": {},
   "outputs": [],
   "source": [
    "bpb_roi_samples = []\n",
    "for i in range(len(BPB_alias)):\n",
    "    bpb = BPB_alias[i]\n",
    "    bpb_model = pyro.do(model, data={'BPB': torch.tensor(i)})\n",
    "    bpb_roi_samples.append([bpb_model()['ROI'].item() for _ in range(2000)])"
   ]
  },
  {
   "cell_type": "code",
   "execution_count": 15,
   "metadata": {},
   "outputs": [
    {
     "name": "stdout",
     "output_type": "stream",
     "text": [
      "2 -0.9815098011493683\n",
      "3 -0.977315743714571\n",
      "4 -0.9739876031577587\n",
      "5 -0.9663166411519051\n",
      "6 -0.9708639974594117\n"
     ]
    }
   ],
   "source": [
    "for i in range(len(BPB_alias)):\n",
    "    bpb = BPB_alias[i]\n",
    "    print(bpb, mean(bpb_roi_samples[i]))"
   ]
  },
  {
   "cell_type": "markdown",
   "metadata": {},
   "source": [
    "### What about BPB=5 vs BPB=2 ?\n",
    "$P(ROI | do(BPB=5)) - P(ROI | do(BPB=2))$"
   ]
  },
  {
   "cell_type": "code",
   "execution_count": 16,
   "metadata": {},
   "outputs": [
    {
     "data": {
      "text/plain": [
       "0.01519315999746318"
      ]
     },
     "execution_count": 16,
     "metadata": {},
     "output_type": "execute_result"
    }
   ],
   "source": [
    "mean(bpb_roi_samples[3]) - mean(bpb_roi_samples[0])"
   ]
  },
  {
   "cell_type": "markdown",
   "metadata": {},
   "source": [
    "### Results \n",
    "- 3 Beds 2 baths is the best configuration for maximizing ROI\n",
    "- You can increase ROI by 1.5% by doing 3 Beds 2 Baths over a 1 Bed 1 Bath"
   ]
  },
  {
   "cell_type": "markdown",
   "metadata": {},
   "source": [
    "### Given we want a certain Bed and Baths, where should we buy?\n",
    "\n",
    "Example for 2 bed 1 bath:\n",
    "$$\n",
    "P(ROI | do(Neigh= North), BPB=3) - P(ROI | do(Neigh=South), BPB=3)\n",
    "$$"
   ]
  },
  {
   "cell_type": "code",
   "execution_count": 17,
   "metadata": {
    "scrolled": true
   },
   "outputs": [
    {
     "name": "stdout",
     "output_type": "stream",
     "text": [
      "𝑃(𝑅𝑂𝐼|𝑑𝑜(𝑁𝑒𝑖𝑔ℎ=𝑁𝑜𝑟𝑡ℎ),𝐵𝑃𝐵=2)−𝑃(𝑅𝑂𝐼|𝑑𝑜(𝑁𝑒𝑖𝑔ℎ=𝑆𝑜𝑢𝑡ℎ),𝐵𝑃𝐵=2) = -0.985 - -0.976 = -0.009\n",
      "𝑃(𝑅𝑂𝐼|𝑑𝑜(𝑁𝑒𝑖𝑔ℎ=𝑁𝑜𝑟𝑡ℎ),𝐵𝑃𝐵=3)−𝑃(𝑅𝑂𝐼|𝑑𝑜(𝑁𝑒𝑖𝑔ℎ=𝑆𝑜𝑢𝑡ℎ),𝐵𝑃𝐵=3) = -0.983 - -0.970 = -0.013\n",
      "𝑃(𝑅𝑂𝐼|𝑑𝑜(𝑁𝑒𝑖𝑔ℎ=𝑁𝑜𝑟𝑡ℎ),𝐵𝑃𝐵=4)−𝑃(𝑅𝑂𝐼|𝑑𝑜(𝑁𝑒𝑖𝑔ℎ=𝑆𝑜𝑢𝑡ℎ),𝐵𝑃𝐵=4) = -0.980 - -0.966 = -0.014\n",
      "𝑃(𝑅𝑂𝐼|𝑑𝑜(𝑁𝑒𝑖𝑔ℎ=𝑁𝑜𝑟𝑡ℎ),𝐵𝑃𝐵=5)−𝑃(𝑅𝑂𝐼|𝑑𝑜(𝑁𝑒𝑖𝑔ℎ=𝑆𝑜𝑢𝑡ℎ),𝐵𝑃𝐵=5) = -0.974 - -0.956 = -0.019\n",
      "𝑃(𝑅𝑂𝐼|𝑑𝑜(𝑁𝑒𝑖𝑔ℎ=𝑁𝑜𝑟𝑡ℎ),𝐵𝑃𝐵=6)−𝑃(𝑅𝑂𝐼|𝑑𝑜(𝑁𝑒𝑖𝑔ℎ=𝑆𝑜𝑢𝑡ℎ),𝐵𝑃𝐵=6) = -0.977 - -0.964 = -0.013\n"
     ]
    }
   ],
   "source": [
    "for bpb_index in range(len(BPB_alias)):\n",
    "    bpb = BPB_alias[bpb_index]\n",
    "    roi_means = []\n",
    "    cond_model = pyro.condition(model, {\"BPB\": bpb_index})\n",
    "\n",
    "    for neigh_index in range(len(Neigh_prob)):\n",
    "        curr_model = pyro.do(cond_model, {'Neigh': neigh_index})\n",
    "        roi_mean = curr_model()['ROI'].item()\n",
    "        roi_means.append(roi_mean)\n",
    "\n",
    "    print(\"𝑃(𝑅𝑂𝐼|𝑑𝑜(𝑁𝑒𝑖𝑔ℎ=𝑁𝑜𝑟𝑡ℎ),𝐵𝑃𝐵=%d)−𝑃(𝑅𝑂𝐼|𝑑𝑜(𝑁𝑒𝑖𝑔ℎ=𝑆𝑜𝑢𝑡ℎ),𝐵𝑃𝐵=%d) = %.3f - %.3f = %.3f\" % (bpb, bpb,\n",
    "                                                                                                roi_means[0],\n",
    "                                                                                                roi_means[1],\n",
    "                                                                                                roi_means[0] -\n",
    "                                                                                                roi_means[1]\n",
    "                                                                                                ))"
   ]
  },
  {
   "cell_type": "markdown",
   "metadata": {},
   "source": [
    "### Results\n",
    "- No matter which BPB you are looking at, it is always better to pick a property in the South rather than the North"
   ]
  },
  {
   "cell_type": "markdown",
   "metadata": {},
   "source": [
    "### Given we want to buy in a certain area, what beds and baths should we buy?\n",
    "\n",
    "Example for the North Neighborhood\n",
    "$$\n",
    "P(ROI | do(BPB= x), Neigh= North) - P(ROI | do(BPB=y), Neigh= North)\n",
    "$$"
   ]
  },
  {
   "cell_type": "code",
   "execution_count": 18,
   "metadata": {},
   "outputs": [
    {
     "name": "stdout",
     "output_type": "stream",
     "text": [
      "Neigh_North\n",
      "𝑃(𝑅𝑂𝐼|𝑑𝑜(𝐵𝑃𝐵=2),𝑁𝑒𝑖𝑔ℎ=Neigh_North) = -0.985\n",
      "𝑃(𝑅𝑂𝐼|𝑑𝑜(𝐵𝑃𝐵=3),𝑁𝑒𝑖𝑔ℎ=Neigh_North) = -0.983\n",
      "𝑃(𝑅𝑂𝐼|𝑑𝑜(𝐵𝑃𝐵=4),𝑁𝑒𝑖𝑔ℎ=Neigh_North) = -0.980\n",
      "𝑃(𝑅𝑂𝐼|𝑑𝑜(𝐵𝑃𝐵=5),𝑁𝑒𝑖𝑔ℎ=Neigh_North) = -0.974\n",
      "𝑃(𝑅𝑂𝐼|𝑑𝑜(𝐵𝑃𝐵=6),𝑁𝑒𝑖𝑔ℎ=Neigh_North) = -0.977\n",
      "Neigh_South\n",
      "𝑃(𝑅𝑂𝐼|𝑑𝑜(𝐵𝑃𝐵=2),𝑁𝑒𝑖𝑔ℎ=Neigh_South) = -0.976\n",
      "𝑃(𝑅𝑂𝐼|𝑑𝑜(𝐵𝑃𝐵=3),𝑁𝑒𝑖𝑔ℎ=Neigh_South) = -0.970\n",
      "𝑃(𝑅𝑂𝐼|𝑑𝑜(𝐵𝑃𝐵=4),𝑁𝑒𝑖𝑔ℎ=Neigh_South) = -0.966\n",
      "𝑃(𝑅𝑂𝐼|𝑑𝑜(𝐵𝑃𝐵=5),𝑁𝑒𝑖𝑔ℎ=Neigh_South) = -0.956\n",
      "𝑃(𝑅𝑂𝐼|𝑑𝑜(𝐵𝑃𝐵=6),𝑁𝑒𝑖𝑔ℎ=Neigh_South) = -0.964\n"
     ]
    }
   ],
   "source": [
    "for neigh_index in range(len(Neigh_prob)):\n",
    "    roi_means = []\n",
    "    cond_model = pyro.condition(model, {\"Neigh\": neigh_index})\n",
    "    neigh = Neigh_alias[neigh_index]\n",
    "    print(neigh)\n",
    "\n",
    "    for bpb_index in range(len(BPB_prob)):\n",
    "        bpb = BPB_alias[bpb_index]\n",
    "        curr_model = pyro.do(cond_model, {'BPB': bpb_index})\n",
    "        roi_mean = curr_model()['ROI'].item()\n",
    "        print(\"𝑃(𝑅𝑂𝐼|𝑑𝑜(𝐵𝑃𝐵=%s),𝑁𝑒𝑖𝑔ℎ=%s) = %.3f\" % (bpb, neigh, roi_mean))"
   ]
  },
  {
   "cell_type": "markdown",
   "metadata": {},
   "source": [
    "### Results\n",
    "- If you are interested in purchasing a property in the North, it should be a 3 bed 2 bath. If you are interested in purchasing a property in the South it should also be a 3 bed 2 bath."
   ]
  },
  {
   "cell_type": "markdown",
   "metadata": {},
   "source": [
    "# Property Examples\n",
    "- here are the properties with the highest ROIs\n",
    "- We can see that these properties follow the effects we have seen in our model\n",
    "    - 5 BPB, all are South Neighborhood"
   ]
  },
  {
   "cell_type": "code",
   "execution_count": 19,
   "metadata": {},
   "outputs": [
    {
     "data": {
      "text/html": [
       "<div>\n",
       "<style scoped>\n",
       "    .dataframe tbody tr th:only-of-type {\n",
       "        vertical-align: middle;\n",
       "    }\n",
       "\n",
       "    .dataframe tbody tr th {\n",
       "        vertical-align: top;\n",
       "    }\n",
       "\n",
       "    .dataframe thead th {\n",
       "        text-align: right;\n",
       "    }\n",
       "</style>\n",
       "<table border=\"1\" class=\"dataframe\">\n",
       "  <thead>\n",
       "    <tr style=\"text-align: right;\">\n",
       "      <th></th>\n",
       "      <th>Beds</th>\n",
       "      <th>Baths</th>\n",
       "      <th>Rent</th>\n",
       "      <th>neighbourhood</th>\n",
       "      <th>latitude</th>\n",
       "      <th>longitude</th>\n",
       "      <th>Type</th>\n",
       "      <th>Zest</th>\n",
       "      <th>ROI</th>\n",
       "      <th>Neigh</th>\n",
       "      <th>BPB</th>\n",
       "      <th>latlng</th>\n",
       "    </tr>\n",
       "  </thead>\n",
       "  <tbody>\n",
       "    <tr>\n",
       "      <th>27</th>\n",
       "      <td>2</td>\n",
       "      <td>2</td>\n",
       "      <td>140.0</td>\n",
       "      <td>San Jose</td>\n",
       "      <td>37.40075</td>\n",
       "      <td>-121.92194</td>\n",
       "      <td>Townhouse</td>\n",
       "      <td>214665.0</td>\n",
       "      <td>-0.883995</td>\n",
       "      <td>Neigh_South</td>\n",
       "      <td>4</td>\n",
       "      <td>-4559.971997</td>\n",
       "    </tr>\n",
       "    <tr>\n",
       "      <th>110</th>\n",
       "      <td>3</td>\n",
       "      <td>2</td>\n",
       "      <td>550.0</td>\n",
       "      <td>San Jose</td>\n",
       "      <td>37.31737</td>\n",
       "      <td>-121.78764</td>\n",
       "      <td>Townhouse</td>\n",
       "      <td>998982.0</td>\n",
       "      <td>-0.902070</td>\n",
       "      <td>Neigh_South</td>\n",
       "      <td>5</td>\n",
       "      <td>-4544.794423</td>\n",
       "    </tr>\n",
       "    <tr>\n",
       "      <th>115</th>\n",
       "      <td>2</td>\n",
       "      <td>2</td>\n",
       "      <td>275.0</td>\n",
       "      <td>San Jose</td>\n",
       "      <td>37.31392</td>\n",
       "      <td>-121.93997</td>\n",
       "      <td>Condominium</td>\n",
       "      <td>513454.0</td>\n",
       "      <td>-0.904733</td>\n",
       "      <td>Neigh_South</td>\n",
       "      <td>4</td>\n",
       "      <td>-4550.058285</td>\n",
       "    </tr>\n",
       "    <tr>\n",
       "      <th>16</th>\n",
       "      <td>2</td>\n",
       "      <td>2</td>\n",
       "      <td>499.0</td>\n",
       "      <td>San Jose</td>\n",
       "      <td>37.31996</td>\n",
       "      <td>-121.94828</td>\n",
       "      <td>Condominium</td>\n",
       "      <td>1210000.0</td>\n",
       "      <td>-0.926646</td>\n",
       "      <td>Neigh_South</td>\n",
       "      <td>4</td>\n",
       "      <td>-4551.104932</td>\n",
       "    </tr>\n",
       "    <tr>\n",
       "      <th>17</th>\n",
       "      <td>3</td>\n",
       "      <td>2</td>\n",
       "      <td>375.0</td>\n",
       "      <td>San Jose</td>\n",
       "      <td>37.39220</td>\n",
       "      <td>-121.86552</td>\n",
       "      <td>Condominium</td>\n",
       "      <td>930000.0</td>\n",
       "      <td>-0.928277</td>\n",
       "      <td>Neigh_South</td>\n",
       "      <td>5</td>\n",
       "      <td>-4556.819897</td>\n",
       "    </tr>\n",
       "  </tbody>\n",
       "</table>\n",
       "</div>"
      ],
      "text/plain": [
       "     Beds  Baths   Rent neighbourhood  latitude  longitude         Type  \\\n",
       "27      2      2  140.0      San Jose  37.40075 -121.92194    Townhouse   \n",
       "110     3      2  550.0      San Jose  37.31737 -121.78764    Townhouse   \n",
       "115     2      2  275.0      San Jose  37.31392 -121.93997  Condominium   \n",
       "16      2      2  499.0      San Jose  37.31996 -121.94828  Condominium   \n",
       "17      3      2  375.0      San Jose  37.39220 -121.86552  Condominium   \n",
       "\n",
       "          Zest       ROI        Neigh  BPB       latlng  \n",
       "27    214665.0 -0.883995  Neigh_South    4 -4559.971997  \n",
       "110   998982.0 -0.902070  Neigh_South    5 -4544.794423  \n",
       "115   513454.0 -0.904733  Neigh_South    4 -4550.058285  \n",
       "16   1210000.0 -0.926646  Neigh_South    4 -4551.104932  \n",
       "17    930000.0 -0.928277  Neigh_South    5 -4556.819897  "
      ]
     },
     "execution_count": 19,
     "metadata": {},
     "output_type": "execute_result"
    }
   ],
   "source": [
    "df.sort_values([\"ROI\"], ascending=False)[:5]"
   ]
  },
  {
   "cell_type": "markdown",
   "metadata": {},
   "source": [
    "- [Property 1](https://www.zillow.com/homedetails/435-Milan-Dr-San-Jose-CA-95134/2143393753_zpid/)\n",
    "- [Property 2](https://www.zillow.com/homedetails/3215-Lamond-Ct-San-Jose-CA-95148/19793643_zpid/)\n",
    "- [Property 5](https://www.zillow.com/homedetails/2409-Venturi-Pl-UNIT-2-San-Jose-CA-95132/124743156_zpid/)"
   ]
  },
  {
   "cell_type": "markdown",
   "metadata": {},
   "source": [
    "# Next Steps\n",
    "\n",
    "1. **Get more data**\n",
    "2. Consider adding new nodes to the DAG\n",
    "    1. Individual Neighborhoods as opposed to North and South\n",
    "    2. Host and ratings\n",
    "    3. Distance to transit\n",
    "3. Reconsider new edges with our new data\n",
    "3. Test more complex functions to fit Rent and Zestimate\n",
    "    1. Currently using factor effects models\n",
    "4. Attempt to use SCM again\n",
    "    1. Our models have high Std Error so using SCM is difficult\n",
    "    2. Increasing the amount of data would also decrease Std. Error and help give better results from SCM"
   ]
  }
 ],
 "metadata": {
  "kernelspec": {
   "display_name": "Python 3",
   "language": "python",
   "name": "python3"
  },
  "language_info": {
   "codemirror_mode": {
    "name": "ipython",
    "version": 3
   },
   "file_extension": ".py",
   "mimetype": "text/x-python",
   "name": "python",
   "nbconvert_exporter": "python",
   "pygments_lexer": "ipython3",
   "version": "3.6.9"
  },
  "latex_envs": {
   "LaTeX_envs_menu_present": true,
   "autoclose": false,
   "autocomplete": true,
   "bibliofile": "biblio.bib",
   "cite_by": "apalike",
   "current_citInitial": 1,
   "eqLabelWithNumbers": true,
   "eqNumInitial": 1,
   "hotkeys": {
    "equation": "Ctrl-E",
    "itemize": "Ctrl-I"
   },
   "labels_anchors": false,
   "latex_user_defs": false,
   "report_style_numbering": false,
   "user_envs_cfg": false
  }
 },
 "nbformat": 4,
 "nbformat_minor": 2
}
