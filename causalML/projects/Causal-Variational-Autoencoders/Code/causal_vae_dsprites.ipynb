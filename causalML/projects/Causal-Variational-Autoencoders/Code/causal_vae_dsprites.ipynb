{
 "cells": [
  {
   "cell_type": "markdown",
   "metadata": {
    "id": "bJyCBHtaXCy3"
   },
   "source": [
    "# <center>Causal Variational Autoencoders</center>\n",
    "\n",
    "\n",
    "\n",
    "### Abstract \n",
    "\n",
    "$T$he main objective of this project is to conceptualize Variational Autoencoders from the perspective of Causal Inference and establish a causal reltionship between images and the ground truth independent factors. We will also be studying the effecs of intervention and make attempts to answer counterfactual queries.\n",
    "\n",
    "\n",
    "### Dataset\n",
    "$dSprites$ is a dataset of sprites, which are 2D shapes procedurally generated from 6 ground truth independent \"factors.\" These factors are color, shape, scale, rotation, x and y positions of a sprite.\n",
    "\n",
    "- Color: white\n",
    "- Shape: 3 values {square, ellipse, heart}\n",
    "- Scale: 6 values linearly spaced in (0.5, 1)\n",
    "- Orientation: 40 values in (0, 2 𝜋 )\n",
    "- Position X: 32 values in (0, 1)\n",
    "- Position Y: 32 values in (0, 1)\n",
    "\n",
    "All possible combinations of these variables are present exactly once, generating N = 737280 total images.\n"
   ]
  },
  {
   "cell_type": "markdown",
   "metadata": {
    "id": "RozIgRZcrFZG"
   },
   "source": [
    "Let's mount our google drive before we start so that we are able to use our dataset for training purpose and save our trained model."
   ]
  },
  {
   "cell_type": "code",
   "execution_count": null,
   "metadata": {
    "id": "MN0eWxcJ5yMe"
   },
   "outputs": [],
   "source": [
    "from google.colab import drive\n",
    "drive.mount('/content/drive')"
   ]
  },
  {
   "cell_type": "markdown",
   "metadata": {
    "id": "h-QkhDN8ul9e"
   },
   "source": [
    "### Installing the necessary dpackages\n",
    "- Pyro Package - pyro is used for Deep Probabilistic Programming.\n",
    "- Torch Vision Package - The torchvision package consists of popular datasets, model architectures, and common image transformations for computer vision.\n",
    "- Pydrive Package - File management made easy. Upload/update the file with one method. PyDrive will do it in the most efficient way.\n",
    "- Tqdm Package - tqdm package is used to plot user-interactive plot used for visualization.\n",
    "\n"
   ]
  },
  {
   "cell_type": "code",
   "execution_count": null,
   "metadata": {
    "id": "CMhHGoIwCwkN"
   },
   "outputs": [],
   "source": [
    "!pip3 install pyro-ppl\n",
    "!pip3 install torch torchvision\n",
    "!pip3 install pydrive --upgrade\n",
    "!pip3 install tqdm"
   ]
  },
  {
   "cell_type": "markdown",
   "metadata": {
    "id": "BwYpjdEcu2J9"
   },
   "source": [
    "Loading the necessary libraries"
   ]
  },
  {
   "cell_type": "code",
   "execution_count": 4,
   "metadata": {
    "id": "uNa3MO8GCqWg"
   },
   "outputs": [],
   "source": [
    "# Load necessary libraries\n",
    "from matplotlib import pyplot as plt\n",
    "import numpy as np\n",
    "import seaborn as sns\n",
    "\n",
    "import os\n",
    "from collections import defaultdict\n",
    "\n",
    "import torch\n",
    "import torch.nn as nn\n",
    "\n",
    "from tqdm import tqdm\n",
    "import pyro\n",
    "import pyro.distributions as dist\n",
    "from pyro.infer import SVI, Trace_ELBO, TraceEnum_ELBO, config_enumerate, EmpiricalMarginal\n",
    "from pyro.optim import Adam, SGD\n",
    "import torch.distributions.constraints as constraints\n",
    "\n",
    "# Change figure aesthetics\n",
    "%matplotlib inline\n",
    "sns.set_context('talk', font_scale=1.2, rc={'lines.linewidth': 1.5})\n",
    "\n",
    "from ipywidgets import interact, interactive, fixed, interact_manual\n",
    "import ipywidgets as widgets\n",
    "\n",
    "#to utilize GPU capabilities\n",
    "USE_CUDA = True\n",
    "# USE_CUDA = False\n",
    "\n",
    "pyro.enable_validation(True)\n",
    "pyro.distributions.enable_validation(False)"
   ]
  },
  {
   "cell_type": "markdown",
   "metadata": {
    "id": "kNzbxjHuvSXa"
   },
   "source": [
    "### GPU compatibility\n",
    "$T$he project is made to be GPU compatible as the dataset comprises 737280 images of 64 x 64 dimensions each. Here, we allocate the GPU using packages like psutil, humanize and gputil packages."
   ]
  },
  {
   "cell_type": "code",
   "execution_count": null,
   "metadata": {
    "id": "cqyc4SqyDLIq"
   },
   "outputs": [],
   "source": [
    "# Hack to get all available GPU ram.\n",
    "\n",
    "import tensorflow as tf\n",
    "tf.test.gpu_device_name()\n",
    "\n",
    "!ln -sf /opt/bin/nvidia-smi /usr/bin/nvidia-smi\n",
    "!pip install gputil\n",
    "!pip install psutil\n",
    "!pip install humanize\n",
    "import psutil\n",
    "import humanize\n",
    "import os\n",
    "import GPUtil as GPU\n",
    "GPUs = GPU.getGPUs()\n",
    "# XXX: only one GPU on Colab and isn’t guaranteed\n",
    "gpu = GPUs[0]\n",
    "def printm():\n",
    " process = psutil.Process(os.getpid())\n",
    " print(\"Gen RAM Free: \" + humanize.naturalsize( psutil.virtual_memory().available ), \" | Proc size: \" + humanize.naturalsize( process.memory_info().rss))\n",
    " print(\"GPU RAM Free: {0:.0f}MB | Used: {1:.0f}MB | Util {2:3.0f}% | Total {3:.0f}MB\".format(gpu.memoryFree, gpu.memoryUsed, gpu.memoryUtil*100, gpu.memoryTotal))\n",
    "printm()"
   ]
  },
  {
   "cell_type": "markdown",
   "metadata": {
    "id": "wZeGuDBowPm3"
   },
   "source": [
    "### What are AutoEncoders..?\n",
    "Autoencoder is an unsupervised artificial neural network that learns how to efficiently compress and encode data then learns how to reconstruct the data back from the reduced encoded representation to a representation that is as close to the original input as possible.\n",
    "\n",
    "An autoencoder accepts input, compresses it, and then recreates the original input. But this cannot be used for generation as the encoded feature space does not capture the underlying distribution. Changing values even a little in the feature space might render the image intangible.\n",
    "![](https://drive.google.com/uc?export=view&id=1NwQzyoG-2qKlADrooOhSFjkSYJ2hWn5p)\n",
    "\n",
    "### What are $Variational Autoencoder's$ and how are they better..?\n",
    "\n",
    "A variational autoencoder assumes that the source data has some sort of underlying probability distribution (such as Gaussian) and then attempts to find the parameters of the distribution. The model learns the μ and σ and ensures continuity in the feature space. Thus, tweaking the same will lead to sensible images.\n",
    "\n",
    "**They consist of two parts:**\n",
    "- 1. Encoder - In which the model learns how to reduce the input dimensions and compress the input data into an encoded representation.\n",
    "    - **Encoder Class**  which takes in as input the image`(xs)` and the label`(ys)` and feeds it to the forward function which gives the output as `z_loc` and `z_scale`(the mean and variance values which are used in sampling the latent variable`(zs)` from a normal distribution)\n",
    " \n",
    "- 2. Decoder - In which the model learns how to reconstruct the data from the encoded representation to be as close to the original input as possible.\n",
    "\n",
    "    - **Decoder Class** which takes in as input the latent variable`(zs`) and the image label`(ys)` and reconstructs a new image in the vicinity of the input image which was used to train the variational autoencoder.\n",
    "\n",
    "![](https://drive.google.com/uc?export=view&id=1tC7wdfYwa3btZEBXthDo3PG96GnHAZV9)\n",
    "\n"
   ]
  },
  {
   "cell_type": "code",
   "execution_count": 6,
   "metadata": {
    "id": "nSkXleG1CqWj"
   },
   "outputs": [],
   "source": [
    "class EncoderY(nn.Module):\n",
    "\t\t\"\"\"\n",
    "\t\tMLP-based encoder for Y.\n",
    "\t\t\n",
    "\t\tThis is used for inference of Y. In the model, each element of Y is drawn\n",
    "\t\tfrom its own distribution.  However, during inference, we will sample values\n",
    "\t\tof Y from a multivariate Gaussian.\n",
    "\t\t\"\"\"\n",
    "\t\tdef __init__(self, image_dim, label_dim):\n",
    "\t\t\tsuper(EncoderY, self).__init__()\n",
    "\t\t\t#setup image and label dimensions from the dataset\n",
    "\t\t\tself.image_dim = image_dim\n",
    "\t\t\tself.label_dim = label_dim\n",
    "\t\t\n",
    "\t\t\t# setup the three linear transformations used\n",
    "\t\t\tself.fc1 = nn.Linear(image_dim, 1000)\n",
    "\t\t\tself.fc2 = nn.Linear(1000, 1000)\n",
    "\t\t\tself.fc31 = nn.Linear(1000, label_dim)  # mu values\n",
    "\t\t\tself.fc32 = nn.Linear(1000, label_dim)  # sigma values\n",
    "\t\t\t# setup the non-linearities\n",
    "\t\t\tself.softplus = nn.Softplus()\n",
    "\n",
    "\t\tdef forward(self, xs):\n",
    "\t\t\txs = xs.reshape(-1, self.image_dim)\n",
    "\t\t\t#now concatenate the image and label\n",
    "\t\t\t#inputs = torch.cat((xs,), -1)\n",
    "\t\t\t# then compute the hidden units\n",
    "\t\t\thidden1 = self.softplus(self.fc1(xs))\n",
    "\t\t\thidden2 = self.softplus(self.fc2(hidden1))\n",
    "\t\t\t# then return a mean vector and a (positive) square root covariance\n",
    "\t\t\t# each of size batch_size x z_dim\n",
    "\t\t\ty_loc = self.fc31(hidden2)\n",
    "\t\t\ty_scale = torch.exp(self.fc32(hidden2))\n",
    "\t\t\treturn y_loc, y_scale\n",
    "\n",
    "class EncoderZ(nn.Module):\n",
    "\t\"\"\"\n",
    "    MLPs (multi-layered perceptrons or simple feed-forward networks)\n",
    "    where the provided activation parameter is used on every linear layer except\n",
    "    for the output layer where we use the provided output_activation parameter\n",
    "\t\"\"\"\n",
    "\tdef __init__(self, image_dim, label_dim, z_dim):\n",
    "\t\tsuper(EncoderZ, self).__init__()\n",
    "\t\t#setup image and label dimensions from the dataset\n",
    "\t\tself.image_dim = image_dim\n",
    "\t\tself.label_dim = label_dim\n",
    "\t\tself.z_dim = z_dim\n",
    "\t\t# setup the three linear transformations used\n",
    "\t\tself.fc1 = nn.Linear(self.image_dim+self.label_dim, 1000)\n",
    "\t\tself.fc2 = nn.Linear(1000, 1000)\n",
    "\t\tself.fc31 = nn.Linear(1000, z_dim)  # mu values\n",
    "\t\tself.fc32 = nn.Linear(1000, z_dim)  # sigma values\n",
    "\t\t# setup the non-linearities\n",
    "\t\tself.softplus = nn.Softplus()\n",
    "\n",
    "\tdef forward(self, xs, ys):\n",
    "\t\txs = xs.reshape(-1, self.image_dim)\n",
    "\t\t#now concatenate the image and label\n",
    "\t\tinputs = torch.cat((xs,ys), -1)\n",
    "\t\t# then compute the hidden units\n",
    "\t\thidden1 = self.softplus(self.fc1(inputs))\n",
    "\t\thidden2 = self.softplus(self.fc2(hidden1))\n",
    "\t\t# then return a mean vector and a (positive) square root covariance\n",
    "\t\t# each of size batch_size x z_dim\n",
    "\t\tz_loc = self.fc31(hidden2)\n",
    "\t\tz_scale = torch.exp(self.fc32(hidden2))\n",
    "\t\treturn z_loc, z_scale\n",
    "\n",
    "class Decoder(nn.Module):\n",
    "\tdef __init__(self, image_dim, label_dim, z_dim):\n",
    "\t\tsuper(Decoder, self).__init__()\n",
    "\t\t# setup the two linear transformations used\n",
    "\t\thidden_dim = 1000\n",
    "\t\tself.fc1 = nn.Linear(z_dim+label_dim, hidden_dim)\n",
    "\t\tself.fc2 = nn.Linear(hidden_dim, hidden_dim)\n",
    "\t\tself.fc3 = nn.Linear(hidden_dim, hidden_dim)\n",
    "\t\tself.fc4 = nn.Linear(hidden_dim, image_dim)\n",
    "\t\t# setup the non-linearities\n",
    "\t\tself.softplus = nn.Softplus()\n",
    "\t\tself.sigmoid = nn.Sigmoid()\n",
    "\n",
    "\tdef forward(self, zs, ys):\n",
    "\t\tinputs = torch.cat((zs, ys),-1)\n",
    "\t\t# then compute the hidden units\n",
    "\t\thidden1 = self.softplus(self.fc1(inputs))\n",
    "\t\thidden2 = self.softplus(self.fc2(hidden1))\n",
    "\t\thidden3 = self.softplus(self.fc3(hidden2))\n",
    "\t\t# return the parameter for the output Bernoulli\n",
    "\t\t# each is of size batch_size x 784\n",
    "\t\tloc_img = self.sigmoid(self.fc4(hidden3))\n",
    "\t\treturn loc_img"
   ]
  },
  {
   "cell_type": "markdown",
   "metadata": {
    "id": "7ZIYG2mD2RQC"
   },
   "source": [
    "### Why do we need to introduce Causality..?\n",
    "$I$n real scenarios, features are not necessarily independent. Instead, there might be an underlying causal structure which renders these features dependent. Looking at data and relationships from a causal perspectives helps us to understand this underlying distributions and aids us in data generating process.\n",
    "\n",
    "Learning disentanglement aims at finding a low dimensional representation consisting of multiple explanatory and generative factors of the observational data. The VAE framework is commonly used to disentangle independent factors from observations. \n",
    "\n",
    "\n",
    "### Causal Variational Autoencoders\n",
    "\n",
    "\n",
    "This module implements the Causal Effect Variational Autoencoder, which demonstrates a number of innovations including:\n",
    "\n",
    "- a generative model for causal effect inference with hidden confounders;\n",
    "- a model and guide with twin neural nets to allow imbalanced treatment; and\n",
    "- a custom training loss that includes both ELBO terms and extra terms needed to train the guide to be able to answer counterfactual queries.\n",
    "\n",
    "\n",
    "class Model(config) \n",
    "\n",
    "Generative model for a causal model with latent confounder z and binary treatment t:\n",
    "\n",
    "    z ~ p(z)      # latent confounder\n",
    "    x ~ p(x|z)    # partial noisy observation of z\n",
    "    t ~ p(t|z)    # treatment, whose application is biased by z\n",
    "    y ~ p(y|t,z)  # outcome\n",
    "\n",
    "Each of these distributions is defined by a neural network. The y distribution is defined by a disjoint pair of neural networks defining p(y|t=0,z) and p(y|t=1,z); this allows highly imbalanced treatment.\n",
    "\n",
    "class Guide(config)\n",
    "\n",
    "Inference model for causal effect estimation with latent confounder z and binary treatment t:\n",
    "\n",
    "    t ~ q(t|x)      # treatment\n",
    "    y ~ q(y|t,x)    # outcome\n",
    "    z ~ q(z|y,t,x)  # latent confounder, an embedding\n",
    "\n",
    "Each of these distributions is defined by a neural network. The y and z distributions are defined by disjoint pairs of neural networks defining $p(-|t=0,...) and p(-|t=1,...)$  this allows highly imbalanced treatment.\n",
    "\n",
    "\n",
    "classTraceCausalEffect_ELBO\n",
    "\n",
    "Loss function for training a CEVAE. From [1], the CEVAE objective (to maximize) is:\n",
    "\n",
    "    -loss = ELBO + log q(t|x) + log q(y|t,x)\n",
    "\n",
    "users may customize by using components Model, Guide, TraceCausalEffect_ELBO and utilities.\n",
    "\n",
    "\n",
    "![](https://drive.google.com/uc?export=view&id=1YunAP9nDwrIzYYsMFv5OyEu4k1NuKShZ)"
   ]
  },
  {
   "cell_type": "code",
   "execution_count": 7,
   "metadata": {
    "id": "Yqj05Mv8CqWm"
   },
   "outputs": [],
   "source": [
    "class CVAE(nn.Module):\n",
    "\t\"\"\"\n",
    "\tThis class encapsulates the parameters (neural networks) and models & guides \n",
    "\tneeded to train a supervised variational auto-encoder \n",
    "\t\"\"\"\n",
    "\tdef __init__(self, config_enum=None, use_cuda=False, aux_loss_multiplier=None):\n",
    "\t\t\n",
    "\t\tsuper(CVAE, self).__init__()\n",
    "\t\tself.image_dim = 64**2\n",
    "\t\tself.label_shape = np.array((1,3,6,40,32,32))\n",
    "\t\tself.label_names = np.array(('color', 'shape', 'scale', 'orientation', 'posX', 'posY'))\n",
    "\t\tself.label_dim = np.sum(self.label_shape)\n",
    "\t\tself.z_dim = 50                                           \n",
    "\t\tself.allow_broadcast = config_enum == 'parallel'\n",
    "\t\tself.use_cuda = use_cuda\n",
    "\t\tself.aux_loss_multiplier = aux_loss_multiplier\n",
    "\t\t\t# define and instantiate the neural networks representing\n",
    "\t\t\t# the paramters of various distributions in the model\n",
    "\t\tself.setup_networks()\n",
    "\n",
    "\tdef setup_networks(self):\n",
    "\t\t\"\"\"\n",
    "\t\tSetup and initialize encoder and decoder units\n",
    "\t\t\"\"\"\n",
    "\t\tself.encoder_y = EncoderY(self.image_dim, 4)\n",
    "\t\tself.encoder_z = EncoderZ(self.image_dim, self.label_dim, self.z_dim)\n",
    "\t\tself.decoder = Decoder(self.image_dim, self.label_dim, self.z_dim)\n",
    "\t\t# using GPUs for faster training of the networks\n",
    "\t\tif self.use_cuda:\n",
    "\t\t\t\tself.cuda()\n",
    "\n",
    "\tdef model(self, xs_obs, ys_obs):\n",
    "\t\t\tpyro.module(\"cvae\", self)\n",
    "\t\t\tbatch_size = xs_obs.size(0)\n",
    "\t\t\toptions = dict(dtype=xs_obs.dtype, device=xs_obs.device)\n",
    "\t\t\tzero_vec = torch.zeros([batch_size], **options)\n",
    "\n",
    "\t\t\tdef p_Z():\n",
    "\t\t\t\t\tprior_loc = torch.zeros(batch_size, self.z_dim, **options)\n",
    "\t\t\t\t\tprior_scale = torch.ones(batch_size, self.z_dim, **options)\n",
    "\t\t\t\t\tzs = pyro.sample(\"z\", dist.Normal(prior_loc, prior_scale).to_event(1))\n",
    "\t\t\t\t\treturn zs\n",
    "\t\t\t\t\n",
    "\t\t\tdef p_Y(ys_obs):\n",
    "\t\t\t\t\tnum_shapes = 3\n",
    "\t\t\t\t\tone_vec = torch.ones([batch_size], **options)\n",
    "\t\t\t\t\tshape_probs = torch.ones([batch_size, num_shapes], **options)  # 3 shapes\n",
    "\t\t\t\t\torientation_probs = torch.ones([batch_size, 40], **options)  # 40 orientation vals\n",
    "\t\t\t\t\t\n",
    "\t\t\t\t\t_, shape_obs, scale_obs, orient_obs, pos_x_obs, pos_y_obs = ys_obs.t()\n",
    "\n",
    "\t\t\t\t\t# sample the shapes\n",
    "\t\t\t\t\tshape = pyro.sample('shape', dist.Categorical(probs=shape_probs), obs=shape_obs.int())\n",
    "\t\t\t\t\tscale = pyro.sample('scale', dist.Uniform(zero_vec, one_vec*40), obs=scale_obs)\n",
    "\t\t\t\t\torientation = pyro.sample(\n",
    "\t\t\t\t\t\t\t'orientation',\n",
    "\t\t\t\t\t\t\tdist.Uniform(zero_vec, one_vec*40),\n",
    "\t\t\t\t\t\t\tobs=orient_obs\n",
    "\t\t\t\t\t)\n",
    "\t\t\t\t\tposition_x = pyro.sample('x_pos', dist.Uniform(zero_vec, one_vec*32), obs=pos_x_obs)\n",
    "\t\t\t\t\tposition_y = pyro.sample('y_pos', dist.Uniform(zero_vec, one_vec*32), obs=pos_y_obs)\n",
    "\n",
    "\t\t\t\t\tys = torch.stack((zero_vec, shape.float(), scale, orientation, position_x, position_y)).t()\n",
    "\t\t\t\t\treturn ys\n",
    "\n",
    "\t\t\tdef f_X_obs(ys, zs, xs_obs):\n",
    "\t\t\t\t\t# if the label y (which digit to write) is supervised, sample from the\n",
    "\t\t\t\t\t# constant prior, otherwise, observe the value (i.e. score it against\n",
    "\t\t\t\t\t# the constant prior)\n",
    "\t\t\t\t\tloc = self.decoder.forward(zs, self.p_Y_onehot(ys))\n",
    "\t\t\t\t\txs = pyro.sample(\"x\", dist.Bernoulli(loc).to_event(1), obs=xs_obs)\n",
    "\t\t\t\t\treturn xs\n",
    "\n",
    "\t\t\twith pyro.plate(\"data\"):\n",
    "\t\t\t\t\tzs = p_Z()\n",
    "\t\t\t\t\tys = p_Y(ys_obs)\n",
    "\t\t\t\t\txs = f_X_obs(ys, zs, xs_obs)\n",
    "\t\t\t\t\treturn xs, ys\n",
    "\n",
    "\tdef p_Y_onehot(self, ys): # Is this better? At least it works\n",
    "\t\t\t\tnew_ys = []\n",
    "\t\t\t\toptions = dict(dtype=ys.dtype, device=ys.device)\n",
    "\t\t\t\tfor i, label_length in enumerate(self.label_shape):\n",
    "\t\t\t\t\t\tprior = torch.ones(ys.size(0), label_length, **options) / (1.0 * label_length)\n",
    "\t\t\t\t\t\tnew_ys.append(pyro.sample(\"y_%s\" % self.label_names[i], dist.OneHotCategorical(prior), \n",
    "\t\t\t\t\t\t\t\t\t\t\t\t\t\t\t\t\tobs=torch.nn.functional.one_hot(ys[:,i].to(torch.int64), int(label_length))))\n",
    "\t\t\t\tnew_ys = torch.cat(new_ys, -1)\n",
    "\t\t\t\treturn new_ys.to(torch.float32)\n",
    "\t\n",
    "\tdef guide(self, xs, ys):\n",
    "\t\twith pyro.plate(\"data\"):\n",
    "\t\t\tz_loc, z_scale = self.encoder_z.forward(xs, self.p_Y_onehot(ys))\n",
    "\t\t\tpyro.sample(\"z\", dist.Normal(z_loc, z_scale).to_event(1))\n",
    "\n",
    "\tdef remap_y(self, ys):\n",
    "\t\tnew_ys = []\n",
    "\t\toptions = dict(dtype=ys.dtype, device=ys.device)\n",
    "\t\tfor i, label_length in enumerate(self.label_shape):\n",
    "\t\t    prior = torch.ones(ys.size(0), label_length, **options) / (1.0 * label_length)\n",
    "\t\t    new_ys.append(pyro.sample(\"y_%s\" % self.label_names[i], dist.OneHotCategorical(prior), \n",
    "\t\t                           obs=torch.nn.functional.one_hot(ys[:,i].to(torch.int64), int(label_length))))\n",
    "\t\tnew_ys = torch.cat(new_ys, -1)\n",
    "\t\treturn new_ys.to(torch.float32)\n",
    "\n",
    "\t\n",
    "\n",
    "\tdef reconstruct_image(self, xs, ys):\n",
    "\t\t# backward\n",
    "\t\tsim_z_loc, sim_z_scale = self.encoder_z.forward(xs, self.p_Y_onehot(ys))\n",
    "\t\tzs = dist.Normal(sim_z_loc, sim_z_scale).to_event(1).sample()\n",
    "\t\t# forward\n",
    "\t\tloc = self.decoder.forward(zs, self.p_Y_onehot(ys))\n",
    "\t\treturn dist.Bernoulli(loc).to_event(1).sample()"
   ]
  },
  {
   "cell_type": "markdown",
   "metadata": {
    "id": "SF--tmTZj6e4"
   },
   "source": [
    "### Data Preprocessing\n",
    "$The$ dataset is split in test and train  both for the images and the labels. The below code snippet explains how the dataset is combined and stored in the data_loader dictionary. \n",
    "\n",
    "`Note:` There are six types of labels for a single image therefore, the labels are split as well in the similar format and stored  in a dictionary inside the data_loader function."
   ]
  },
  {
   "cell_type": "code",
   "execution_count": 8,
   "metadata": {
    "id": "1mmMe3D8CqWo"
   },
   "outputs": [],
   "source": [
    "def setup_data_loaders(train_x, test_x, train_y, test_y, batch_size=128, use_cuda=False):\n",
    "\ttrain_dset = torch.utils.data.TensorDataset(\n",
    "\t  torch.from_numpy(train_x.astype(np.float32)).reshape(-1, 4096),\n",
    "\t  torch.from_numpy(train_y.astype(np.float32))\n",
    "\t)\n",
    "\ttest_dset = torch.utils.data.TensorDataset(\n",
    "\t  torch.from_numpy(test_x.astype(np.float32)).reshape(-1, 4096),\n",
    "\t  torch.from_numpy(test_y.astype(np.float32))\n",
    "\t)    \n",
    "\tkwargs = {'num_workers': 1, 'pin_memory': use_cuda}\n",
    "\ttrain_loader = torch.utils.data.DataLoader(\n",
    "\t  dataset=train_dset, batch_size=batch_size, shuffle=False, **kwargs\n",
    "\t)\n",
    "\n",
    "\ttest_loader = torch.utils.data.DataLoader(\n",
    "\t  dataset=test_dset, batch_size=batch_size, shuffle=False, **kwargs\n",
    "\t)\n",
    "\treturn {\"train\":train_loader, \"test\":test_loader}"
   ]
  },
  {
   "cell_type": "markdown",
   "metadata": {
    "id": "Fe9nGsVC8SiW"
   },
   "source": [
    "### Loading the dataset\n",
    "\n",
    "$The$ dataset is now loaded from our mounted Google Drive.  A set of sampled images from the loaded dataset, along with labels sampled is created and passed into setup_data_loaders function to prepare the data loaders dictionary which comprises of the train and the test data."
   ]
  },
  {
   "cell_type": "code",
   "execution_count": 9,
   "metadata": {
    "id": "azMSBtsnCqWr"
   },
   "outputs": [],
   "source": [
    "dataset_zip = np.load(\n",
    "    '/content/drive/MyDrive/Causal_7290_Code/Causal-Inference/dsprites-dataset/dsprites_ndarray_co1sh3sc6or40x32y32_64x64.npz',\n",
    "    encoding = 'bytes',\n",
    "    allow_pickle=True\n",
    ")\n",
    "\n",
    "imgs = dataset_zip['imgs']\n",
    "labels = dataset_zip['latents_classes']\n",
    "label_sizes = dataset_zip['metadata'][()][b'latents_sizes']\n",
    "label_names = dataset_zip['metadata'][()][b'latents_names']\n",
    "\n",
    "# Sample imgs randomly\n",
    "indices_sampled = np.arange(imgs.shape[0])\n",
    "np.random.shuffle(indices_sampled)\n",
    "imgs_sampled = imgs[indices_sampled]\n",
    "labels_sampled = labels[indices_sampled]\n",
    "\n",
    "data_loaders = setup_data_loaders(\n",
    "   imgs_sampled[1000:],\n",
    "   imgs_sampled[:1000],\n",
    "   labels_sampled[1000:],\n",
    "   labels_sampled[:1000],\n",
    "   batch_size=256,\n",
    "   use_cuda=USE_CUDA\n",
    ")\n"
   ]
  },
  {
   "cell_type": "markdown",
   "metadata": {
    "id": "Gbcsh-sY9Lpd"
   },
   "source": [
    "### Training the Model\n",
    "\n",
    "$The$ SVI (Stochastic Variational Inference) in Pyro was used to compute the losses from the train and the test dataset.\n",
    "\n",
    "The SVI object has 2 methods, \n",
    "- **.step()**:takes a single gradient step and returns an estimate of the loss (i.e. minus the ELBO). If provided, the arguments to step() are piped to model() and guide().\n",
    "- **.evaluate_loss()** : returns an estimate of the loss without taking a gradient step. Just like for step(), if provided, arguments to evaluate_loss() are piped to model() and guide()"
   ]
  },
  {
   "cell_type": "code",
   "execution_count": 10,
   "metadata": {
    "id": "Eamf-n9hCqWt"
   },
   "outputs": [],
   "source": [
    "def train(svi, train_loader, use_cuda=False):\n",
    "\t# initialize loss accumulator\n",
    "\tepoch_loss = 0.\n",
    "\t# do a training epoch over each mini-batch x returned\n",
    "\t# by the data loader\n",
    "\tfor xs,ys in train_loader:\n",
    "\t  # if on GPU put mini-batch into CUDA memory\n",
    "\t  if use_cuda:\n",
    "\t      xs = xs.cuda()\n",
    "\t      ys = ys.cuda()\n",
    "\t  # do ELBO gradient and accumulate loss\n",
    "\t  epoch_loss += svi.step(xs, ys)\n",
    "\t# return epoch loss\n",
    "\tnormalizer_train = len(train_loader.dataset)\n",
    "\ttotal_epoch_loss_train = epoch_loss / normalizer_train\n",
    "\treturn total_epoch_loss_train\n",
    "\n",
    "def evaluate(svi, test_loader, use_cuda=False):\n",
    "\t# initialize loss accumulator\n",
    "\ttest_loss = 0.\n",
    "\t# compute the loss over the entire test set\n",
    "\tfor xs, ys in test_loader:\n",
    "\t  # if on GPU put mini-batch into CUDA memory\n",
    "\t  if use_cuda:\n",
    "\t      xs = xs.cuda()\n",
    "\t      ys = ys.cuda()\n",
    "\t  # compute ELBO estimate and accumulate loss\n",
    "\t  test_loss += svi.evaluate_loss(xs, ys)\n",
    "\tnormalizer_test = len(test_loader.dataset)\n",
    "\ttotal_epoch_loss_test = test_loss / normalizer_test\n",
    "\treturn total_epoch_loss_test"
   ]
  },
  {
   "cell_type": "markdown",
   "metadata": {
    "id": "tVSEjAmswFgE"
   },
   "source": [
    "Used Hyperparameters: \n",
    "- learning rate = 1.0e-3 and \n",
    "- number of iterations = 10\n",
    "- testing frequency = 5"
   ]
  },
  {
   "cell_type": "code",
   "execution_count": 11,
   "metadata": {
    "id": "LR-hW5UzCqWv"
   },
   "outputs": [],
   "source": [
    "# Run options\n",
    "LEARNING_RATE = 1.0e-3\n",
    "\n",
    "# Run only for a single iteration for testing\n",
    "NUM_EPOCHS = 10\n",
    "TEST_FREQUENCY = 5"
   ]
  },
  {
   "cell_type": "markdown",
   "metadata": {
    "id": "I_6raIMS-1mu"
   },
   "source": [
    "Here the model is trained by setting up the SVI inference algorithm. \n",
    "\n",
    "Adam optimizer was utilzed.\n",
    "\n",
    "\n",
    "The svi.step() and svi.evaluate() functions were used to compute the losses for the train and test data for evaluating our model.\n"
   ]
  },
  {
   "cell_type": "code",
   "execution_count": 12,
   "metadata": {
    "colab": {
     "base_uri": "https://localhost:8080/"
    },
    "id": "hIuVKC2lCqWx",
    "outputId": "d5d24ea2-2b44-4952-894b-17b1565046ff"
   },
   "outputs": [
    {
     "name": "stderr",
     "output_type": "stream",
     "text": [
      "\r",
      "  0%|          | 0/10 [00:00<?, ?it/s]"
     ]
    },
    {
     "name": "stdout",
     "output_type": "stream",
     "text": [
      "[epoch 000]  average training loss: 180.0718\n"
     ]
    },
    {
     "name": "stderr",
     "output_type": "stream",
     "text": [
      "\r",
      " 10%|█         | 1/10 [01:46<16:01, 106.83s/it]"
     ]
    },
    {
     "name": "stdout",
     "output_type": "stream",
     "text": [
      "[epoch 000] average test loss: 119.1862\n"
     ]
    },
    {
     "name": "stderr",
     "output_type": "stream",
     "text": [
      "\r",
      " 20%|██        | 2/10 [03:34<14:16, 107.00s/it]"
     ]
    },
    {
     "name": "stdout",
     "output_type": "stream",
     "text": [
      "[epoch 001]  average training loss: 92.9595\n"
     ]
    },
    {
     "name": "stderr",
     "output_type": "stream",
     "text": [
      "\r",
      " 30%|███       | 3/10 [05:23<12:33, 107.57s/it]"
     ]
    },
    {
     "name": "stdout",
     "output_type": "stream",
     "text": [
      "[epoch 002]  average training loss: 81.9519\n"
     ]
    },
    {
     "name": "stderr",
     "output_type": "stream",
     "text": [
      "\r",
      " 40%|████      | 4/10 [07:11<10:47, 107.85s/it]"
     ]
    },
    {
     "name": "stdout",
     "output_type": "stream",
     "text": [
      "[epoch 003]  average training loss: 60.2432\n"
     ]
    },
    {
     "name": "stderr",
     "output_type": "stream",
     "text": [
      "\r",
      " 50%|█████     | 5/10 [09:00<09:00, 108.17s/it]"
     ]
    },
    {
     "name": "stdout",
     "output_type": "stream",
     "text": [
      "[epoch 004]  average training loss: 48.1666\n",
      "[epoch 005]  average training loss: 38.6646\n"
     ]
    },
    {
     "name": "stderr",
     "output_type": "stream",
     "text": [
      "\r",
      " 60%|██████    | 6/10 [10:49<07:13, 108.40s/it]"
     ]
    },
    {
     "name": "stdout",
     "output_type": "stream",
     "text": [
      "[epoch 005] average test loss: 39.3639\n"
     ]
    },
    {
     "name": "stderr",
     "output_type": "stream",
     "text": [
      "\r",
      " 70%|███████   | 7/10 [12:38<05:26, 108.68s/it]"
     ]
    },
    {
     "name": "stdout",
     "output_type": "stream",
     "text": [
      "[epoch 006]  average training loss: 35.6741\n"
     ]
    },
    {
     "name": "stderr",
     "output_type": "stream",
     "text": [
      "\r",
      " 80%|████████  | 8/10 [14:24<03:35, 107.70s/it]"
     ]
    },
    {
     "name": "stdout",
     "output_type": "stream",
     "text": [
      "[epoch 007]  average training loss: 34.1635\n"
     ]
    },
    {
     "name": "stderr",
     "output_type": "stream",
     "text": [
      "\r",
      " 90%|█████████ | 9/10 [16:11<01:47, 107.68s/it]"
     ]
    },
    {
     "name": "stdout",
     "output_type": "stream",
     "text": [
      "[epoch 008]  average training loss: 33.0933\n"
     ]
    },
    {
     "name": "stderr",
     "output_type": "stream",
     "text": [
      "100%|██████████| 10/10 [17:58<00:00, 107.84s/it]"
     ]
    },
    {
     "name": "stdout",
     "output_type": "stream",
     "text": [
      "[epoch 009]  average training loss: 32.2103\n"
     ]
    },
    {
     "name": "stderr",
     "output_type": "stream",
     "text": [
      "\n"
     ]
    }
   ],
   "source": [
    "import warnings\n",
    "warnings.filterwarnings('ignore')\n",
    "\n",
    "# clear param store\n",
    "pyro.clear_param_store()\n",
    "\n",
    "# setup the VAE\n",
    "vae = CVAE(use_cuda=USE_CUDA)\n",
    "\n",
    "# setup the optimizer\n",
    "adam_args = {\"lr\": LEARNING_RATE}\n",
    "optimizer = Adam(adam_args)\n",
    "\n",
    "# setup the inference algorithm\n",
    "svi = SVI(vae.model, vae.guide, optimizer, loss=Trace_ELBO())\n",
    "\n",
    "train_elbo = []\n",
    "test_elbo = []\n",
    "# training loop\n",
    "\n",
    "VERBOSE = True\n",
    "pbar = tqdm(range(NUM_EPOCHS))\n",
    "for epoch in pbar:\n",
    "    total_epoch_loss_train = train(svi, data_loaders[\"train\"], use_cuda=USE_CUDA)\n",
    "    train_elbo.append(-total_epoch_loss_train)\n",
    "    if VERBOSE:\n",
    "        print(\"[epoch %03d]  average training loss: %.4f\" % (epoch, total_epoch_loss_train))\n",
    "    if epoch % TEST_FREQUENCY == 0:\n",
    "        # report test diagnostics\n",
    "        total_epoch_loss_test = evaluate(svi, data_loaders[\"test\"], use_cuda=USE_CUDA)\n",
    "        test_elbo.append(-total_epoch_loss_test)\n",
    "        if VERBOSE:\n",
    "            print(\"[epoch %03d] average test loss: %.4f\" % (epoch, total_epoch_loss_test))"
   ]
  },
  {
   "cell_type": "markdown",
   "metadata": {
    "id": "5_K4mKeSwQoZ"
   },
   "source": [
    "### Saving the Model\n",
    "\n",
    "$The$ results and the trained model were saved to avoid retraining and reusability.\n"
   ]
  },
  {
   "cell_type": "code",
   "execution_count": 13,
   "metadata": {
    "id": "puMbph4idkYg"
   },
   "outputs": [],
   "source": [
    "#################################\n",
    "### FOR SAVING AND LOADING MODEL\n",
    "################################\n",
    "# clear param store\n",
    "\n",
    "pyro.clear_param_store()\n",
    "\n",
    "network_path = \"/content/drive/MyDrive/Causal_7290_Code/Causal-Inference/trained_model_3.save\"\n",
    "torch.save(vae.state_dict(), network_path)"
   ]
  },
  {
   "cell_type": "markdown",
   "metadata": {
    "id": "397t-rkJ_7_w"
   },
   "source": [
    "### Loading Our Trained Model\n",
    "$The$ previously saved model was loaded in the following snippet."
   ]
  },
  {
   "cell_type": "code",
   "execution_count": null,
   "metadata": {
    "colab": {
     "base_uri": "https://localhost:8080/"
    },
    "id": "f40jxGui6s3K",
    "outputId": "262a97a5-8b0d-4418-cba4-022f5c7c4321"
   },
   "outputs": [
    {
     "data": {
      "text/plain": [
       "<All keys matched successfully>"
      ]
     },
     "execution_count": 18,
     "metadata": {
      "tags": []
     },
     "output_type": "execute_result"
    }
   ],
   "source": [
    "network_path = \"/content/drive/MyDrive/Causal_7290_Code/Causal-Inference/trained_model_2.save\"\n",
    "\n",
    "vae=CVAE(use_cuda=USE_CUDA)\n",
    "vae.load_state_dict(torch.load(network_path))"
   ]
  },
  {
   "cell_type": "markdown",
   "metadata": {
    "id": "HgFAAGjvAHap"
   },
   "source": [
    "### Loss Vs Epochs\n",
    "`Observation:` The given hyperparameters used are performing well, as after 10 epochs there is no significant change in the training losses."
   ]
  },
  {
   "cell_type": "code",
   "execution_count": 14,
   "metadata": {
    "colab": {
     "base_uri": "https://localhost:8080/",
     "height": 343
    },
    "id": "6cy1LrYbJfHD",
    "outputId": "f0b6b3be-a2d9-4fa5-bf24-6a87507e4dcb"
   },
   "outputs": [
    {
     "data": {
      "text/plain": [
       "Text(0, 0.5, 'Loss')"
      ]
     },
     "execution_count": 14,
     "metadata": {
      "tags": []
     },
     "output_type": "execute_result"
    },
    {
     "data": {
      "image/png": "[encoded data removed]",
      "text/plain": [
       "<Figure size 432x288 with 1 Axes>"
      ]
     },
     "metadata": {
      "needs_background": "light",
      "tags": []
     },
     "output_type": "display_data"
    }
   ],
   "source": [
    "#Plotting the loss now\n",
    "import seaborn as sns\n",
    "sns.lineplot(data=train_elbo)\n",
    "plt.title('Loss vs Epoch')\n",
    "plt.xlabel('Epochs')\n",
    "plt.ylabel('Loss')"
   ]
  },
  {
   "cell_type": "markdown",
   "metadata": {
    "id": "aFnfYMd3CqW0"
   },
   "source": [
    "### Visualizing the Reconstructions \n",
    "$Here$, the original image was compared with the one reconstructed form the decoder of VAE (Without interventions).\n",
    "\n",
    "\n",
    "Pending"
   ]
  },
  {
   "cell_type": "code",
   "execution_count": null,
   "metadata": {
    "id": "nIt0T2eUCqW0"
   },
   "outputs": [],
   "source": [
    "import warnings\n",
    "warnings.filterwarnings(\"ignore\")\n",
    "\n",
    "data_iter = iter(data_loaders[\"test\"])\n",
    "xs, ys = next(data_iter)\n",
    "\n",
    "if USE_CUDA:\n",
    "    xs = xs.cuda()\n",
    "    ys = ys.cuda()\n",
    "\n",
    "rs = vae.reconstruct_image(xs, ys)\n",
    "if USE_CUDA:\n",
    "    xs = xs.cpu()\n",
    "    rs = rs.cpu()\n",
    "originals = xs.numpy().reshape(-1, 64,64)\n",
    "recons = rs.reshape(-1,64,64)"
   ]
  },
  {
   "cell_type": "code",
   "execution_count": null,
   "metadata": {
    "colab": {
     "base_uri": "https://localhost:8080/",
     "height": 232,
     "referenced_widgets": [
      "4955e6adbfd342409b2ffd8acdea92ee",
      "ea79916795b44d5784fc213a36c66874",
      "fef4468a595d4fcc87591546a8043fd7",
      "12711f2e7ce949d0830832d28704a186",
      "bcc97dc766224b9babceea22f82c8f02",
      "12724de4f0624e83adf7817b56349748",
      "44356efae33a4b6792049d8147327e83"
     ]
    },
    "id": "1YBT2lo7CqW2",
    "outputId": "d9eb301e-303d-4974-e47f-1ce119ee5a1e"
   },
   "outputs": [
    {
     "data": {
      "application/vnd.jupyter.widget-view+json": {
       "model_id": "4955e6adbfd342409b2ffd8acdea92ee",
       "version_major": 2,
       "version_minor": 0
      },
      "text/plain": [
       "interactive(children=(IntSlider(value=0, description='x', max=255), Output()), _dom_classes=('widget-interact'…"
      ]
     },
     "metadata": {
      "tags": []
     },
     "output_type": "display_data"
    },
    {
     "data": {
      "text/plain": [
       "<function __main__.f>"
      ]
     },
     "execution_count": 20,
     "metadata": {
      "tags": []
     },
     "output_type": "execute_result"
    }
   ],
   "source": [
    "def recon_check(original, recon):\n",
    "  fig = plt.figure()\n",
    "  ax0 = fig.add_subplot(121)\n",
    "  plt.imshow(original, cmap='Greys_r',  interpolation='nearest')\n",
    "  plt.axis('off')\n",
    "  ax1 = fig.add_subplot(122)\n",
    "  plt.imshow(recon , cmap='Greys_r', interpolation='nearest')\n",
    "  plt.axis('off')\n",
    "  \n",
    "def f(x):\n",
    "    fig = plt.figure()\n",
    "    ax0 = fig.add_subplot(121)\n",
    "    plt.imshow(originals[x], cmap='Greys_r',  interpolation='nearest')\n",
    "    plt.axis('off')\n",
    "    ax1 = fig.add_subplot(122)\n",
    "    plt.imshow(recons[x], cmap='Greys_r',  interpolation='nearest')\n",
    "    plt.axis('off')\n",
    "    \n",
    "interact(f, x=widgets.IntSlider(min=0, max=xs.shape[0]-1, step=1, value=0))"
   ]
  },
  {
   "cell_type": "code",
   "execution_count": null,
   "metadata": {
    "colab": {
     "base_uri": "https://localhost:8080/",
     "height": 425,
     "referenced_widgets": [
      "edfdfb399c77419e91113fdd464bfa6b",
      "10b85cb457a2489cb6da52c0009ff28a",
      "ddbed3a7663d434c8cdeaf712e04c815",
      "32550cb7a1884ed7a12a6d20109cad1e",
      "7f383cc53cb44c2a8b015f0d6634c8af",
      "8ab0f1b291b04c47bbddf995d254d7cb",
      "c9b3e36b2d7b42a1bdbe98d0a20acd38",
      "026a208537e34f09a62f5ad3afbfe118",
      "9d7ad9c83cb2470b9607836dddfc776c",
      "e26e588eed27448aac054d417c95f7d1",
      "dc1a00465f1849308f05f4d5c924d042",
      "d8e5c7b3970f4cc68472858802960325",
      "128246faf62d4237b2a3b88450c760c0",
      "5b12ca31f05d4e98a5db959e03870570",
      "49754447cc9344deb0de0a844482359e",
      "6f740f26fbd74dd1830742c3008860fe",
      "eaa82b7fdcc448febed217b1669aaa50",
      "d2330caaed8d4aecafa4dd3be4b43955",
      "8f04fa51c4ea437c8cd9b14fd345ae82"
     ]
    },
    "id": "EVCzRnuIzNpL",
    "outputId": "5a98e521-de8a-462b-f171-65920ee2f1d6"
   },
   "outputs": [
    {
     "data": {
      "application/vnd.jupyter.widget-view+json": {
       "model_id": "edfdfb399c77419e91113fdd464bfa6b",
       "version_major": 2,
       "version_minor": 0
      },
      "text/plain": [
       "interactive(children=(IntSlider(value=0, description='shape', max=2), IntSlider(value=0, description='scale', …"
      ]
     },
     "metadata": {
      "tags": []
     },
     "output_type": "display_data"
    },
    {
     "data": {
      "text/plain": [
       "<function __main__.find_in_dataset>"
      ]
     },
     "execution_count": 21,
     "metadata": {
      "tags": []
     },
     "output_type": "execute_result"
    }
   ],
   "source": [
    "y_names = ['shape', 'scale', 'orientation', 'posX', 'posY']\n",
    "y_shapes = np.array((3,6,40,32,32))\n",
    "img_dict = {}\n",
    "\n",
    "for i, img in enumerate(imgs_sampled):\n",
    "     img_dict[tuple(labels_sampled[i])] = img\n",
    "\n",
    "def find_in_dataset(shape, scale, orient, posX, posY):\n",
    "  fig = plt.figure()\n",
    "  img = img_dict[(0, shape, scale, orient, posX, posY)]\n",
    "  plt.imshow(img.reshape(64,64), cmap='Greys_r', interpolation='nearest')\n",
    "  plt.axis('off')\n",
    "\n",
    "interact(find_in_dataset, \n",
    "         shape=widgets.IntSlider(min=0, max=2, step=1, value=0),\n",
    "         scale=widgets.IntSlider(min=0, max=5, step=1, value=0),\n",
    "         orient=widgets.IntSlider(min=0, max=39, step=1, value=0),\n",
    "         posX=widgets.IntSlider(min=0, max=31, step=1, value=0),\n",
    "         posY=widgets.IntSlider(min=0, max=31, step=1, value=0))"
   ]
  },
  {
   "cell_type": "markdown",
   "metadata": {
    "id": "RRtFUBu2RlBl"
   },
   "source": [
    "## Helper Functions\n",
    "\n",
    "This function is used to get examples of data with specific class labels"
   ]
  },
  {
   "cell_type": "code",
   "execution_count": null,
   "metadata": {
    "colab": {
     "base_uri": "https://localhost:8080/",
     "height": 279
    },
    "id": "TzvKPe7gRkst",
    "outputId": "aaac107e-37fc-4fe7-95bb-4b9f5eb536b5"
   },
   "outputs": [
    {
     "data": {
      "image/png": "[encoded data removed]",
      "text/plain": [
       "<Figure size 432x288 with 1 Axes>"
      ]
     },
     "metadata": {
      "needs_background": "light",
      "tags": []
     },
     "output_type": "display_data"
    }
   ],
   "source": [
    "def get_specific_data(args=dict(), cuda=False):\n",
    "    '''\n",
    "    \n",
    "    inputs: \n",
    "        args - dictionary whose keys can include {shape, scale, orientation,\n",
    "                posX, posY} and values can include any integers less than the \n",
    "                corresponding size of that label dimension\n",
    "        cuda - bool to indicate whether the output should be placed on GPU\n",
    "    '''\n",
    "    names_dict = {'shape': 1, 'scale': 2, 'orientation': 3, 'posX': 4, 'posY': 5}\n",
    "    selected_ind = np.ones(imgs.shape[0], dtype=bool)\n",
    "    for k,v in args.items():\n",
    "        col_id = names_dict[k]\n",
    "        selected_ind = np.bitwise_and(selected_ind, labels[:, col_id] == v)\n",
    "    ind = np.random.choice(np.arange(imgs.shape[0])[selected_ind])\n",
    "    x = torch.from_numpy(imgs[ind].reshape(1,64**2).astype(np.float32))\n",
    "    y = torch.from_numpy(labels[ind].reshape(1,6).astype(np.float32))\n",
    "    if not cuda:\n",
    "        return x,y\n",
    "    x = x.cuda()\n",
    "    y = y.cuda()\n",
    "    return x,y\n",
    "\n",
    "def plot_image(x):\n",
    "    \"\"\"\n",
    "    helper to plot dSprites images\n",
    "    \"\"\"\n",
    "    x = x.cpu()\n",
    "    plt.figure()\n",
    "    plt.imshow(x.reshape(64,64), interpolation='nearest', cmap='Greys_r')\n",
    "    plt.axis('off')\n",
    "\n",
    "def see_specific_image(args=dict(), verbose=True):\n",
    "    '''\n",
    "    use this function to get examples of data with specific class labels\n",
    "    inputs: \n",
    "        args - dictionary whose keys can include {shape, scale, orientation,\n",
    "                posX, posY} and values can include any integers less than the \n",
    "                corresponding size of that label dimension\n",
    "        verbose - bool to indicate whether the full class label should be written \n",
    "                    as the title of the plot\n",
    "    '''\n",
    "    x,y = get_specific_data(args, cuda=False)\n",
    "    plot_image(x)\n",
    "    if verbose:\n",
    "        string = ''\n",
    "        for i, s in enumerate(['Shape', 'Scale', 'Orientation', 'PosX', 'PosY']):\n",
    "            string += '%s: %d, ' % (s, int(y[0][i+1]))\n",
    "            if i == 2:\n",
    "                string = string[:-2] + '\\n'\n",
    "        plt.title(string[:-2], fontsize=12)\n",
    "        \n",
    "def compare_reconstruction(original, recon):\n",
    "    \"\"\"\n",
    "    compare two images side by side\n",
    "    inputs:\n",
    "        original - array for original image\n",
    "        recon - array for recon image\n",
    "    \"\"\"\n",
    "    fig = plt.figure()\n",
    "    ax0 = fig.add_subplot(121)\n",
    "    plt.imshow(original.cpu().reshape(64,64), cmap='Greys_r',  interpolation='nearest')\n",
    "    plt.axis('off')\n",
    "    plt.title('original')\n",
    "    ax1 = fig.add_subplot(122)\n",
    "    plt.imshow(recon.cpu().reshape(64,64), cmap='Greys_r',  interpolation='nearest')\n",
    "    plt.axis('off')\n",
    "    plt.title('reconstruction')\n",
    "    \n",
    "def compare_to_density(original, recons):\n",
    "    \"\"\"\n",
    "    compare two images side by side\n",
    "    inputs:\n",
    "        original - array for original image\n",
    "        recon - array of multiple recon images\n",
    "    \"\"\"\n",
    "    fig = plt.figure()\n",
    "    ax0 = fig.add_subplot(121)\n",
    "    plt.imshow(original.cpu().reshape(64,64), cmap='Greys_r',  interpolation='nearest')\n",
    "    plt.axis('off')\n",
    "    plt.title('original')\n",
    "    ax1 = fig.add_subplot(122)\n",
    "    plt.imshow(torch.mean(recons.cpu(), 0).reshape(64,64), cmap='Greys_r',  interpolation='nearest')\n",
    "    plt.axis('off')\n",
    "    plt.title('reconstructions')\n",
    "\n",
    "        \n",
    "see_specific_image()"
   ]
  },
  {
   "cell_type": "code",
   "execution_count": null,
   "metadata": {
    "colab": {
     "base_uri": "https://localhost:8080/"
    },
    "id": "8jCnd3giSNDR",
    "outputId": "9c49e356-f833-4720-8195-4dff7401d09e"
   },
   "outputs": [
    {
     "data": {
      "text/plain": [
       "array([  1,   4,  10,  50,  82, 114])"
      ]
     },
     "execution_count": 23,
     "metadata": {
      "tags": []
     },
     "output_type": "execute_result"
    }
   ],
   "source": [
    "label_dims = vae.label_shape\n",
    "label_dim_offsets = np.cumsum(label_dims)\n",
    "label_dim_offsets"
   ]
  },
  {
   "cell_type": "markdown",
   "metadata": {
    "id": "LFQl9t7CBdlY"
   },
   "source": [
    "### Structural Causal Model (SCM)\n",
    "$First$ let us first understand what are exogenous and endogenous variables.\n",
    "- **Exogeneous Variables:** A factor in a causal model whose value is independent from the states of other variables in the system.\n",
    "- **Endogenous Variables:** A factor in a causal model whose value is determined by the states of other variables in the system.\n",
    "\n",
    "Going further.\n",
    "\n",
    "A Structural causal model was implemented capturing the causal dependencies of the endogenous and exogenous variables in our model. An object of class SCM() takes in 3 arguments, an instance of a VAE, loc of q(z|x) given by the VAE encoder, and the sigma of q(z|x) also given by the VAE encoder.\n",
    "\n",
    "![](https://drive.google.com/uc?export=view&id=1iVAxQXdeV8Ec6NrLk-J1sUv1Wft7kL_l)\n",
    "\n",
    "#### Endogenous Variables\n",
    "These are of 3 types:- \n",
    "- 1.dSprite image(X),\n",
    "\n",
    "- 2.labels corresponding to the image(Y),\n",
    "\n",
    "- 3.latent variable(Z) sampled from a normal distribution with mean and variance returned by the variational autoencoder. \n",
    "\n",
    "Y is further subdivided into 5 variables `‘Y_1’, ‘Y_2’, ‘Y_3’, ‘Y_4’, and ‘Y5’` each of which represent the individual image label.\n",
    "\n",
    "#### Exogenous Variables\n",
    "These are represented by noises corresponding to each of the endogenous variables with a suffix ‘N’.\n",
    "\n",
    "#### Function Description\n",
    "\n",
    "**model():**\n",
    "This function corresponds to our` data generative process`. It takes in input as argument the noise variables i.e the exogenous variables and returns X(image), Y(labels), and Z(latents). It does so by sampling the individual endogenous variables using a normal probability distribution.\n",
    "\n",
    "**updated_noise_svi()**\n",
    "This function takes in as input the labels of an image in the form of a dictionary (obs_data), and an optional intervened model(intervened_model) and returns the exogenous variables or noises corresponding to the images (obs_data).\n",
    "\n",
    "It uses SVI to find out the μ and σ of the distribution for the conditions outlined in obs_data.The guide function serves as an approximation to the posterior p(z|x). The guide provides a valid joint probability density over all the latent random variables in the model.Once the guide is specified and the model is conditioned, we move to the inference step. Now, this is an optimization problem where each iteration of training takes a step that moves the guide closer to the exact posterior."
   ]
  },
  {
   "cell_type": "code",
   "execution_count": null,
   "metadata": {
    "id": "bF2snPDESVe1"
   },
   "outputs": [],
   "source": [
    "class SCM():\n",
    "    \"\"\"\n",
    "    Structural causal model\n",
    "    \n",
    "    args: \n",
    "      vae: instance of vae\n",
    "      mu: loc of q(z|x) given by the vae encoder\n",
    "      sigma: scale of q(z|x) given by the vae encoder\n",
    "    \n",
    "    \"\"\"\n",
    "    def __init__(self, vae, mu, sigma):\n",
    "        \"\"\"\n",
    "        Constructor\n",
    "        \n",
    "        Intializes :\n",
    "          image dimensions - 4096(64*64), \n",
    "          z dimensions: size of the tensor representing the latent random variable z, \n",
    "          label dimensions: 114 labels y that correspond to an image(one hot encoded)\n",
    "          f(x) = p(x|y,z)\n",
    "          Noise variables in the model N_#\n",
    "        \"\"\"\n",
    "        self.vae = vae\n",
    "        self.image_dim = vae.image_dim\n",
    "        self.z_dim = vae.z_dim\n",
    "        # these are used for f_X\n",
    "        self.label_dims = vae.label_shape\n",
    "        \n",
    "        def f_X(Y, Z, N):\n",
    "            \"\"\"\n",
    "            Generating one hots for the factors\n",
    "            \"\"\" \n",
    "            zs = Z.cuda()\n",
    "            # convert the labels to one hot\n",
    "            ys = [torch.tensor([0])]\n",
    "            ys.append(torch.nn.functional.one_hot(torch.round(Y[0]).to(torch.long), int(self.label_dims[1])))\n",
    "            ys.append(torch.nn.functional.one_hot(torch.round(Y[1]).to(torch.long), int(self.label_dims[2])))\n",
    "            ys.append(torch.nn.functional.one_hot(torch.round(Y[2]).to(torch.long), int(self.label_dims[3])))\n",
    "            ys.append(torch.nn.functional.one_hot(torch.round(Y[3]).to(torch.long), int(self.label_dims[4])))\n",
    "            ys.append(torch.nn.functional.one_hot(torch.round(Y[4]).to(torch.long), int(self.label_dims[5])))\n",
    "            ys = torch.cat(ys).to(torch.float32).reshape(1,-1).cuda()\n",
    "            p = vae.decoder.forward(zs, ys)\n",
    "            return (N < p.cpu()).type(torch.float)\n",
    "        \n",
    "        def f_Y(N):\n",
    "            \"\"\"\n",
    "            Gumbel distribution - to model the distribution of the maximum of a number of samples\n",
    "            m = Gumbel(torch.tensor([1.0]), torch.tensor([2.0])).sample() # sample from Gumbel distribution with loc=1, scale=2\n",
    "            tensor([ 1.0124])\n",
    "            \n",
    "            https://pytorch.org/docs/stable/_modules/torch/distributions/gumbel.html\n",
    "            \"\"\"\n",
    "#             m = torch.distributions.gumbel.Gumbel(torch.zeros(N.size(0)), torch.ones(N.size(0)))\n",
    "            beta = 12\n",
    "            indices = torch.tensor(np.arange(N.size(0))).to(torch.float32)\n",
    "            smax = nn.functional.softmax(beta*N)\n",
    "            argmax_ind = torch.sum(smax*indices)\n",
    "            return argmax_ind\n",
    "        \n",
    "        def f_Z(N):\n",
    "            \"\"\"\n",
    "            Z ~ Normal(mu, sigma) \n",
    "            \"\"\"\n",
    "            return N * sigma + mu\n",
    "        \n",
    "        def model(noise): \n",
    "            \"\"\"\n",
    "            The model corresponds to a generative process\n",
    "            \n",
    "            args: noise variables\n",
    "            return: X(image), Y(labels), Z(latents) \n",
    "            \"\"\"\n",
    "            N_X = pyro.sample( 'N_X', noise['N_X'].to_event(1) )\n",
    "            # denoted using the index in the sequence \n",
    "            # that they are stored in as vae.label_names:\n",
    "            # ['shape', 'scale', 'orientation', 'posX', 'posY']\n",
    "            N_Y_1 = pyro.sample( 'N_Y_1', noise['N_Y_1'].to_event(1) )\n",
    "            N_Y_2 = pyro.sample( 'N_Y_2', noise['N_Y_2'].to_event(1) )\n",
    "            N_Y_3 = pyro.sample( 'N_Y_3', noise['N_Y_3'].to_event(1) )\n",
    "            N_Y_4 = pyro.sample( 'N_Y_4', noise['N_Y_4'].to_event(1) )\n",
    "            N_Y_5 = pyro.sample( 'N_Y_5', noise['N_Y_5'].to_event(1) )\n",
    "            \n",
    "            # Z ~ Normal(Nx_mu, Nx_sigma)              \n",
    "            N_Z = pyro.sample( 'N_Z', noise['N_Z'].to_event(1) )\n",
    "            Z = pyro.sample('Z', dist.Normal( f_Z( N_Z ), 1e-1).to_event(1) )\n",
    "            \n",
    "            # Y ~ Gumbel max of Ny             \n",
    "#             Y_1_mu = f_Y(N_Y_1)\n",
    "#             Y_2_mu = f_Y(N_Y_2)\n",
    "#             Y_3_mu = f_Y(N_Y_3)\n",
    "#             Y_4_mu = f_Y(N_Y_4)\n",
    "#             Y_5_mu = f_Y(N_Y_5)\n",
    "       \n",
    "            Y_1 = pyro.sample('Y_1', dist.Normal( f_Y(N_Y_1), 1e-2) )\n",
    "            Y_2 = pyro.sample('Y_2', dist.Normal( f_Y(N_Y_2), 1e-1) )\n",
    "            Y_3 = pyro.sample('Y_3', dist.Normal( f_Y(N_Y_3), 1e-1) )\n",
    "            Y_4 = pyro.sample('Y_4', dist.Normal( f_Y(N_Y_4), 1e-1) )\n",
    "            Y_5 = pyro.sample('Y_5', dist.Normal( f_Y(N_Y_5), 1e-1) )\n",
    "            \n",
    "#             Y_mu = (Y_1_mu, Y_2_mu, Y_3_mu, Y_4_mu, Y_5_mu)\n",
    "            \n",
    "            # X ~ p(x|y,z) = bernoulli(loc(y,z))             \n",
    "            X = pyro.sample('X', dist.Normal( f_X( (Y_1, Y_2, Y_3,Y_4,Y_5), Z, N_X ), 1e-2).to_event(1))\n",
    "            \n",
    "            # return noise and variables\n",
    "            noise_samples = N_X, (N_Y_1, N_Y_2, N_Y_3, N_Y_4, N_Y_5), N_Z\n",
    "            variable_samples = X, (Y_1, Y_2, Y_3, Y_4, Y_5), Z\n",
    "            return variable_samples, noise_samples\n",
    "        \n",
    "        self.model = model\n",
    "        #Initialize all noise variables in the model         \n",
    "        self.init_noise = {\n",
    "            'N_X'   : dist.Uniform(torch.zeros(vae.image_dim), torch.ones(vae.image_dim)),\n",
    "            'N_Z'   : dist.Normal(torch.zeros(vae.z_dim), torch.ones(vae.z_dim)),\n",
    "            'N_Y_1' : dist.Uniform(torch.zeros(self.label_dims[1]),torch.ones(self.label_dims[1])),\n",
    "            'N_Y_2' : dist.Uniform(torch.zeros(self.label_dims[2]),torch.ones(self.label_dims[2])),\n",
    "            'N_Y_3' : dist.Uniform(torch.zeros(self.label_dims[3]),torch.ones(self.label_dims[3])),\n",
    "            'N_Y_4' : dist.Uniform(torch.zeros(self.label_dims[4]),torch.ones(self.label_dims[4])),\n",
    "            'N_Y_5' : dist.Uniform(torch.zeros(self.label_dims[5]),torch.ones(self.label_dims[5]))            \n",
    "        }\n",
    "        \n",
    "    def update_noise_svi(self, obs_data, intervened_model=None):\n",
    "        \"\"\"\n",
    "        Use svi to find out the mu, sigma of the distributionsfor the \n",
    "        condition outlined in obs_data\n",
    "        \"\"\"\n",
    "        \n",
    "        def guide(noise):\n",
    "            \"\"\"\n",
    "            The guide serves as an approximation to the posterior p(z|x). \n",
    "            The guide provides a valid joint probability density over all the \n",
    "            latent random variables in the model.\n",
    "            \n",
    "            https://pyro.ai/examples/svi_part_i.html\n",
    "            \"\"\"\n",
    "            # create params with constraints\n",
    "            mu = {\n",
    "                'N_X': pyro.param('N_X_mu', 0.5*torch.ones(self.image_dim),constraint = constraints.interval(0., 1.)),\n",
    "                'N_Z': pyro.param('N_Z_mu', torch.zeros(self.z_dim),constraint = constraints.interval(-3., 3.)),\n",
    "                'N_Y_1': pyro.param('N_Y_1_mu', 0.5*torch.ones(self.label_dims[1]),constraint = constraints.interval(0., 1.)),\n",
    "                'N_Y_2': pyro.param('N_Y_2_mu', 0.5*torch.ones(self.label_dims[2]),constraint = constraints.interval(0., 1.)),\n",
    "                'N_Y_3': pyro.param('N_Y_3_mu', 0.5*torch.ones(self.label_dims[3]),constraint = constraints.interval(0., 1.)),\n",
    "                'N_Y_4': pyro.param('N_Y_4_mu', 0.5*torch.ones(self.label_dims[4]),constraint = constraints.interval(0., 1.)),\n",
    "                'N_Y_5': pyro.param('N_Y_5_mu', 0.5*torch.ones(self.label_dims[5]),constraint = constraints.interval(0., 1.))\n",
    "                }\n",
    "            sigma = {\n",
    "                'N_X': pyro.param('N_X_sigma', 0.1*torch.ones(self.image_dim),constraint = constraints.interval(0.0001, 0.5)),\n",
    "                'N_Z': pyro.param('N_Z_sigma', torch.ones(self.z_dim),constraint = constraints.interval(0.0001, 3.)),\n",
    "                'N_Y_1': pyro.param('N_Y_1_sigma', 0.1*torch.ones(self.label_dims[1]),constraint = constraints.interval(0.0001, 0.5)),\n",
    "                'N_Y_2': pyro.param('N_Y_2_sigma', 0.1*torch.ones(self.label_dims[2]),constraint = constraints.interval(0.0001, 0.5)),\n",
    "                'N_Y_3': pyro.param('N_Y_3_sigma', 0.1*torch.ones(self.label_dims[3]),constraint = constraints.interval(0.0001, 0.5)),\n",
    "                'N_Y_4': pyro.param('N_Y_4_sigma', 0.1*torch.ones(self.label_dims[4]),constraint = constraints.interval(0.0001, 0.5)),\n",
    "                'N_Y_5': pyro.param('N_Y_5_sigma', 0.1*torch.ones(self.label_dims[5]),constraint = constraints.interval(0.0001, 0.5))\n",
    "                }\n",
    "            for noise_term in noise.keys():\n",
    "                pyro.sample(noise_term, dist.Normal(mu[noise_term], sigma[noise_term]).to_event(1))\n",
    "        \n",
    "        # Condition the model\n",
    "        if intervened_model is not None:\n",
    "          obs_model = pyro.condition(intervened_model, obs_data)\n",
    "        else:\n",
    "          obs_model = pyro.condition(self.model, obs_data)\n",
    "          \n",
    "        pyro.clear_param_store()\n",
    "\n",
    "        # Once we’ve specified a guide, we’re ready to proceed to inference. \n",
    "        # Now, this an optimization problem where each iteration of training takes  \n",
    "        # a step that moves the guide closer to the exact posterior \n",
    "        \n",
    "        # https://arxiv.org/pdf/1601.00670.pdf\n",
    "        svi = SVI(\n",
    "            model= obs_model,\n",
    "            guide= guide,\n",
    "            optim= SGD({\"lr\": 1e-5, 'momentum': 0.1}),\n",
    "            loss=Trace_ELBO(retain_graph=True)\n",
    "        )\n",
    "        \n",
    "        num_steps = 1500\n",
    "        samples = defaultdict(list)\n",
    "        for t in range(num_steps):\n",
    "            loss = svi.step(self.init_noise)\n",
    "#             if t % 100 == 0:\n",
    "#                 print(\"step %d: loss of %.2f\" % (t, loss))\n",
    "            for noise in self.init_noise.keys():\n",
    "                mu = '{}_mu'.format(noise)\n",
    "                sigma = '{}_sigma'.format(noise)\n",
    "                samples[mu].append(pyro.param(mu).detach().numpy())\n",
    "                samples[sigma].append(pyro.param(sigma).detach().numpy())\n",
    "        means = {k: torch.tensor(np.array(v).mean(axis=0)) for k, v in samples.items()}\n",
    "        \n",
    "        # update the inferred noise\n",
    "        updated_noise = {\n",
    "            'N_X'  : dist.Normal(means['N_X_mu'], means['N_X_sigma']),\n",
    "            'N_Z'  : dist.Normal(means['N_Z_mu'], means['N_Z_sigma']),\n",
    "            'N_Y_1': dist.Normal(means['N_Y_1_mu'], means['N_Y_1_sigma']),\n",
    "            'N_Y_2': dist.Normal(means['N_Y_2_mu'], means['N_Y_2_sigma']),\n",
    "            'N_Y_3': dist.Normal(means['N_Y_3_mu'], means['N_Y_3_sigma']),\n",
    "            'N_Y_4': dist.Normal(means['N_Y_4_mu'], means['N_Y_4_sigma']),\n",
    "            'N_Y_5': dist.Normal(means['N_Y_5_mu'], means['N_Y_5_sigma']),\n",
    "        }\n",
    "        return updated_noise\n",
    "        \n",
    "    def __call__(self):\n",
    "        return self.model(self.init_noise)"
   ]
  },
  {
   "cell_type": "markdown",
   "metadata": {
    "id": "jjowqMwnS-KK"
   },
   "source": [
    "## Sanity Check 1: Making sure VAE works"
   ]
  },
  {
   "cell_type": "code",
   "execution_count": null,
   "metadata": {
    "colab": {
     "base_uri": "https://localhost:8080/",
     "height": 265
    },
    "id": "5HgNcmakSY4c",
    "outputId": "a839af97-c934-4b71-92f7-915a11e0f16d"
   },
   "outputs": [
    {
     "name": "stdout",
     "output_type": "stream",
     "text": [
      "tensor([[ 0.,  1.,  0.,  6., 28.,  0.]], device='cuda:0')\n"
     ]
    },
    {
     "data": {
      "image/png": "[encoded data removed]",
      "text/plain": [
       "<Figure size 432x288 with 1 Axes>"
      ]
     },
     "metadata": {
      "needs_background": "light",
      "tags": []
     },
     "output_type": "display_data"
    }
   ],
   "source": [
    "# Generate an instance of dSprites image \n",
    "ox, y = get_specific_data(cuda=True)\n",
    "plot_image(ox)\n",
    "# Pass it through VAE to get q(z|x) => N(mu, sigma)\n",
    "mu, sigma = vae.encoder_z.forward(ox,vae.remap_y(y))\n",
    "# Feed these params to our custom SCM\n",
    "scm = SCM(vae, mu.cpu(), sigma.cpu())\n",
    "print(y)\n",
    "# Check for reconstruction"
   ]
  },
  {
   "cell_type": "markdown",
   "metadata": {
    "id": "PVZjiIg-TIxj"
   },
   "source": [
    "## Sanity Check 2: To check if the decoder is able to generate the image if the latents are changed:\n",
    "To achieve this we manually change the labels in the code and run it through the decoder and check for reconstruction"
   ]
  },
  {
   "cell_type": "code",
   "execution_count": null,
   "metadata": {
    "colab": {
     "base_uri": "https://localhost:8080/",
     "height": 427
    },
    "id": "7hL_YHR7TITr",
    "outputId": "539636cc-9e2b-49e1-cf6e-9b0124b8ddf3"
   },
   "outputs": [
    {
     "name": "stdout",
     "output_type": "stream",
     "text": [
      "top:  tensor([[ 0.,  2.,  3., 15., 26.,  2.]], device='cuda:0')\n",
      "bottom:  tensor([[ 0.,  1.,  3., 15., 26.,  2.]], device='cuda:0')\n"
     ]
    },
    {
     "data": {
      "image/png": "[encoded data removed]",
      "text/plain": [
       "<Figure size 432x288 with 2 Axes>"
      ]
     },
     "metadata": {
      "needs_background": "light",
      "tags": []
     },
     "output_type": "display_data"
    },
    {
     "data": {
      "image/png": "[encoded data removed]",
      "text/plain": [
       "<Figure size 432x288 with 2 Axes>"
      ]
     },
     "metadata": {
      "needs_background": "light",
      "tags": []
     },
     "output_type": "display_data"
    }
   ],
   "source": [
    "original, y_original = get_specific_data(cuda=True)\n",
    "print('top: ',y_original)\n",
    "mu, sigma = vae.encoder_z.forward(original,vae.remap_y(y_original))\n",
    "B = 100\n",
    "zs = torch.cat([dist.Normal(mu.cpu(), sigma.cpu()).sample() for a in range(B)], 0)\n",
    "ys = torch.cat([vae.remap_y(y_original) for a in range(B)], 0)\n",
    "rs = vae.decoder.forward(zs.cuda(), ys).detach()\n",
    "compare_to_density(original,rs)\n",
    "\n",
    "y_new = torch.tensor(y_original)\n",
    "y_new[0,1] = (y_original[0,1] + 1) % 2\n",
    "print('bottom: ', y_new)\n",
    "zs = torch.cat([dist.Normal(mu.cpu(), sigma.cpu()).sample() for a in range(B)], 0)\n",
    "ys = torch.cat([vae.remap_y(y_new) for a in range(B)], 0)\n",
    "rs = vae.decoder.forward(zs.cuda(), ys).detach()\n",
    "compare_to_density(original,rs)"
   ]
  },
  {
   "cell_type": "markdown",
   "metadata": {
    "id": "kP-yMLE7Tv0e"
   },
   "source": [
    "### Conditioning with SCM VAE\n",
    "\n",
    "To validate if causal inference of conditioning is properly working, we try to generate reconstruction of image by using SCM and object of SCM class. \n",
    "\n",
    "First random image is generated and its label is captured in dictionary which is passed to trained VAE object to get its mean and variance which is then used to create SCM class.\n",
    "\n",
    "Then the noise of the input image is captured by passing the above dictionary and a conditioned model is created by using the object of SCM class.\n",
    "\n",
    "The output noise is passed to conditioned model class to regenrate new images. Reconstruction is sampled 1000 times and displayed.\n"
   ]
  },
  {
   "cell_type": "code",
   "execution_count": null,
   "metadata": {
    "colab": {
     "base_uri": "https://localhost:8080/"
    },
    "id": "MF6WdAToBA5q",
    "outputId": "aa3d873b-0187-4199-9a70-fc3bbb86e65d"
   },
   "outputs": [
    {
     "name": "stdout",
     "output_type": "stream",
     "text": [
      "{'Y_1': tensor(1.), 'Y_2': tensor(0.), 'Y_3': tensor(6.), 'Y_4': tensor(28.), 'Y_5': tensor(0.)}\n",
      "{'Y_1': tensor(1.), 'Y_2': tensor(0.), 'Y_3': tensor(6.), 'Y_4': tensor(28.), 'Y_5': tensor(0.7500)}\n"
     ]
    }
   ],
   "source": [
    "cond_data = {}\n",
    "for i in range(1, 6):\n",
    "    cond_data[\"Y_{}\".format(i)] = torch.tensor(y[0,i].cpu()).to(torch.float32)\n",
    "print(cond_data)\n",
    "# \"Y_1\": torch.tensor(2.),\n",
    "    # \"Y_2\": torch.tensor(5.),\n",
    "    # \"Y_3\": torch.tensor(2.),\n",
    "    # \"Y_4\": torch.tensor(5.),\n",
    "    # \"Y_5\": torch.tensor(25.),\n",
    "\n",
    "# cond_data['Y_1'] = torch.tensor(2.)\n",
    "# cond_data['Y_4'] =torch.tensor(.75)\n",
    "cond_data['Y_5'] =torch.tensor(.75)\n",
    "# cond_data['Y_2'] = torch.tensor(5.)\n",
    "conditioned_model = pyro.condition(scm.model, data=cond_data)\n",
    "cond_noise = scm.update_noise_svi(cond_data)\n",
    "print(cond_data)"
   ]
  },
  {
   "cell_type": "code",
   "execution_count": null,
   "metadata": {
    "colab": {
     "base_uri": "https://localhost:8080/"
    },
    "id": "XXF15WcYQvMq",
    "outputId": "4581f8c0-5095-4011-9b38-40e711350dba"
   },
   "outputs": [
    {
     "data": {
      "text/plain": [
       "tensor(0.)"
      ]
     },
     "execution_count": 90,
     "metadata": {
      "tags": []
     },
     "output_type": "execute_result"
    }
   ],
   "source": [
    "cond_data['Y_2']"
   ]
  },
  {
   "cell_type": "code",
   "execution_count": null,
   "metadata": {
    "colab": {
     "base_uri": "https://localhost:8080/",
     "height": 245
    },
    "id": "t_0xV8ldT10-",
    "outputId": "871bac86-2cd8-4cdd-ffa5-335e122422ab"
   },
   "outputs": [
    {
     "data": {
      "image/png": "[encoded data removed]",
      "text/plain": [
       "<Figure size 432x288 with 2 Axes>"
      ]
     },
     "metadata": {
      "needs_background": "light",
      "tags": []
     },
     "output_type": "display_data"
    }
   ],
   "source": [
    "rxs = []\n",
    "for i in range(100):\n",
    "     (rx,ry,_), _ = scm.model(cond_noise)\n",
    "     rxs.append(rx)\n",
    "compare_to_density(ox, torch.cat(rxs))\n",
    "_ =plt.suptitle(\"SCM Conditioned on Original\", fontsize=18, fontstyle='italic')"
   ]
  },
  {
   "cell_type": "code",
   "execution_count": null,
   "metadata": {
    "colab": {
     "base_uri": "https://localhost:8080/",
     "height": 245
    },
    "id": "ZYIrrWb1ayn8",
    "outputId": "ffed80d2-0697-4bc2-c57c-f1675b453417"
   },
   "outputs": [
    {
     "data": {
      "image/png": "[encoded data removed]",
      "text/plain": [
       "<Figure size 432x288 with 2 Axes>"
      ]
     },
     "metadata": {
      "needs_background": "light",
      "tags": []
     },
     "output_type": "display_data"
    }
   ],
   "source": [
    "rxs = []\n",
    "for i in range(100):\n",
    "     (rx,ry,_), _ = conditioned_model(scm.init_noise)\n",
    "     rxs.append(rx)\n",
    "compare_to_density(ox, torch.cat(rxs))\n",
    "_ =plt.suptitle(\"SCM Conditioned on Original\", fontsize=18, fontstyle='italic')"
   ]
  },
  {
   "cell_type": "markdown",
   "metadata": {
    "id": "uBqSMcUIURnm"
   },
   "source": [
    "## Counterfactuals and Interventions\n",
    "\n",
    "Here we tried to capture the effect of couterfactual and intervention on the dsprite image dataset by making use of endogenous and exogenous variables using an SCM class object.\n",
    "\n",
    "We applied counterfactual interventions on the input image in 3 steps -\n",
    "\n",
    "- Abduction Step:\n",
    "  We find mean and variance by passing image and its label to trained VAE to create object of SCM class. Thereafter label dictionary is used to capture the noise of the input image.\n",
    "\n",
    "- Action Step:\n",
    "Here we intervene on SCM object as per out requirement of condition we want to intervene by using pyro.do\n",
    "\n",
    "- Prediction Step:\n",
    "Lastly we sample the image 1000 times passing the input object noise to the intervened model and generating the output image. We store these 1000 image in a list and use it for reconstruction\n",
    "\n",
    "\n",
    "![](https://drive.google.com/uc?export=view&id=1eVN8MAXAxDlrd6lutsP2YjAMdzCR6rxb)\n",
    "\n"
   ]
  },
  {
   "cell_type": "code",
   "execution_count": null,
   "metadata": {
    "id": "idv2fnVeUHX_"
   },
   "outputs": [],
   "source": [
    "# intervening on Shape, posX and PosY \n",
    "intervened_model = pyro.do(scm.model, data={\n",
    "    \"Y_1\": torch.tensor(0.),\n",
    "    \"Y_2\": torch.tensor(0.67),\n",
    "   \"Y_5\": torch.tensor(0.09),\n",
    "})\n",
    "noise_data = {}\n",
    "for term, d in cond_noise.items():\n",
    "  noise_data[term] = d.loc\n",
    "intervened_noise = scm.update_noise_svi(noise_data, intervened_model)"
   ]
  },
  {
   "cell_type": "code",
   "execution_count": null,
   "metadata": {
    "colab": {
     "base_uri": "https://localhost:8080/",
     "height": 222
    },
    "id": "0vTQfErJUOQ1",
    "outputId": "f1703361-30e8-43a8-e2d8-abab164bc761"
   },
   "outputs": [
    {
     "name": "stdout",
     "output_type": "stream",
     "text": [
      "(tensor(0.), tensor(0.6700), tensor(18.8828), tensor(16.8866), tensor(0.0900))\n"
     ]
    },
    {
     "data": {
      "image/png": "[encoded data removed]",
      "text/plain": [
       "<Figure size 432x288 with 2 Axes>"
      ]
     },
     "metadata": {
      "needs_background": "light",
      "tags": []
     },
     "output_type": "display_data"
    }
   ],
   "source": [
    "(rx1,ry,_), _ = intervened_model(scm.init_noise)\n",
    "compare_to_density(ox, rx1)\n",
    "print(ry)"
   ]
  },
  {
   "cell_type": "code",
   "execution_count": null,
   "metadata": {
    "colab": {
     "base_uri": "https://localhost:8080/",
     "height": 245
    },
    "id": "PGvh-50LUk16",
    "outputId": "8286ac1e-a0d3-4835-a448-82d0a6f11e90"
   },
   "outputs": [
    {
     "data": {
      "image/png": "[encoded data removed]",
      "text/plain": [
       "<Figure size 432x288 with 2 Axes>"
      ]
     },
     "metadata": {
      "needs_background": "light",
      "tags": []
     },
     "output_type": "display_data"
    }
   ],
   "source": [
    "rxs = []\n",
    "for i in range(100):\n",
    "     (cfo1,ny1,nz1), _= intervened_model(scm.init_noise)\n",
    "     rxs.append(cfo1)\n",
    "compare_to_density(ox, torch.cat(rxs))\n",
    "_ =plt.suptitle(\"SCM intervened on shape and scale with scm.init_noise\", fontsize=18, fontstyle='italic')"
   ]
  },
  {
   "cell_type": "code",
   "execution_count": null,
   "metadata": {
    "id": "cAjJ7sVXX5_l"
   },
   "outputs": [],
   "source": []
  },
  {
   "cell_type": "code",
   "execution_count": null,
   "metadata": {
    "colab": {
     "base_uri": "https://localhost:8080/",
     "height": 245
    },
    "id": "mElevsMhtgA8",
    "outputId": "af9717ac-42c0-434f-e21d-f0d58f7f8da2"
   },
   "outputs": [
    {
     "data": {
      "image/png": "[encoded data removed]",
      "text/plain": [
       "<Figure size 432x288 with 2 Axes>"
      ]
     },
     "metadata": {
      "needs_background": "light",
      "tags": []
     },
     "output_type": "display_data"
    }
   ],
   "source": [
    "#  with intervened_noise\n",
    "rxs = []\n",
    "for i in range(100):\n",
    "     (cfo1,ny1,nz1), _= intervened_model(intervened_noise)\n",
    "     rxs.append(cfo1)\n",
    "compare_to_density(ox, torch.cat(rxs))\n",
    "_ =plt.suptitle(\"SCM intervened on shape and scale and position_x\", fontsize=18, fontstyle='italic')"
   ]
  },
  {
   "cell_type": "code",
   "execution_count": null,
   "metadata": {
    "colab": {
     "base_uri": "https://localhost:8080/",
     "height": 245
    },
    "id": "-JU9IsPiaYS3",
    "outputId": "242732ab-0a66-45af-bc3a-6b6c98981b77"
   },
   "outputs": [
    {
     "data": {
      "image/png": "[encoded data removed]",
      "text/plain": [
       "<Figure size 432x288 with 2 Axes>"
      ]
     },
     "metadata": {
      "needs_background": "light",
      "tags": []
     },
     "output_type": "display_data"
    }
   ],
   "source": [
    "rxs = []\n",
    "for i in range(100):\n",
    "     (cfo1,ny1,nz1), _= intervened_model(cond_noise)\n",
    "     rxs.append(cfo1)\n",
    "compare_to_density(ox, torch.cat(rxs))\n",
    "_ =plt.suptitle(\"SCM intervened on shape and scale with cond_noise\", fontsize=18, fontstyle='italic')"
   ]
  },
  {
   "cell_type": "markdown",
   "metadata": {
    "id": "I7YITBRMwVnQ"
   },
   "source": [
    "## Applications of CVAE:\n",
    "\n",
    "- Deepfakes - Counterfactual and Interventions is used to create fake images of human faces\n",
    "- Music VAE - Produces synthetic video"
   ]
  }
 ],
 "metadata": {
  "accelerator": "GPU",
  "colab": {
   "collapsed_sections": [],
   "machine_shape": "hm",
   "name": "causal_vae_dsprites.ipynb",
   "provenance": []
  },
  "kernelspec": {
   "display_name": "Python 3",
   "language": "python",
   "name": "python3"
  },
  "language_info": {
   "codemirror_mode": {
    "name": "ipython",
    "version": 3
   },
   "file_extension": ".py",
   "mimetype": "text/x-python",
   "name": "python",
   "nbconvert_exporter": "python",
   "pygments_lexer": "ipython3",
   "version": "3.7.4"
  },
  "widgets": {
   "application/vnd.jupyter.widget-state+json": {
    "026a208537e34f09a62f5ad3afbfe118": {
     "model_module": "@jupyter-widgets/output",
     "model_name": "OutputModel",
     "state": {
      "_dom_classes": [],
      "_model_module": "@jupyter-widgets/output",
      "_model_module_version": "1.0.0",
      "_model_name": "OutputModel",
      "_view_count": null,
      "_view_module": "@jupyter-widgets/output",
      "_view_module_version": "1.0.0",
      "_view_name": "OutputView",
      "layout": "IPY_MODEL_8f04fa51c4ea437c8cd9b14fd345ae82",
      "msg_id": "",
      "outputs": [
       {
        "image/png": "iVBORw0KGgoAAAANSUhEUgAAAOcAAADnCAYAAADl9EEgAAAABHNCSVQICAgIfAhkiAAAAAlwSFlzAAALEgAACxIB0t1+/AAAADh0RVh0U29mdHdhcmUAbWF0cGxvdGxpYiB2ZXJzaW9uMy4yLjIsIGh0dHA6Ly9tYXRwbG90bGliLm9yZy+WH4yJAAAC4klEQVR4nO3dMW4DMQwAQdO4/3+Z6VwdDKQItLFnSqlhsyCgRrO7D6DneXoA4J44IUqcECVOiBInRF3vLmfGUy78sd2du3ObE6LECVHihChxQpQ4IUqcECVOiBInRIkTosQJUeKEKHFClDghSpwQJU6IEidEiROixAlR4oQocUKUOCFKnBAlTogSJ0SJE6LECVHihChxQpQ4IUqcECVOiBInRIkTosQJUeKEKHFC1HV6gN/a3dMjvMzM6RH4YDYnRIkTosQJUeKEKHFClDghSpwQJU6IEidEiROixAlR4oQocUKUOCFKnBAlTogSJ0SJE6LECVHihChxQpQ4IUqcECVOiBInRIkTosQJUeKEKHFClDghSpwQJU6IEidEiROi/t23875651vYnBAlTogSJ0SJE6LECVHihChxQpQ4IUqcECVOiBInRIkTosQJUeKEKHFClDghSpwQJU6IEidEiROixAlR4oQocUKUOCFKnBAlTogSJ0SJE6LECVHihChxQpQ4IUqcECVOiBInRIkTosQJUeKEKHFClDghSpwQJU6IEidEiROixAlR4oQocUKUOCFKnBAlTogSJ0SJE6LECVHihChxQpQ4IUqcECVOiBInRIkTosQJUeKEKHFClDghSpwQJU6IEidEiROixAlR4oQocUKUOCFKnBAlTogSJ0SJE6LECVHihChxQpQ4IUqcECVOiBInRIkTosQJUeKEKHFClDghSpwQJU6IEidEiROixAlR4oQocUKUOCFKnBAlTogSJ0SJE6LECVHihChxQpQ4IUqcECVOiBInRIkTosQJUeKEKHFClDghSpwQJU6IEidEiROixAlR4oQocUKUOCFKnBAlTogSJ0SJE6LECVHihChxQpQ4IUqcECVOiBInRIkTosQJUeKEKHFClDghSpwQJU6IEidEiROixAlR4oQocUKUOCFKnBA1u3t6BuCGzQlR4oQocUKUOCFKnBAlToj6AZUlDtC8HnrcAAAAAElFTkSuQmCC\n",
        "metadata": {
         "needs_background": "light",
         "tags": []
        },
        "output_type": "display_data",
        "text/plain": "<Figure size 432x288 with 1 Axes>"
       }
      ]
     }
    },
    "10b85cb457a2489cb6da52c0009ff28a": {
     "model_module": "@jupyter-widgets/base",
     "model_name": "LayoutModel",
     "state": {
      "_model_module": "@jupyter-widgets/base",
      "_model_module_version": "1.2.0",
      "_model_name": "LayoutModel",
      "_view_count": null,
      "_view_module": "@jupyter-widgets/base",
      "_view_module_version": "1.2.0",
      "_view_name": "LayoutView",
      "align_content": null,
      "align_items": null,
      "align_self": null,
      "border": null,
      "bottom": null,
      "display": null,
      "flex": null,
      "flex_flow": null,
      "grid_area": null,
      "grid_auto_columns": null,
      "grid_auto_flow": null,
      "grid_auto_rows": null,
      "grid_column": null,
      "grid_gap": null,
      "grid_row": null,
      "grid_template_areas": null,
      "grid_template_columns": null,
      "grid_template_rows": null,
      "height": null,
      "justify_content": null,
      "justify_items": null,
      "left": null,
      "margin": null,
      "max_height": null,
      "max_width": null,
      "min_height": null,
      "min_width": null,
      "object_fit": null,
      "object_position": null,
      "order": null,
      "overflow": null,
      "overflow_x": null,
      "overflow_y": null,
      "padding": null,
      "right": null,
      "top": null,
      "visibility": null,
      "width": null
     }
    },
    "12711f2e7ce949d0830832d28704a186": {
     "model_module": "@jupyter-widgets/output",
     "model_name": "OutputModel",
     "state": {
      "_dom_classes": [],
      "_model_module": "@jupyter-widgets/output",
      "_model_module_version": "1.0.0",
      "_model_name": "OutputModel",
      "_view_count": null,
      "_view_module": "@jupyter-widgets/output",
      "_view_module_version": "1.0.0",
      "_view_name": "OutputView",
      "layout": "IPY_MODEL_44356efae33a4b6792049d8147327e83",
      "msg_id": "",
      "outputs": [
       {
        "image/png": "iVBORw0KGgoAAAANSUhEUgAAAV0AAACmCAYAAAB5qlzZAAAABHNCSVQICAgIfAhkiAAAAAlwSFlzAAALEgAACxIB0t1+/AAAADh0RVh0U29mdHdhcmUAbWF0cGxvdGxpYiB2ZXJzaW9uMy4yLjIsIGh0dHA6Ly9tYXRwbG90bGliLm9yZy+WH4yJAAAC8UlEQVR4nO3bwU7DMBQAQYz6/79sTpWKRGkryKZxZq6AyOFp82rDmHN+AND43PsBAM5EdAFCogsQEl2AkOgChEQXIHT57YtjDH9PxqbmnGOP32u22dq92bbpAoREFyAkugAh0QUIiS5ASHQBQqILEBJdgJDoAoREFyAkugAh0QUIiS5ASHQBQqILEBJdgJDoAoREFyAkugAh0QUIiS5ASHQBQqILEBJdgJDoAoREFyAkugAh0QUIiS5ASHQBQqILEBJdgJDoAoREFyAkugAh0QUIiS5ASHQBQqILEBJdgJDoAoREFyAkugAh0QUIiS5ASHQBQqILEBJdgJDoAoREFyAkugAh0QUIiS5ASHQBQqILELrs/QA8b8750vePMTZ6EtjOM3N+5Nm26QKERBcg5HjhAF49VoCjOONs23QBQjbdN/bXLeD254988cB6zrjhXtl0AUKiCxByvPBmzvyxi7X952wf+ejMpgsQsum+CRsuqzLb39l0AUI23R1tvQEc7ayLdZjt+2y6ACHRBQiJLkBIdAFCLtJ24JKBVZntx2y6ACHRBQiJLkBIdAFCLtIWssIlA/xkpdm26QKEbLoHt9IGALdWnW2bLkBIdAFCjhcOatWPXrD6bNt0AUI23R1c3+TP/p/66m9+1mG2H7PpAoRsujs641ueczDb99l0AUKiCxASXYCQ6AKERBcgJLoAIdEFCIkuQEh0AUKiCxASXYCQ6AKERBcgJLoAIdEFCIkuQEh0AUKiCxASXYCQ6AKERBcgJLoAIdEFCIkuQEh0AUKiCxASXYCQ6AKERBcgJLoAIdEFCIkuQEh0AUKiCxASXYCQ6AKERBcgJLoAIdEFCIkuQEh0AUKiCxASXYCQ6AKERBcgJLoAIdEFCIkuQEh0AUKiCxASXYCQ6AKERBcgJLoAIdEFCIkuQEh0AUKiCxASXYCQ6AKERBcgJLoAIdEFCIkuQGjMOfd+BoDTsOkChEQXICS6ACHRBQiJLkBIdAFCX0SfRWURORVZAAAAAElFTkSuQmCC\n",
        "metadata": {
         "needs_background": "light",
         "tags": []
        },
        "output_type": "display_data",
        "text/plain": "<Figure size 432x288 with 2 Axes>"
       }
      ]
     }
    },
    "12724de4f0624e83adf7817b56349748": {
     "model_module": "@jupyter-widgets/base",
     "model_name": "LayoutModel",
     "state": {
      "_model_module": "@jupyter-widgets/base",
      "_model_module_version": "1.2.0",
      "_model_name": "LayoutModel",
      "_view_count": null,
      "_view_module": "@jupyter-widgets/base",
      "_view_module_version": "1.2.0",
      "_view_name": "LayoutView",
      "align_content": null,
      "align_items": null,
      "align_self": null,
      "border": null,
      "bottom": null,
      "display": null,
      "flex": null,
      "flex_flow": null,
      "grid_area": null,
      "grid_auto_columns": null,
      "grid_auto_flow": null,
      "grid_auto_rows": null,
      "grid_column": null,
      "grid_gap": null,
      "grid_row": null,
      "grid_template_areas": null,
      "grid_template_columns": null,
      "grid_template_rows": null,
      "height": null,
      "justify_content": null,
      "justify_items": null,
      "left": null,
      "margin": null,
      "max_height": null,
      "max_width": null,
      "min_height": null,
      "min_width": null,
      "object_fit": null,
      "object_position": null,
      "order": null,
      "overflow": null,
      "overflow_x": null,
      "overflow_y": null,
      "padding": null,
      "right": null,
      "top": null,
      "visibility": null,
      "width": null
     }
    },
    "128246faf62d4237b2a3b88450c760c0": {
     "model_module": "@jupyter-widgets/controls",
     "model_name": "SliderStyleModel",
     "state": {
      "_model_module": "@jupyter-widgets/controls",
      "_model_module_version": "1.5.0",
      "_model_name": "SliderStyleModel",
      "_view_count": null,
      "_view_module": "@jupyter-widgets/base",
      "_view_module_version": "1.2.0",
      "_view_name": "StyleView",
      "description_width": "",
      "handle_color": null
     }
    },
    "32550cb7a1884ed7a12a6d20109cad1e": {
     "model_module": "@jupyter-widgets/controls",
     "model_name": "IntSliderModel",
     "state": {
      "_dom_classes": [],
      "_model_module": "@jupyter-widgets/controls",
      "_model_module_version": "1.5.0",
      "_model_name": "IntSliderModel",
      "_view_count": null,
      "_view_module": "@jupyter-widgets/controls",
      "_view_module_version": "1.5.0",
      "_view_name": "IntSliderView",
      "continuous_update": true,
      "description": "scale",
      "description_tooltip": null,
      "disabled": false,
      "layout": "IPY_MODEL_d8e5c7b3970f4cc68472858802960325",
      "max": 5,
      "min": 0,
      "orientation": "horizontal",
      "readout": true,
      "readout_format": "d",
      "step": 1,
      "style": "IPY_MODEL_dc1a00465f1849308f05f4d5c924d042",
      "value": 0
     }
    },
    "44356efae33a4b6792049d8147327e83": {
     "model_module": "@jupyter-widgets/base",
     "model_name": "LayoutModel",
     "state": {
      "_model_module": "@jupyter-widgets/base",
      "_model_module_version": "1.2.0",
      "_model_name": "LayoutModel",
      "_view_count": null,
      "_view_module": "@jupyter-widgets/base",
      "_view_module_version": "1.2.0",
      "_view_name": "LayoutView",
      "align_content": null,
      "align_items": null,
      "align_self": null,
      "border": null,
      "bottom": null,
      "display": null,
      "flex": null,
      "flex_flow": null,
      "grid_area": null,
      "grid_auto_columns": null,
      "grid_auto_flow": null,
      "grid_auto_rows": null,
      "grid_column": null,
      "grid_gap": null,
      "grid_row": null,
      "grid_template_areas": null,
      "grid_template_columns": null,
      "grid_template_rows": null,
      "height": null,
      "justify_content": null,
      "justify_items": null,
      "left": null,
      "margin": null,
      "max_height": null,
      "max_width": null,
      "min_height": null,
      "min_width": null,
      "object_fit": null,
      "object_position": null,
      "order": null,
      "overflow": null,
      "overflow_x": null,
      "overflow_y": null,
      "padding": null,
      "right": null,
      "top": null,
      "visibility": null,
      "width": null
     }
    },
    "4955e6adbfd342409b2ffd8acdea92ee": {
     "model_module": "@jupyter-widgets/controls",
     "model_name": "VBoxModel",
     "state": {
      "_dom_classes": [
       "widget-interact"
      ],
      "_model_module": "@jupyter-widgets/controls",
      "_model_module_version": "1.5.0",
      "_model_name": "VBoxModel",
      "_view_count": null,
      "_view_module": "@jupyter-widgets/controls",
      "_view_module_version": "1.5.0",
      "_view_name": "VBoxView",
      "box_style": "",
      "children": [
       "IPY_MODEL_fef4468a595d4fcc87591546a8043fd7",
       "IPY_MODEL_12711f2e7ce949d0830832d28704a186"
      ],
      "layout": "IPY_MODEL_ea79916795b44d5784fc213a36c66874"
     }
    },
    "49754447cc9344deb0de0a844482359e": {
     "model_module": "@jupyter-widgets/controls",
     "model_name": "SliderStyleModel",
     "state": {
      "_model_module": "@jupyter-widgets/controls",
      "_model_module_version": "1.5.0",
      "_model_name": "SliderStyleModel",
      "_view_count": null,
      "_view_module": "@jupyter-widgets/base",
      "_view_module_version": "1.2.0",
      "_view_name": "StyleView",
      "description_width": "",
      "handle_color": null
     }
    },
    "5b12ca31f05d4e98a5db959e03870570": {
     "model_module": "@jupyter-widgets/base",
     "model_name": "LayoutModel",
     "state": {
      "_model_module": "@jupyter-widgets/base",
      "_model_module_version": "1.2.0",
      "_model_name": "LayoutModel",
      "_view_count": null,
      "_view_module": "@jupyter-widgets/base",
      "_view_module_version": "1.2.0",
      "_view_name": "LayoutView",
      "align_content": null,
      "align_items": null,
      "align_self": null,
      "border": null,
      "bottom": null,
      "display": null,
      "flex": null,
      "flex_flow": null,
      "grid_area": null,
      "grid_auto_columns": null,
      "grid_auto_flow": null,
      "grid_auto_rows": null,
      "grid_column": null,
      "grid_gap": null,
      "grid_row": null,
      "grid_template_areas": null,
      "grid_template_columns": null,
      "grid_template_rows": null,
      "height": null,
      "justify_content": null,
      "justify_items": null,
      "left": null,
      "margin": null,
      "max_height": null,
      "max_width": null,
      "min_height": null,
      "min_width": null,
      "object_fit": null,
      "object_position": null,
      "order": null,
      "overflow": null,
      "overflow_x": null,
      "overflow_y": null,
      "padding": null,
      "right": null,
      "top": null,
      "visibility": null,
      "width": null
     }
    },
    "6f740f26fbd74dd1830742c3008860fe": {
     "model_module": "@jupyter-widgets/base",
     "model_name": "LayoutModel",
     "state": {
      "_model_module": "@jupyter-widgets/base",
      "_model_module_version": "1.2.0",
      "_model_name": "LayoutModel",
      "_view_count": null,
      "_view_module": "@jupyter-widgets/base",
      "_view_module_version": "1.2.0",
      "_view_name": "LayoutView",
      "align_content": null,
      "align_items": null,
      "align_self": null,
      "border": null,
      "bottom": null,
      "display": null,
      "flex": null,
      "flex_flow": null,
      "grid_area": null,
      "grid_auto_columns": null,
      "grid_auto_flow": null,
      "grid_auto_rows": null,
      "grid_column": null,
      "grid_gap": null,
      "grid_row": null,
      "grid_template_areas": null,
      "grid_template_columns": null,
      "grid_template_rows": null,
      "height": null,
      "justify_content": null,
      "justify_items": null,
      "left": null,
      "margin": null,
      "max_height": null,
      "max_width": null,
      "min_height": null,
      "min_width": null,
      "object_fit": null,
      "object_position": null,
      "order": null,
      "overflow": null,
      "overflow_x": null,
      "overflow_y": null,
      "padding": null,
      "right": null,
      "top": null,
      "visibility": null,
      "width": null
     }
    },
    "7f383cc53cb44c2a8b015f0d6634c8af": {
     "model_module": "@jupyter-widgets/controls",
     "model_name": "IntSliderModel",
     "state": {
      "_dom_classes": [],
      "_model_module": "@jupyter-widgets/controls",
      "_model_module_version": "1.5.0",
      "_model_name": "IntSliderModel",
      "_view_count": null,
      "_view_module": "@jupyter-widgets/controls",
      "_view_module_version": "1.5.0",
      "_view_name": "IntSliderView",
      "continuous_update": true,
      "description": "orient",
      "description_tooltip": null,
      "disabled": false,
      "layout": "IPY_MODEL_5b12ca31f05d4e98a5db959e03870570",
      "max": 39,
      "min": 0,
      "orientation": "horizontal",
      "readout": true,
      "readout_format": "d",
      "step": 1,
      "style": "IPY_MODEL_128246faf62d4237b2a3b88450c760c0",
      "value": 0
     }
    },
    "8ab0f1b291b04c47bbddf995d254d7cb": {
     "model_module": "@jupyter-widgets/controls",
     "model_name": "IntSliderModel",
     "state": {
      "_dom_classes": [],
      "_model_module": "@jupyter-widgets/controls",
      "_model_module_version": "1.5.0",
      "_model_name": "IntSliderModel",
      "_view_count": null,
      "_view_module": "@jupyter-widgets/controls",
      "_view_module_version": "1.5.0",
      "_view_name": "IntSliderView",
      "continuous_update": true,
      "description": "posX",
      "description_tooltip": null,
      "disabled": false,
      "layout": "IPY_MODEL_6f740f26fbd74dd1830742c3008860fe",
      "max": 31,
      "min": 0,
      "orientation": "horizontal",
      "readout": true,
      "readout_format": "d",
      "step": 1,
      "style": "IPY_MODEL_49754447cc9344deb0de0a844482359e",
      "value": 0
     }
    },
    "8f04fa51c4ea437c8cd9b14fd345ae82": {
     "model_module": "@jupyter-widgets/base",
     "model_name": "LayoutModel",
     "state": {
      "_model_module": "@jupyter-widgets/base",
      "_model_module_version": "1.2.0",
      "_model_name": "LayoutModel",
      "_view_count": null,
      "_view_module": "@jupyter-widgets/base",
      "_view_module_version": "1.2.0",
      "_view_name": "LayoutView",
      "align_content": null,
      "align_items": null,
      "align_self": null,
      "border": null,
      "bottom": null,
      "display": null,
      "flex": null,
      "flex_flow": null,
      "grid_area": null,
      "grid_auto_columns": null,
      "grid_auto_flow": null,
      "grid_auto_rows": null,
      "grid_column": null,
      "grid_gap": null,
      "grid_row": null,
      "grid_template_areas": null,
      "grid_template_columns": null,
      "grid_template_rows": null,
      "height": null,
      "justify_content": null,
      "justify_items": null,
      "left": null,
      "margin": null,
      "max_height": null,
      "max_width": null,
      "min_height": null,
      "min_width": null,
      "object_fit": null,
      "object_position": null,
      "order": null,
      "overflow": null,
      "overflow_x": null,
      "overflow_y": null,
      "padding": null,
      "right": null,
      "top": null,
      "visibility": null,
      "width": null
     }
    },
    "9d7ad9c83cb2470b9607836dddfc776c": {
     "model_module": "@jupyter-widgets/controls",
     "model_name": "SliderStyleModel",
     "state": {
      "_model_module": "@jupyter-widgets/controls",
      "_model_module_version": "1.5.0",
      "_model_name": "SliderStyleModel",
      "_view_count": null,
      "_view_module": "@jupyter-widgets/base",
      "_view_module_version": "1.2.0",
      "_view_name": "StyleView",
      "description_width": "",
      "handle_color": null
     }
    },
    "bcc97dc766224b9babceea22f82c8f02": {
     "model_module": "@jupyter-widgets/controls",
     "model_name": "SliderStyleModel",
     "state": {
      "_model_module": "@jupyter-widgets/controls",
      "_model_module_version": "1.5.0",
      "_model_name": "SliderStyleModel",
      "_view_count": null,
      "_view_module": "@jupyter-widgets/base",
      "_view_module_version": "1.2.0",
      "_view_name": "StyleView",
      "description_width": "",
      "handle_color": null
     }
    },
    "c9b3e36b2d7b42a1bdbe98d0a20acd38": {
     "model_module": "@jupyter-widgets/controls",
     "model_name": "IntSliderModel",
     "state": {
      "_dom_classes": [],
      "_model_module": "@jupyter-widgets/controls",
      "_model_module_version": "1.5.0",
      "_model_name": "IntSliderModel",
      "_view_count": null,
      "_view_module": "@jupyter-widgets/controls",
      "_view_module_version": "1.5.0",
      "_view_name": "IntSliderView",
      "continuous_update": true,
      "description": "posY",
      "description_tooltip": null,
      "disabled": false,
      "layout": "IPY_MODEL_d2330caaed8d4aecafa4dd3be4b43955",
      "max": 31,
      "min": 0,
      "orientation": "horizontal",
      "readout": true,
      "readout_format": "d",
      "step": 1,
      "style": "IPY_MODEL_eaa82b7fdcc448febed217b1669aaa50",
      "value": 0
     }
    },
    "d2330caaed8d4aecafa4dd3be4b43955": {
     "model_module": "@jupyter-widgets/base",
     "model_name": "LayoutModel",
     "state": {
      "_model_module": "@jupyter-widgets/base",
      "_model_module_version": "1.2.0",
      "_model_name": "LayoutModel",
      "_view_count": null,
      "_view_module": "@jupyter-widgets/base",
      "_view_module_version": "1.2.0",
      "_view_name": "LayoutView",
      "align_content": null,
      "align_items": null,
      "align_self": null,
      "border": null,
      "bottom": null,
      "display": null,
      "flex": null,
      "flex_flow": null,
      "grid_area": null,
      "grid_auto_columns": null,
      "grid_auto_flow": null,
      "grid_auto_rows": null,
      "grid_column": null,
      "grid_gap": null,
      "grid_row": null,
      "grid_template_areas": null,
      "grid_template_columns": null,
      "grid_template_rows": null,
      "height": null,
      "justify_content": null,
      "justify_items": null,
      "left": null,
      "margin": null,
      "max_height": null,
      "max_width": null,
      "min_height": null,
      "min_width": null,
      "object_fit": null,
      "object_position": null,
      "order": null,
      "overflow": null,
      "overflow_x": null,
      "overflow_y": null,
      "padding": null,
      "right": null,
      "top": null,
      "visibility": null,
      "width": null
     }
    },
    "d8e5c7b3970f4cc68472858802960325": {
     "model_module": "@jupyter-widgets/base",
     "model_name": "LayoutModel",
     "state": {
      "_model_module": "@jupyter-widgets/base",
      "_model_module_version": "1.2.0",
      "_model_name": "LayoutModel",
      "_view_count": null,
      "_view_module": "@jupyter-widgets/base",
      "_view_module_version": "1.2.0",
      "_view_name": "LayoutView",
      "align_content": null,
      "align_items": null,
      "align_self": null,
      "border": null,
      "bottom": null,
      "display": null,
      "flex": null,
      "flex_flow": null,
      "grid_area": null,
      "grid_auto_columns": null,
      "grid_auto_flow": null,
      "grid_auto_rows": null,
      "grid_column": null,
      "grid_gap": null,
      "grid_row": null,
      "grid_template_areas": null,
      "grid_template_columns": null,
      "grid_template_rows": null,
      "height": null,
      "justify_content": null,
      "justify_items": null,
      "left": null,
      "margin": null,
      "max_height": null,
      "max_width": null,
      "min_height": null,
      "min_width": null,
      "object_fit": null,
      "object_position": null,
      "order": null,
      "overflow": null,
      "overflow_x": null,
      "overflow_y": null,
      "padding": null,
      "right": null,
      "top": null,
      "visibility": null,
      "width": null
     }
    },
    "dc1a00465f1849308f05f4d5c924d042": {
     "model_module": "@jupyter-widgets/controls",
     "model_name": "SliderStyleModel",
     "state": {
      "_model_module": "@jupyter-widgets/controls",
      "_model_module_version": "1.5.0",
      "_model_name": "SliderStyleModel",
      "_view_count": null,
      "_view_module": "@jupyter-widgets/base",
      "_view_module_version": "1.2.0",
      "_view_name": "StyleView",
      "description_width": "",
      "handle_color": null
     }
    },
    "ddbed3a7663d434c8cdeaf712e04c815": {
     "model_module": "@jupyter-widgets/controls",
     "model_name": "IntSliderModel",
     "state": {
      "_dom_classes": [],
      "_model_module": "@jupyter-widgets/controls",
      "_model_module_version": "1.5.0",
      "_model_name": "IntSliderModel",
      "_view_count": null,
      "_view_module": "@jupyter-widgets/controls",
      "_view_module_version": "1.5.0",
      "_view_name": "IntSliderView",
      "continuous_update": true,
      "description": "shape",
      "description_tooltip": null,
      "disabled": false,
      "layout": "IPY_MODEL_e26e588eed27448aac054d417c95f7d1",
      "max": 2,
      "min": 0,
      "orientation": "horizontal",
      "readout": true,
      "readout_format": "d",
      "step": 1,
      "style": "IPY_MODEL_9d7ad9c83cb2470b9607836dddfc776c",
      "value": 0
     }
    },
    "e26e588eed27448aac054d417c95f7d1": {
     "model_module": "@jupyter-widgets/base",
     "model_name": "LayoutModel",
     "state": {
      "_model_module": "@jupyter-widgets/base",
      "_model_module_version": "1.2.0",
      "_model_name": "LayoutModel",
      "_view_count": null,
      "_view_module": "@jupyter-widgets/base",
      "_view_module_version": "1.2.0",
      "_view_name": "LayoutView",
      "align_content": null,
      "align_items": null,
      "align_self": null,
      "border": null,
      "bottom": null,
      "display": null,
      "flex": null,
      "flex_flow": null,
      "grid_area": null,
      "grid_auto_columns": null,
      "grid_auto_flow": null,
      "grid_auto_rows": null,
      "grid_column": null,
      "grid_gap": null,
      "grid_row": null,
      "grid_template_areas": null,
      "grid_template_columns": null,
      "grid_template_rows": null,
      "height": null,
      "justify_content": null,
      "justify_items": null,
      "left": null,
      "margin": null,
      "max_height": null,
      "max_width": null,
      "min_height": null,
      "min_width": null,
      "object_fit": null,
      "object_position": null,
      "order": null,
      "overflow": null,
      "overflow_x": null,
      "overflow_y": null,
      "padding": null,
      "right": null,
      "top": null,
      "visibility": null,
      "width": null
     }
    },
    "ea79916795b44d5784fc213a36c66874": {
     "model_module": "@jupyter-widgets/base",
     "model_name": "LayoutModel",
     "state": {
      "_model_module": "@jupyter-widgets/base",
      "_model_module_version": "1.2.0",
      "_model_name": "LayoutModel",
      "_view_count": null,
      "_view_module": "@jupyter-widgets/base",
      "_view_module_version": "1.2.0",
      "_view_name": "LayoutView",
      "align_content": null,
      "align_items": null,
      "align_self": null,
      "border": null,
      "bottom": null,
      "display": null,
      "flex": null,
      "flex_flow": null,
      "grid_area": null,
      "grid_auto_columns": null,
      "grid_auto_flow": null,
      "grid_auto_rows": null,
      "grid_column": null,
      "grid_gap": null,
      "grid_row": null,
      "grid_template_areas": null,
      "grid_template_columns": null,
      "grid_template_rows": null,
      "height": null,
      "justify_content": null,
      "justify_items": null,
      "left": null,
      "margin": null,
      "max_height": null,
      "max_width": null,
      "min_height": null,
      "min_width": null,
      "object_fit": null,
      "object_position": null,
      "order": null,
      "overflow": null,
      "overflow_x": null,
      "overflow_y": null,
      "padding": null,
      "right": null,
      "top": null,
      "visibility": null,
      "width": null
     }
    },
    "eaa82b7fdcc448febed217b1669aaa50": {
     "model_module": "@jupyter-widgets/controls",
     "model_name": "SliderStyleModel",
     "state": {
      "_model_module": "@jupyter-widgets/controls",
      "_model_module_version": "1.5.0",
      "_model_name": "SliderStyleModel",
      "_view_count": null,
      "_view_module": "@jupyter-widgets/base",
      "_view_module_version": "1.2.0",
      "_view_name": "StyleView",
      "description_width": "",
      "handle_color": null
     }
    },
    "edfdfb399c77419e91113fdd464bfa6b": {
     "model_module": "@jupyter-widgets/controls",
     "model_name": "VBoxModel",
     "state": {
      "_dom_classes": [
       "widget-interact"
      ],
      "_model_module": "@jupyter-widgets/controls",
      "_model_module_version": "1.5.0",
      "_model_name": "VBoxModel",
      "_view_count": null,
      "_view_module": "@jupyter-widgets/controls",
      "_view_module_version": "1.5.0",
      "_view_name": "VBoxView",
      "box_style": "",
      "children": [
       "IPY_MODEL_ddbed3a7663d434c8cdeaf712e04c815",
       "IPY_MODEL_32550cb7a1884ed7a12a6d20109cad1e",
       "IPY_MODEL_7f383cc53cb44c2a8b015f0d6634c8af",
       "IPY_MODEL_8ab0f1b291b04c47bbddf995d254d7cb",
       "IPY_MODEL_c9b3e36b2d7b42a1bdbe98d0a20acd38",
       "IPY_MODEL_026a208537e34f09a62f5ad3afbfe118"
      ],
      "layout": "IPY_MODEL_10b85cb457a2489cb6da52c0009ff28a"
     }
    },
    "fef4468a595d4fcc87591546a8043fd7": {
     "model_module": "@jupyter-widgets/controls",
     "model_name": "IntSliderModel",
     "state": {
      "_dom_classes": [],
      "_model_module": "@jupyter-widgets/controls",
      "_model_module_version": "1.5.0",
      "_model_name": "IntSliderModel",
      "_view_count": null,
      "_view_module": "@jupyter-widgets/controls",
      "_view_module_version": "1.5.0",
      "_view_name": "IntSliderView",
      "continuous_update": true,
      "description": "x",
      "description_tooltip": null,
      "disabled": false,
      "layout": "IPY_MODEL_12724de4f0624e83adf7817b56349748",
      "max": 255,
      "min": 0,
      "orientation": "horizontal",
      "readout": true,
      "readout_format": "d",
      "step": 1,
      "style": "IPY_MODEL_bcc97dc766224b9babceea22f82c8f02",
      "value": 88
     }
    }
   }
  }
 },
 "nbformat": 4,
 "nbformat_minor": 1
}
